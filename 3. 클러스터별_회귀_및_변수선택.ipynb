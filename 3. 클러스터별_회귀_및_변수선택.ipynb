{
 "cells": [
  {
   "cell_type": "code",
   "execution_count": 2,
   "metadata": {},
   "outputs": [],
   "source": [
    "import pandas as pd\n",
    "import numpy as np\n",
    "import seaborn as sns\n",
    "import matplotlib.pyplot as plt\n",
    "import scipy.stats as stats\n",
    "import statsmodels.api as sm\n",
    "import statsmodels.formula.api as smf\n",
    "from scipy.stats import t\n",
    "plt.rcParams.update({'figure.max_open_warning': 0})\n",
    "import matplotlib\n",
    "import glob\n",
    "import os\n",
    "\n",
    "from scipy.stats import trim_mean\n",
    "from statsmodels import robust\n",
    "from matplotlib import font_manager, rc\n",
    "%matplotlib inline\n",
    "from matplotlib import cm \n",
    "import gc  # garbage collection\n",
    "from sklearn.cluster import KMeans  # k-means 군집분석\n",
    "from sklearn.metrics import silhouette_score  # 군집분석 평가를 위한 silhouette 값 계산\n",
    "\n",
    "pd.set_option('max_columns', 20, 'max_rows', 20)\n",
    "\n",
    "%matplotlib inline\n",
    "\n",
    "# 한글 폰트 설정|\n",
    "import platform\n",
    "your_os = platform.system()\n",
    "if your_os == 'Linux':\n",
    "    rc('font', family='NanumGothic')\n",
    "elif your_os == 'Windows':\n",
    "    ttf = \"c:/Windows/Fonts/malgun.ttf\"\n",
    "    font_name = font_manager.FontProperties(fname=ttf).get_name()\n",
    "    rc('font', family=font_name)\n",
    "elif your_os == 'Darwin':\n",
    "    rc('font', family='AppleGothic')\n",
    "rc('axes', unicode_minus=False)"
   ]
  },
  {
   "cell_type": "code",
   "execution_count": 3,
   "metadata": {},
   "outputs": [],
   "source": [
    "from sklearn import preprocessing\n",
    "from sklearn.preprocessing import StandardScaler"
   ]
  },
  {
   "cell_type": "code",
   "execution_count": 4,
   "metadata": {},
   "outputs": [],
   "source": [
    "base = pd.read_csv('../data/processed_data/regression.csv', encoding='cp949')\n",
    "give_final = pd.read_csv('../data/processed_data/modeling.csv', encoding='cp949')"
   ]
  },
  {
   "cell_type": "code",
   "execution_count": 5,
   "metadata": {},
   "outputs": [],
   "source": [
    "cluster_result = pd.read_csv('../data/processed_data/dong_cluster_result_5.csv', encoding='cp949')\n",
    "cluster_result = cluster_result.rename(columns = {'emd_nm': '읍면동'})\n",
    "cluster_result = cluster_result.iloc[:,:2]"
   ]
  },
  {
   "cell_type": "code",
   "execution_count": 6,
   "metadata": {},
   "outputs": [],
   "source": [
    "give_final = pd.merge(give_final, cluster_result)"
   ]
  },
  {
   "cell_type": "code",
   "execution_count": 7,
   "metadata": {},
   "outputs": [
    {
     "data": {
      "text/plain": [
       "(53634, 79)"
      ]
     },
     "execution_count": 7,
     "metadata": {},
     "output_type": "execute_result"
    }
   ],
   "source": [
    "give_final.shape"
   ]
  },
  {
   "cell_type": "code",
   "execution_count": 8,
   "metadata": {},
   "outputs": [],
   "source": [
    "base = pd.merge(base, cluster_result)"
   ]
  },
  {
   "cell_type": "code",
   "execution_count": 9,
   "metadata": {},
   "outputs": [],
   "source": [
    "## 범주형 변수 One-hot\n",
    "target = base['요일']\n",
    "num = np.unique(target, axis=0)\n",
    "num = num.shape[0]\n",
    "encoding = np.eye(num)[target]\n",
    "요일 = pd.DataFrame(encoding, columns = ['월요일','화요일','수요일','목요일','금요일','토요일','일요일']).astype('int')\n",
    "base = pd.concat([base, 요일], axis=1)\n",
    "\n",
    "target = base['주말및공휴일여부']\n",
    "num = np.unique(target, axis=0)\n",
    "num = num.shape[0]\n",
    "encoding = np.eye(num)[target]\n",
    "공휴일 = pd.DataFrame(encoding, columns = ['공휴일_X','공휴일_O']).astype('int')\n",
    "base = pd.concat([base, 공휴일], axis=1)\n",
    "\n",
    "target = base['코로나발생여부']\n",
    "num = np.unique(target, axis=0)\n",
    "num = num.shape[0]\n",
    "encoding = np.eye(num)[target]\n",
    "코로나 = pd.DataFrame(encoding, columns = ['코로나_X','코로나_O']).astype('int')\n",
    "base = pd.concat([base, 코로나], axis=1)\n",
    "\n",
    "target = base['성수기여부']\n",
    "num = np.unique(target, axis=0)\n",
    "num = num.shape[0]\n",
    "encoding = np.eye(num)[target]\n",
    "성수기 = pd.DataFrame(encoding, columns = ['성수기_X','성수기_O']).astype('int')\n",
    "base = pd.concat([base, 성수기], axis=1)\n",
    "\n",
    "target = base['월']\n",
    "월 = pd.get_dummies(target)\n",
    "월.columns = ['1월','2월','3월','4월','5월','6월','7월','8월','9월','10월','11월','12월']\n",
    "base = pd.concat([base, 월], axis=1)\n",
    "base.drop(['요일','월','주말및공휴일여부', '코로나발생여부','성수기여부'],axis=1,inplace=True)"
   ]
  },
  {
   "cell_type": "code",
   "execution_count": 10,
   "metadata": {},
   "outputs": [],
   "source": [
    "non_numeric_X = ['일자','읍면동','cluster_result','월요일', '화요일', '수요일',\n",
    "       '목요일', '금요일', '토요일', '일요일', '공휴일_X', '공휴일_O', '코로나_X', '코로나_O', '성수기_X',\n",
    "       '성수기_O', '1월', '2월', '3월', '4월', '5월', '6월', '7월', '8월', '9월', '10월',\n",
    "       '11월', '12월']"
   ]
  },
  {
   "cell_type": "code",
   "execution_count": 11,
   "metadata": {},
   "outputs": [],
   "source": [
    "Y = ['일별배출량합계']"
   ]
  },
  {
   "cell_type": "code",
   "execution_count": 12,
   "metadata": {
    "scrolled": false
   },
   "outputs": [],
   "source": [
    "numeric_X = list(set(set(list(base.columns)) - set(non_numeric_X) - set(Y)))"
   ]
  },
  {
   "cell_type": "code",
   "execution_count": 13,
   "metadata": {},
   "outputs": [],
   "source": [
    "non_numeric_X_df = base[non_numeric_X]"
   ]
  },
  {
   "cell_type": "code",
   "execution_count": 14,
   "metadata": {
    "scrolled": true
   },
   "outputs": [],
   "source": [
    "numeric_X_df = base[numeric_X]"
   ]
  },
  {
   "cell_type": "code",
   "execution_count": 15,
   "metadata": {},
   "outputs": [],
   "source": [
    "def mean_norm(df_input):\n",
    "    return df_input.apply(lambda x: (x-x.mean())/ x.std(), axis=0)"
   ]
  },
  {
   "cell_type": "code",
   "execution_count": 16,
   "metadata": {},
   "outputs": [],
   "source": [
    "numeric_X_df = mean_norm(numeric_X_df)"
   ]
  },
  {
   "cell_type": "code",
   "execution_count": 17,
   "metadata": {},
   "outputs": [],
   "source": [
    "Y_df = base[Y]"
   ]
  },
  {
   "cell_type": "code",
   "execution_count": 18,
   "metadata": {},
   "outputs": [
    {
     "name": "stderr",
     "output_type": "stream",
     "text": [
      "/Users/jwo0201/anaconda3/lib/python3.7/site-packages/ipykernel_launcher.py:1: SettingWithCopyWarning: \n",
      "A value is trying to be set on a copy of a slice from a DataFrame.\n",
      "Try using .loc[row_indexer,col_indexer] = value instead\n",
      "\n",
      "See the caveats in the documentation: https://pandas.pydata.org/pandas-docs/stable/user_guide/indexing.html#returning-a-view-versus-a-copy\n",
      "  \"\"\"Entry point for launching an IPython kernel.\n"
     ]
    }
   ],
   "source": [
    "Y_df['일별배출량합계_log'] = Y_df['일별배출량합계'].apply(lambda x: np.log(x+1))    "
   ]
  },
  {
   "cell_type": "code",
   "execution_count": 19,
   "metadata": {},
   "outputs": [],
   "source": [
    "Y_df = Y_df.iloc[:,1:]"
   ]
  },
  {
   "cell_type": "code",
   "execution_count": 20,
   "metadata": {},
   "outputs": [],
   "source": [
    "features = pd.concat([non_numeric_X_df, numeric_X_df], axis=1)\n",
    "features = pd.concat([features, Y_df], axis=1)"
   ]
  },
  {
   "cell_type": "code",
   "execution_count": 21,
   "metadata": {},
   "outputs": [
    {
     "name": "stderr",
     "output_type": "stream",
     "text": [
      "/Users/jwo0201/anaconda3/lib/python3.7/site-packages/ipykernel_launcher.py:4: SettingWithCopyWarning: \n",
      "A value is trying to be set on a copy of a slice from a DataFrame.\n",
      "Try using .loc[row_indexer,col_indexer] = value instead\n",
      "\n",
      "See the caveats in the documentation: https://pandas.pydata.org/pandas-docs/stable/user_guide/indexing.html#returning-a-view-versus-a-copy\n",
      "  after removing the cwd from sys.path.\n",
      "/Users/jwo0201/anaconda3/lib/python3.7/site-packages/ipykernel_launcher.py:4: SettingWithCopyWarning: \n",
      "A value is trying to be set on a copy of a slice from a DataFrame.\n",
      "Try using .loc[row_indexer,col_indexer] = value instead\n",
      "\n",
      "See the caveats in the documentation: https://pandas.pydata.org/pandas-docs/stable/user_guide/indexing.html#returning-a-view-versus-a-copy\n",
      "  after removing the cwd from sys.path.\n",
      "/Users/jwo0201/anaconda3/lib/python3.7/site-packages/ipykernel_launcher.py:4: SettingWithCopyWarning: \n",
      "A value is trying to be set on a copy of a slice from a DataFrame.\n",
      "Try using .loc[row_indexer,col_indexer] = value instead\n",
      "\n",
      "See the caveats in the documentation: https://pandas.pydata.org/pandas-docs/stable/user_guide/indexing.html#returning-a-view-versus-a-copy\n",
      "  after removing the cwd from sys.path.\n",
      "/Users/jwo0201/anaconda3/lib/python3.7/site-packages/ipykernel_launcher.py:4: SettingWithCopyWarning: \n",
      "A value is trying to be set on a copy of a slice from a DataFrame.\n",
      "Try using .loc[row_indexer,col_indexer] = value instead\n",
      "\n",
      "See the caveats in the documentation: https://pandas.pydata.org/pandas-docs/stable/user_guide/indexing.html#returning-a-view-versus-a-copy\n",
      "  after removing the cwd from sys.path.\n",
      "/Users/jwo0201/anaconda3/lib/python3.7/site-packages/ipykernel_launcher.py:4: SettingWithCopyWarning: \n",
      "A value is trying to be set on a copy of a slice from a DataFrame.\n",
      "Try using .loc[row_indexer,col_indexer] = value instead\n",
      "\n",
      "See the caveats in the documentation: https://pandas.pydata.org/pandas-docs/stable/user_guide/indexing.html#returning-a-view-versus-a-copy\n",
      "  after removing the cwd from sys.path.\n"
     ]
    }
   ],
   "source": [
    "for j in range(5):\n",
    "    final_df = pd.DataFrame(columns = ['변수명','R_2', 'ad_R_2', 'P_value', 'coef'])\n",
    "    df = features[features['cluster_result'] == j]\n",
    "    df['intercept'] = 1\n",
    "    \n",
    "    ## 수치형 변수\n",
    "    for i in list(features.columns)[3:-1]:\n",
    "        lm = sm.OLS(df['일별배출량합계_log'], df[['intercept', i]])\n",
    "        results = lm.fit()\n",
    "        new_df = pd.DataFrame(columns = ['변수명', 'R_2', 'ad_R_2', 'P_value', 'coef'])\n",
    "        new_df['변수명'] = [i]\n",
    "        new_df['R_2'] = [results.rsquared]\n",
    "        new_df['ad_R_2'] = [results.rsquared_adj]\n",
    "        new_df['P_value'] = [results.pvalues[i]]\n",
    "        new_df['coef'] = [results.params[i]]\n",
    "        final_df = pd.concat([final_df, new_df])\n",
    "    \n",
    "    final_df.to_csv('../data/processed_data/cluster_{}_features_단순선형회귀.csv'.format(j), encoding='cp949', index=False)"
   ]
  },
  {
   "cell_type": "code",
   "execution_count": 46,
   "metadata": {
    "scrolled": false
   },
   "outputs": [
    {
     "name": "stdout",
     "output_type": "stream",
     "text": [
      "중복된 변수 : ['일별외식소비합계', '일배출횟수합계', '남_내거주', '남_총거주', '소비액합계', '여_총거주', '일배출금액합계', '여_내거주', '남녀_총거주', '일지출횟수합계', '총_내거주', '여성_거주평균', '일별내식소비합계']\n",
      "                      \n",
      "                      \n",
      "---- 0 클러스터 중복 X 변수 ----\n",
      "['저녁_거주인구', '노인거주인구', '남성_근무평균', '아침_거주인구', '저녁_근무인구', '저녁_방문인구', '남성_거주평균', '점심_거주인구']\n",
      "                      \n",
      "                      \n",
      "---- 1 클러스터 중복 X 변수 ----\n",
      "['저녁_거주인구', '총_외거주', '아침_장외_거주인구', '노인거주인구', '남_외거주', '아침_거주인구', '여_외거주', '회당배출금액', '회당배출량', '남성_거주평균', '점심_거주인구']\n",
      "                      \n",
      "                      \n",
      "---- 2 클러스터 중복 X 변수 ----\n",
      "['저녁_거주인구', '여성_근무평균', '노인거주인구', '남성_방문평균', '여성_방문평균', '아침_방문인구', '남성_근무평균', '아침_거주인구', '회당배출금액', '회당배출량', '저녁_근무인구', '아침_근무인구', '저녁_방문인구', '남성_거주평균', '점심_방문인구', '점심_거주인구', '점심_근무인구']\n",
      "                      \n",
      "                      \n",
      "---- 3 클러스터 중복 X 변수 ----\n",
      "['아침_장외_거주인구', '여성_근무평균', '노인거주인구', '장외_거주평균', '남성_방문평균', '남성_근무평균', '저녁_근무인구', '점심_장외_근무인구', '남성_거주평균', '점심_거주인구', '저녁_거주인구', '저녁_장외_거주인구', '여_외거주', '아침_거주인구', '회당배출금액', '점심_근무인구', '총_외거주', '남_외거주', '여성_방문평균', '점심_장외_거주인구', '저녁_장외_근무인구', '회당배출량', '장외_근무평균']\n",
      "                      \n",
      "                      \n",
      "---- 4 클러스터 중복 X 변수 ----\n",
      "['장외_방문평균', '저녁_장외_방문인구', '회당배출금액', '회당배출량', '점심_장외_방문인구']\n",
      "                      \n",
      "                      \n"
     ]
    }
   ],
   "source": [
    "a = list(pd.read_csv('../data/processed_data/cluster_0_features_단순선형회귀.csv', encoding='cp949').query('P_value <= 0.05 & R_2 >= 0.3').sort_values(by=['R_2','coef'], ascending=False).변수명.values)\n",
    "b = list(pd.read_csv('../data/processed_data/cluster_1_features_단순선형회귀.csv', encoding='cp949').query('P_value <= 0.05 & R_2 >= 0.3').sort_values(by=['R_2','coef'], ascending=False).변수명.values)\n",
    "c = list(pd.read_csv('../data/processed_data/cluster_2_features_단순선형회귀.csv', encoding='cp949').query('P_value <= 0.05 & R_2 >= 0.3').sort_values(by=['R_2','coef'], ascending=False).변수명.values)\n",
    "d = list(pd.read_csv('../data/processed_data/cluster_3_features_단순선형회귀.csv', encoding='cp949').query('P_value <= 0.05 & R_2 >= 0.3').sort_values(by=['R_2','coef'], ascending=False).변수명.values)\n",
    "e = list(pd.read_csv('../data/processed_data/cluster_4_features_단순선형회귀.csv', encoding='cp949').query('P_value <= 0.05 & R_2 >= 0.3').sort_values(by=['R_2','coef'], ascending=False).변수명.values)\n",
    "\n",
    "cluster_list = [a,b,c,d,e]\n",
    "\n",
    "duplicates = set(a) & set(b) & set(c) & set(d) & set(e)\n",
    "print('중복된 변수', ':', list(duplicates))\n",
    "print('                      ')\n",
    "print('                      ')\n",
    "\n",
    "num = 0\n",
    "for i in cluster_list:\n",
    "    print('----',num,'클러스터 중복 X 변수','----')\n",
    "    print(list(set(i) - duplicates))\n",
    "    print('                      ')\n",
    "    print('                      ')\n",
    "    num += 1"
   ]
  },
  {
   "cell_type": "code",
   "execution_count": 47,
   "metadata": {},
   "outputs": [],
   "source": [
    "chuchul = ['일자', '읍면동', '월', '요일', '코로나발생여부', '주말및공휴일여부', '성수기여부']"
   ]
  },
  {
   "cell_type": "code",
   "execution_count": 48,
   "metadata": {},
   "outputs": [],
   "source": [
    "aaa_0 = chuchul + a  + Y\n",
    "aaa_1 = chuchul + b  + Y\n",
    "aaa_2 = chuchul + c  + Y\n",
    "aaa_3 = chuchul + d  + Y\n",
    "aaa_4 = chuchul + e  + Y"
   ]
  },
  {
   "cell_type": "code",
   "execution_count": 49,
   "metadata": {
    "scrolled": true
   },
   "outputs": [
    {
     "name": "stdout",
     "output_type": "stream",
     "text": [
      "---------------------\n",
      "(16601, 29)\n",
      "13.0\n",
      "(5108, 32)\n",
      "4.0\n",
      "(14047, 38)\n",
      "11.0\n",
      "(7662, 44)\n",
      "6.0\n",
      "(10216, 26)\n",
      "8.0\n"
     ]
    }
   ],
   "source": [
    "print('---------------------')\n",
    "ttt = give_final[give_final.cluster_result == 0]\n",
    "ttt_final = ttt[aaa_0].reset_index(drop=True).sort_values(by=['일자','읍면동']).reset_index(drop=True)\n",
    "ttt_final.to_csv('../data/processed_data/클러스터_0_최종피쳐.csv', index=False, encoding='cp949')\n",
    "print(ttt_final.shape)\n",
    "print(ttt_final.shape[0]/1277)\n",
    "\n",
    "ttt = give_final[give_final.cluster_result == 1]\n",
    "ttt_final = ttt[aaa_1].reset_index(drop=True).sort_values(by=['일자','읍면동']).reset_index(drop=True)\n",
    "ttt_final.to_csv('../data/processed_data/클러스터_1_최종피쳐.csv', index=False, encoding='cp949')\n",
    "print(ttt_final.shape)\n",
    "print(ttt_final.shape[0]/1277)\n",
    "\n",
    "ttt = give_final[give_final.cluster_result == 2]\n",
    "ttt_final = ttt[aaa_2].reset_index(drop=True).sort_values(by=['일자','읍면동']).reset_index(drop=True)\n",
    "ttt_final.to_csv('../data/processed_data/클러스터_2_최종피쳐.csv', index=False, encoding='cp949')\n",
    "print(ttt_final.shape)\n",
    "print(ttt_final.shape[0]/1277)\n",
    "\n",
    "ttt = give_final[give_final.cluster_result == 3]\n",
    "ttt_final = ttt[aaa_3].reset_index(drop=True).sort_values(by=['일자','읍면동']).reset_index(drop=True)\n",
    "ttt_final.to_csv('../data/processed_data/클러스터_3_최종피쳐.csv', index=False, encoding='cp949')\n",
    "print(ttt_final.shape)\n",
    "print(ttt_final.shape[0]/1277)\n",
    "\n",
    "ttt = give_final[give_final.cluster_result == 4]\n",
    "ttt_final = ttt[aaa_4].reset_index(drop=True).sort_values(by=['일자','읍면동']).reset_index(drop=True)\n",
    "ttt_final.to_csv('../data/processed_data/클러스터_4_최종피쳐.csv', index=False, encoding='cp949')\n",
    "print(ttt_final.shape)\n",
    "print(ttt_final.shape[0]/1277)\n"
   ]
  }
 ],
 "metadata": {
  "kernelspec": {
   "display_name": "Python 3",
   "language": "python",
   "name": "python3"
  },
  "language_info": {
   "codemirror_mode": {
    "name": "ipython",
    "version": 3
   },
   "file_extension": ".py",
   "mimetype": "text/x-python",
   "name": "python",
   "nbconvert_exporter": "python",
   "pygments_lexer": "ipython3",
   "version": "3.7.9"
  }
 },
 "nbformat": 4,
 "nbformat_minor": 4
}
