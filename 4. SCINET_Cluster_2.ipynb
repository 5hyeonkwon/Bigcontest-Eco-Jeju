{
 "cells": [
  {
   "cell_type": "code",
   "execution_count": 1,
   "metadata": {},
   "outputs": [],
   "source": [
    "# Library\n",
    "import pandas as pd\n",
    "import matplotlib.pyplot as plt\n",
    "import numpy as np\n",
    "import imageio\n",
    "from PIL import Image\n",
    "import matplotlib.image as mpimg\n",
    "from typing import Tuple\n",
    "import os\n",
    "import random\n",
    "import math\n",
    "import pandas as pd\n",
    "import numpy as np\n",
    "import tensorflow as tf\n",
    "from joblib import dump, load\n",
    "from collections import namedtuple\n",
    "from sklearn.preprocessing import MinMaxScaler, RobustScaler, StandardScaler\n",
    "import seaborn as sns\n",
    "\n",
    "from tensorflow.keras import optimizers\n",
    "from tensorflow.keras.models import Sequential, load_model\n",
    "from tensorflow.keras.layers import LSTM, Dense, Dropout, Masking\n",
    "from tensorflow.keras.regularizers import L1L2\n",
    "from tensorflow.keras.callbacks import EarlyStopping\n",
    "from tensorflow.keras.metrics import RootMeanSquaredError, MeanAbsoluteError\n",
    "from tensorflow.keras.callbacks import Callback\n",
    "\n",
    "from sklearn.base import TransformerMixin\n",
    "from sklearn.impute import SimpleImputer"
   ]
  },
  {
   "cell_type": "code",
   "execution_count": 2,
   "metadata": {},
   "outputs": [
    {
     "name": "stdout",
     "output_type": "stream",
     "text": [
      "1 Physical GPUs, 1 Logical GPUs\n"
     ]
    }
   ],
   "source": [
    "# GPU 할당량 조정\n",
    "gpus = tf.config.experimental.list_physical_devices('GPU')\n",
    "if gpus:\n",
    "  # Restrict TensorFlow to only allocate 1GB of memory on the first GPU\n",
    "  try:\n",
    "    tf.config.experimental.set_virtual_device_configuration(\n",
    "        gpus[0],\n",
    "        [tf.config.experimental.VirtualDeviceConfiguration(memory_limit=1024*3.5)]) # 1660super 총 vram 6gb 중 5.5gb 할당\n",
    "    logical_gpus = tf.config.experimental.list_logical_devices('GPU')\n",
    "    print(len(gpus), \"Physical GPUs,\", len(logical_gpus), \"Logical GPUs\")\n",
    "  except RuntimeError as e:\n",
    "    # Virtual devices must be set before GPUs have been initialized\n",
    "    print(e)"
   ]
  },
  {
   "cell_type": "code",
   "execution_count": 3,
   "metadata": {
    "id": "Q9I9IsMAqZxX"
   },
   "outputs": [],
   "source": [
    "class InnerConv1DBlock(tf.keras.layers.Layer):\n",
    "    def __init__(self, filters: int, h: int, kernel_size: int, neg_slope: float = .01, dropout: float = .5,\n",
    "                 name: str = ''):\n",
    "        super(InnerConv1DBlock, self).__init__(name=name)\n",
    "        self.conv1d = tf.keras.layers.Conv1D(h * filters, kernel_size, padding='same')\n",
    "        self.leakyrelu = tf.keras.layers.LeakyReLU(neg_slope)\n",
    "\n",
    "        self.dropout = tf.keras.layers.Dropout(dropout)\n",
    "\n",
    "        self.conv1d2 = tf.keras.layers.Conv1D(filters, kernel_size, padding='same')\n",
    "        self.tanh = tf.keras.activations.tanh\n",
    "\n",
    "    def call(self, input_tensor):\n",
    "        x = self.conv1d(input_tensor)\n",
    "        x = self.leakyrelu(x)\n",
    "\n",
    "        x = self.dropout(x)\n",
    "\n",
    "        x = self.conv1d2(x)\n",
    "        x = self.tanh(x)\n",
    "        return x\n",
    "\n",
    "\n",
    "class Exp(tf.keras.layers.Layer):\n",
    "    def __init__(self, **kwargs):\n",
    "        super(Exp, self).__init__(**kwargs)\n",
    "\n",
    "    def call(self, inputs):\n",
    "        return tf.math.exp(inputs)\n",
    "\n",
    "\n",
    "class Split(tf.keras.layers.Layer):\n",
    "    def __init__(self, **kwargs):\n",
    "        super(Split, self).__init__(**kwargs)\n",
    "\n",
    "    def call(self, inputs):\n",
    "        return inputs[:, ::2], inputs[:, 1::2]\n",
    "\n",
    "class Attention(tf.keras.layers.Layer):\n",
    "\n",
    "    def __init__(self, units=64, shape = (1,1,1), **kwargs):\n",
    "        super(Attention, self).__init__(**kwargs)\n",
    "        self.units = units\n",
    "        self.dense1 = tf.keras.layers.Dense(units=shape[2], use_bias = False, name='attention_score_vec')\n",
    "        self.lambda_ = tf.keras.layers.Lambda(lambda x : x[:,-1,:], output_shape=(shape[2],),name='last_hidden_state')\n",
    "        # x.mean(axis = 1) - image attention, \n",
    "        self.dot1 = tf.keras.layers.Dot(axes=[1, 2], name='attention_score')\n",
    "        self.activation = tf.keras.layers.Activation('softmax', name='attention_weight')\n",
    "        self.dot2 =  tf.keras.layers.Dot(axes=[1, 1], name='context_vector')\n",
    "        self.concat =  tf.keras.layers.Concatenate(name='attention_output')\n",
    "        self.dense2 = tf.keras.layers.Dense(self.units, use_bias=False, activation='tanh', name='attention_vector')\n",
    "        self.attention_weight = []\n",
    "\n",
    "    def call(self, inputs):\n",
    "\n",
    "        hidden_states = inputs\n",
    "\n",
    "        score_first_part = self.dense1(hidden_states)\n",
    "        #            score_first_part           dot        last_hidden_state     => attention_weights\n",
    "        # (batch_size, time_steps, hidden_size) dot   (batch_size, hidden_size)  => (batch_size, time_steps)\n",
    "        h_t = self.lambda_(hidden_states)\n",
    "        score =self.dot1([h_t, score_first_part]) # batch, time_stamps\n",
    "        self.attention_weight = score # batch , time_stamps\n",
    "        attention_weights = self.activation(score)\n",
    "        # (batch_size, time_steps, hidden_size) dot (batch_size, time_steps) => (batch_size, hidden_size)\n",
    "        context_vector = self.dot2([hidden_states, attention_weights]) # batch_size, n_features\n",
    "        pre_activation = self.concat([context_vector, h_t])\n",
    "        attention_vector =self.dense2(pre_activation)\n",
    "        return attention_vector, context_vector\n",
    "\n",
    "    def get_config(self):\n",
    "        return {'Attention_weights': self.attention_weight}\n",
    "\n",
    "\n",
    "\n",
    "class SciBlock(tf.keras.layers.Layer):\n",
    "    def __init__(self, kernel_size: int, h: int):\n",
    "        super(SciBlock, self).__init__()\n",
    "        self.kernel_size = kernel_size\n",
    "        self.h = h\n",
    "\n",
    "        self.split = Split()\n",
    "        self.exp = Exp()\n",
    "\n",
    "    def build(self, input_shape):\n",
    "        _, _, filters = input_shape\n",
    "\n",
    "        self.psi = InnerConv1DBlock(filters, self.h, self.kernel_size, name='psi')\n",
    "        self.phi = InnerConv1DBlock(filters, self.h, self.kernel_size, name='phi')\n",
    "        self.eta = InnerConv1DBlock(filters, self.h, self.kernel_size, name='eta')\n",
    "        self.rho = InnerConv1DBlock(filters, self.h, self.kernel_size, name='rho')\n",
    "\n",
    "    def call(self, input_tensor):\n",
    "        F_odd, F_even = self.split(input_tensor)\n",
    "\n",
    "        F_s_odd = F_odd * self.exp(self.phi(F_even))\n",
    "        F_s_even = F_even * self.exp(self.psi(F_s_odd))\n",
    "\n",
    "        F_prime_odd = F_s_odd + self.rho(F_s_even)\n",
    "        F_prime_even = F_s_even - self.eta(F_s_odd)\n",
    "\n",
    "        return F_prime_odd, F_prime_even\n",
    "\n",
    "\n",
    "class Interleave(tf.keras.layers.Layer):\n",
    "    def __init__(self):\n",
    "        super(Interleave, self).__init__()\n",
    "\n",
    "    def interleave(self, slices):\n",
    "        if not slices:\n",
    "            return slices\n",
    "        elif len(slices) == 1:\n",
    "            return slices[0]\n",
    "\n",
    "        mid = len(slices) // 2\n",
    "\n",
    "        even = self.interleave(slices[:mid])\n",
    "        odd = self.interleave(slices[mid:])\n",
    "\n",
    "        shape = tf.shape(even)\n",
    "        return tf.reshape(tf.stack([even, odd], axis=3), (shape[0], shape[1]*2, shape[2]))\n",
    "\n",
    "    def call(self, inputs):\n",
    "        return self.interleave(inputs)\n",
    "\n",
    "\n",
    "class SciNet(tf.keras.layers.Layer):\n",
    "    def __init__(self, output_length: int, level: int, h: int, kernel_size: int,\n",
    "                 regularizer: Tuple[float, float] = (0, 0), shape : Tuple[float, float, float] = (0, 0, 0)):\n",
    "        super(SciNet, self).__init__()\n",
    "        self.level = level\n",
    "        self.h = h\n",
    "        self.kernel_size = kernel_size\n",
    "        self.max_nodes = 2 ** (level + 1) - 1\n",
    "\n",
    "        self.sciblocks = [SciBlock(kernel_size, h) for _ in range(self.max_nodes)]\n",
    "        self.interleave = Interleave()\n",
    "        self.Attention = Attention(shape=shape)\n",
    "        self.flatten = tf.keras.layers.Flatten()\n",
    "        # self.dense1 = tf.keras.layers.Dense(100, kernel_regularizer=L1L2(0.001, 0.01))\n",
    "        self.dense = tf.keras.layers.Dense(output_length, kernel_regularizer=L1L2(0.001, 0.01))\n",
    "        self.regularizer = tf.keras.layers.ActivityRegularization(l1=regularizer[0], l2=regularizer[1])\n",
    "\n",
    "    def build(self, input_shape):\n",
    "        assert input_shape[1] / 2 ** 1 % 1 == 0  # inputs must be evenly divided at the lowest level of the tree\n",
    "        [layer.build(input_shape) for layer in self.sciblocks]\n",
    "    @tf.function\n",
    "    def call(self, input_tensor):\n",
    "        # cascade input down a binary tree of sci-blocks\n",
    "        inputs = [input_tensor]\n",
    "        for i in range(self.level):\n",
    "            i_end = 2 ** (i + 1) - 1\n",
    "            i_start = i_end - 2 ** i\n",
    "            outputs = [out for j, tensor in zip(range(i_start, i_end), inputs) for out in self.sciblocks[j](tensor)]\n",
    "            inputs = outputs\n",
    "\n",
    "        x = self.interleave(outputs)\n",
    "        x += input_tensor\n",
    "\n",
    "        x, attention_weights = self.Attention(x)\n",
    "        # x = self.dense1(x)\n",
    "        x = self.dense(x)\n",
    "\n",
    "        # x = self.regularizer(x)\n",
    "        return x, attention_weights\n",
    "\n",
    "    def get_config(self):\n",
    "        return {'Attention_layer': self.Attention}"
   ]
  },
  {
   "cell_type": "code",
   "execution_count": 4,
   "metadata": {},
   "outputs": [],
   "source": [
    "class VisualizeAttentionMap(Callback):\n",
    "    \n",
    "    def __init__(self, model, x, weights):\n",
    "\n",
    "        super().__init__()\n",
    "        self.model = model\n",
    "        self.x = x\n",
    "        self.weights = weights\n",
    "        self.activation = tf.keras.layers.Activation('softmax')\n",
    "\n",
    "    def on_epoch_begin(self, epoch, logs=None):\n",
    "        #input_ = self.model._feed_inputs[0]\n",
    "        #output = self.activation(input)\n",
    "        #test = tf.keras.models.Model(inputs= input, outputs = output)\n",
    "        #x = test(self.x)\n",
    "        #attention_map = tf.matmul(self.weights,x).numpy()\n",
    "        #test.layers[1].set_weights(weights = self.weights)\n",
    "        #test.layers[1]  = test.layers[1].output.from_tensor(tensor =tf.nn.softmax(self.weights))\n",
    "        #attention_map = test(self.x).numpy()\n",
    "        attention_map = tf.nn.softmax(tf.math.divide(self.weights,3), axis = 1) # softmax smoothing\n",
    "        \n",
    "        #x = self.x[..., 0]\n",
    "        if epoch % 10 == 0 :\n",
    "            plt.figure(figsize= (10,5))\n",
    "            maps = [attention_map]\n",
    "            maps_names = ['attention layer']\n",
    "            plt.imshow(maps[0], cmap='jet')\n",
    "            plt.show()\n",
    "\n",
    "        return attention_map\n",
    "\n",
    "\n",
    "def softmax_with_temperature(z, T) : \n",
    "    z = np.array(z)\n",
    "    z = z / T \n",
    "    max_z = np.max(z, axi) \n",
    "    exp_z = np.exp(z-max_z) \n",
    "    sum_exp_z = np.sum(exp_z)\n",
    "    y = exp_z / sum_exp_z\n",
    "    return y\n",
    "\n",
    "\n",
    "def create_argmax_mask(x):\n",
    "    mask = np.zeros_like(x)\n",
    "    for i, m in enumerate(x.argmax(axis=1)):\n",
    "        mask[i, m] = 1\n",
    "    return mask"
   ]
  },
  {
   "cell_type": "code",
   "execution_count": 5,
   "metadata": {
    "id": "6Imt11Qyth7y"
   },
   "outputs": [],
   "source": [
    "def split_sequence(sequence, look_back_window: int, forecast_horizon: int, stride: int = 1):\n",
    "    X, y = [], []\n",
    "    for i in range(0, len(sequence), stride):\n",
    "        # find the end x and y\n",
    "        end_ix = i + look_back_window\n",
    "        end_iy = end_ix + forecast_horizon\n",
    "\n",
    "        # check if there is enough elements to fill this x, y pair\n",
    "        if end_iy > len(sequence):\n",
    "            break\n",
    "\n",
    "        X.append(sequence[i:end_ix])\n",
    "        y.append(sequence[end_iy - 1 if forecast_horizon == 1 else end_ix:end_iy])\n",
    "    return np.asarray(X), np.asarray(y)\n",
    "\n",
    "\n",
    "class StocksImputer(TransformerMixin):\n",
    "    def __init__(self, method: str = 'linear', fail_save: TransformerMixin = SimpleImputer()):\n",
    "        self.method = method\n",
    "        self.fail_save = fail_save\n",
    "\n",
    "    def fit(self, data):\n",
    "        if self.fail_save:\n",
    "            self.fail_save.fit(data)\n",
    "        return self\n",
    "\n",
    "    def transform(self, data):\n",
    "        # Interpolate missing values in columns\n",
    "        if not isinstance(data, pd.DataFrame):\n",
    "            data = pd.DataFrame(data)\n",
    "        data = data.interpolate(method=self.method, limit_direction='both')\n",
    "        # spline or time may be better?\n",
    "\n",
    "        if self.fail_save:\n",
    "            data = self.fail_save.transform(data)\n",
    "\n",
    "        return data\n",
    "\n",
    "\n",
    "def difference(dataset, interval=1, relative=False, min_price=1e-04):\n",
    "    delta = []\n",
    "    for i in range(interval, len(dataset)):\n",
    "        value = dataset[i] - dataset[i - interval]\n",
    "        if relative:\n",
    "            prev_price = dataset[i - interval]\n",
    "            prev_price[prev_price == 0] = min_price\n",
    "            value /= prev_price\n",
    "        delta.append(value)\n",
    "    return np.asarray(delta)\n",
    "\n",
    "\n",
    "class ARIMAPreprocessor(TransformerMixin):\n",
    "    def __init__(self, y_col: str, look_back_window: int, forecast_horizon: int, stride: int, diff_order: int,\n",
    "                 relative_diff: bool = True, splitXy: bool = True, scaling: str = 'minmax'):\n",
    "        super().__init__()\n",
    "        assert look_back_window > 0 and forecast_horizon > 0 and stride > 0\n",
    "\n",
    "        self.y_col = y_col\n",
    "        self.y_idx = None\n",
    "        self.look_back_window = look_back_window\n",
    "        self.forecast_horizon = forecast_horizon\n",
    "        self.stride = stride\n",
    "        self.diff_order = diff_order\n",
    "        self.relative_diff = relative_diff\n",
    "        self.splitXy = splitXy\n",
    "        self.interpolation_imputer = StocksImputer(method='linear')\n",
    "\n",
    "        if scaling == 'minmax':\n",
    "            self.scaler = MinMaxScaler()\n",
    "            self.y_scaler = MinMaxScaler()\n",
    "        elif scaling == 'standard':\n",
    "            self.scaler = StandardScaler()\n",
    "            self.y_scaler = StandardScaler()\n",
    "        elif scaling == 'robust':\n",
    "            self.scaler = RobustScaler()\n",
    "            self.y_scaler = RobustScaler()\n",
    "\n",
    "    def fit_transform(self, data, **fit_params):\n",
    "        self.y_idx = list(data.columns).index(self.y_col)\n",
    "\n",
    "        # Fill missing values via interpolation\n",
    "        data = self.interpolation_imputer.fit_transform(data)\n",
    "\n",
    "        # Differencing\n",
    "        diff = np.array(data)\n",
    "        for d in range(1, self.diff_order + 1):\n",
    "            diff = difference(diff, relative=self.relative_diff)\n",
    "            data = np.append(data, np.pad(diff, pad_width=((d, 0), (0, 0))), axis=1)\n",
    "        if self.diff_order > 0:\n",
    "            data = data[:, diff.shape[1]:]\n",
    "\n",
    "        # Scale\n",
    "        # if self.diff_order < 1:\n",
    "        self.y_scaler.fit(data[:, self.y_idx].reshape(-1, 1))  # for reversing scaling post prediction\n",
    "        data = self.scaler.fit_transform(data)\n",
    "\n",
    "        if not self.splitXy:\n",
    "            return data\n",
    "\n",
    "        # Extract X, y from time series\n",
    "        X, y = split_sequence(data, self.look_back_window, self.forecast_horizon, self.stride)\n",
    "        y = y[:, :, self.y_idx]\n",
    "\n",
    "        return X, y, self.scaler\n",
    "\n",
    "    def transform(self, data):\n",
    "        # Fill missing values via interpolation\n",
    "        data = self.interpolation_imputer.transform(data)\n",
    "\n",
    "        # Differencing\n",
    "        diff = np.array(data)\n",
    "        for d in range(1, self.diff_order + 1):\n",
    "            diff = difference(diff, relative=self.relative_diff)\n",
    "            data = np.append(data, np.pad(diff, pad_width=((d, 0), (0, 0))), axis=1)\n",
    "        if self.diff_order > 0:\n",
    "            data = data[:, diff.shape[1]:]\n",
    "\n",
    "        # Scale\n",
    "        # if self.diff_order < 1:\n",
    "        data = self.scaler.transform(data)\n",
    "\n",
    "        if not self.splitXy:\n",
    "            return data\n",
    "\n",
    "        # Extract X, y\n",
    "        X, y = split_sequence(data, self.look_back_window, self.forecast_horizon, self.stride)\n",
    "        y = y[:, :, self.y_idx]\n",
    "\n",
    "        return X, y"
   ]
  },
  {
   "cell_type": "code",
   "execution_count": 6,
   "metadata": {},
   "outputs": [],
   "source": [
    "# Make model\n",
    "def make_model(batch, time_stamps, n_features):\n",
    "    x = tf.keras.Input(shape=(time_stamps, n_features))\n",
    "    y = SciNet(forecast_horizon, level, h, kernel_size, regularizer=(0.001, 0.01), shape =(batch, time_stamps, n_features))(x)\n",
    "    model = tf.keras.Model(x, y)\n",
    "\n",
    "    model.summary()\n",
    "    tf.keras.utils.plot_model(model, to_file='modelDiagram.png', show_shapes=True)\n",
    "\n",
    "    model.compile(optimizer=tf.keras.optimizers.Adam(learning_rate=learning_rate), loss='mse',\n",
    "                  metrics=['mean_squared_error', 'mean_absolute_error'])\n",
    "    return model\n",
    "\n",
    "def make_model_2(batch, time_stamps, n_features):\n",
    "    x = tf.keras.Input(shape=(time_stamps, n_features))\n",
    "    y = SciNet(forecast_horizon, level, h, kernel_size, regularizer=(0.001, 0.01), shape =(batch, time_stamps, n_features))(x)\n",
    "    model = tf.keras.Model(x, y)\n",
    "\n",
    "    model.summary()\n",
    "    #tf.keras.utils.plot_model(model, to_file='modelDiagram.png', show_shapes=True)\n",
    "\n",
    "    #model.compile(optimizer=tf.keras.optimizers.Adam(learning_rate=learning_rate), loss='mse',\n",
    "    #             metrics=['mean_squared_error', 'mean_absolute_error'])\n",
    "    return model"
   ]
  },
  {
   "cell_type": "code",
   "execution_count": 7,
   "metadata": {},
   "outputs": [],
   "source": [
    "# Hyper Parametres\n",
    "y_col = '일별배출량합계'\n",
    "index_col = '일자'\n",
    "cluster_num = 2\n",
    "\n",
    "data = pd.read_csv(f'../data/processed_data/클러스터_{cluster_num}_최종피쳐.csv', encoding = 'cp949')\n",
    "\n",
    "EPOCHS = 100\n",
    "\n",
    "degree_of_differencing = 0\n",
    "look_back_window, forecast_horizon = 60*2 * (data.읍면동.nunique()), 62 * (data.읍면동.nunique()) #전에 몇개의 데이터 참조, 후에 몇개 예측\n",
    "batch_size = 64\n",
    "learning_rate = 9e-5\n",
    "h, kernel_size, level = 4, 5, 3\n",
    "#stride = look_back_window + forecast_horizon  # unsure if any value lower than this would cause data leak\n",
    "\n",
    "data = data.sort_values(by = ['일자','읍면동'])\n",
    "data['일자'] = pd.to_datetime(data['일자'])\n",
    "data = data.set_index(keys = '일자')\n",
    "#data = data.loc[\"2019-11-07\":, : ]\n",
    "\n",
    "#train_data = data[:int(0.6 * len(data))]\n",
    "#val_data = data[int(0.6 * len(data)):int(0.8 * len(data))]\n",
    "#test_data = data[int(0.8 * len(data)):]"
   ]
  },
  {
   "cell_type": "code",
   "execution_count": 8,
   "metadata": {},
   "outputs": [],
   "source": [
    "train = data[:-look_back_window]\n",
    "final_test_data = data[-look_back_window:]"
   ]
  },
  {
   "cell_type": "code",
   "execution_count": 9,
   "metadata": {},
   "outputs": [],
   "source": [
    "data.drop(['읍면동'], axis=1, inplace=True)"
   ]
  },
  {
   "cell_type": "code",
   "execution_count": 10,
   "metadata": {
    "scrolled": true
   },
   "outputs": [
    {
     "name": "stderr",
     "output_type": "stream",
     "text": [
      "C:\\ProgramData\\Anaconda3\\lib\\site-packages\\pandas\\core\\frame.py:4163: SettingWithCopyWarning: \n",
      "A value is trying to be set on a copy of a slice from a DataFrame\n",
      "\n",
      "See the caveats in the documentation: https://pandas.pydata.org/pandas-docs/stable/user_guide/indexing.html#returning-a-view-versus-a-copy\n",
      "  return super().drop(\n"
     ]
    }
   ],
   "source": [
    "train.drop(['읍면동'], axis=1, inplace=True)"
   ]
  },
  {
   "cell_type": "code",
   "execution_count": 11,
   "metadata": {},
   "outputs": [],
   "source": [
    "train_data = train[:int(0.80 * (len(train) - (look_back_window + forecast_horizon)))]   #train_data = train[:int(0.6 * len(data))]\n",
    "val_data = train[int(0.80 * (len(train) - (look_back_window + forecast_horizon))):-look_back_window + forecast_horizon]\n",
    "test_data = train[-(look_back_window + forecast_horizon):]"
   ]
  },
  {
   "cell_type": "code",
   "execution_count": 12,
   "metadata": {},
   "outputs": [
    {
     "data": {
      "text/plain": [
       "((8580, 36), (3509, 36), (2002, 36))"
      ]
     },
     "execution_count": 12,
     "metadata": {},
     "output_type": "execute_result"
    }
   ],
   "source": [
    "train_data.shape, val_data.shape, test_data.shape"
   ]
  },
  {
   "cell_type": "code",
   "execution_count": 13,
   "metadata": {},
   "outputs": [
    {
     "data": {
      "text/plain": [
       "2002"
      ]
     },
     "execution_count": 13,
     "metadata": {},
     "output_type": "execute_result"
    }
   ],
   "source": [
    "look_back_window + forecast_horizon"
   ]
  },
  {
   "cell_type": "code",
   "execution_count": 14,
   "metadata": {
    "colab": {
     "base_uri": "https://localhost:8080/"
    },
    "id": "6Mg2kw8aybeH",
    "outputId": "1b961813-22fc-4289-dda9-939fc2b7b10a",
    "scrolled": false
   },
   "outputs": [
    {
     "name": "stdout",
     "output_type": "stream",
     "text": [
      "Input shape: X(6579, 1320, 36), y(6579, 682)\n"
     ]
    }
   ],
   "source": [
    "# Load and preprocess data\n",
    "#data = data.set_index(keys = 'base_date')\n",
    "#data = data.query('emd_nm == 24')\n",
    "\n",
    "#train_data = data[:int(0.6 * len(data))]\n",
    "#val_data = data[int(0.6 * len(data)):int(0.8 * len(data))]\n",
    "#test_data = data[int(0.8 * len(data)):]\n",
    "\n",
    "# Train model\n",
    "preprocessor = ARIMAPreprocessor(y_col, look_back_window, forecast_horizon, 1, degree_of_differencing,\n",
    "                                  relative_diff=True, scaling='standard')\n",
    "X_train, y_train, scaler = preprocessor.fit_transform(train_data)\n",
    "X_val, y_val = preprocessor.transform(val_data)\n",
    "print(f'Input shape: X{X_train.shape}, y{y_train.shape}')"
   ]
  },
  {
   "cell_type": "code",
   "execution_count": 15,
   "metadata": {
    "colab": {
     "base_uri": "https://localhost:8080/"
    },
    "id": "axahqhiGL9rO",
    "outputId": "c82fb05e-b4eb-4b3b-c14d-bde4d27e15e3"
   },
   "outputs": [
    {
     "name": "stdout",
     "output_type": "stream",
     "text": [
      "Model: \"model\"\n",
      "_________________________________________________________________\n",
      "Layer (type)                 Output Shape              Param #   \n",
      "=================================================================\n",
      "input_1 (InputLayer)         [(None, 1320, 36)]        0         \n",
      "_________________________________________________________________\n",
      "sci_net (SciNet)             ((None, 682), (None, 36)) 1506794   \n",
      "=================================================================\n",
      "Total params: 1,506,794\n",
      "Trainable params: 1,506,794\n",
      "Non-trainable params: 0\n",
      "_________________________________________________________________\n"
     ]
    }
   ],
   "source": [
    "model = make_model_2(batch_size, X_train.shape[1], X_train.shape[2])"
   ]
  },
  {
   "cell_type": "code",
   "execution_count": 16,
   "metadata": {
    "id": "euBRdcS6Ml9D"
   },
   "outputs": [],
   "source": [
    "loss_function = tf.keras.losses.MeanSquaredError()\n",
    "optimizer = tf.keras.optimizers.Adam(learning_rate=learning_rate)\n",
    "\n",
    "train_loss = tf.keras.metrics.Mean()\n",
    "\n",
    "val_loss = tf.keras.metrics.Mean()\n",
    "\n",
    "train_loss_list = []\n",
    "val_loss_list = []\n",
    "\n",
    "\n",
    "def train_function(train_X, train_y):\n",
    "    with tf.GradientTape() as tape:\n",
    "     \n",
    "        predictions, attention_weights = model(train_X)\n",
    "       \n",
    "        loss = loss_function(train_y, predictions)\n",
    "\n",
    "    gradients = tape.gradient(loss, model.trainable_variables)\n",
    "    optimizer.apply_gradients(zip(gradients, model.trainable_variables))\n",
    "    train_loss(loss)\n",
    "    mse = tf.keras.metrics.mse(train_y, predictions)\n",
    "    mae = tf.keras.metrics.mae(train_y, predictions)\n",
    "\n",
    "    return loss, mse, mae, attention_weights\n",
    "\n",
    "def test_function(val_X, val_y):\n",
    "\n",
    "    predictions, _ = model(val_X)\n",
    " \n",
    "    loss = loss_function(val_y, predictions)\n",
    "\n",
    "    val_loss(loss)\n",
    "    mse = tf.keras.metrics.mse(val_y, predictions)\n",
    "    mae = tf.keras.metrics.mae(val_y, predictions)\n",
    "\n",
    "    return loss, mse, mae\n"
   ]
  },
  {
   "cell_type": "code",
   "execution_count": 17,
   "metadata": {
    "id": "Z0TEgkxnQmd_"
   },
   "outputs": [],
   "source": [
    "train_dataset = tf.data.Dataset.from_tensor_slices((X_train, y_train))\n",
    "train_dataset = train_dataset.batch(batch_size, drop_remainder=True)"
   ]
  },
  {
   "cell_type": "code",
   "execution_count": 18,
   "metadata": {
    "id": "pnutNS-5Rf6l"
   },
   "outputs": [],
   "source": [
    "val_dataset = tf.data.Dataset.from_tensor_slices((X_val, y_val))\n",
    "val_dataset = val_dataset.batch(batch_size)"
   ]
  },
  {
   "cell_type": "code",
   "execution_count": 19,
   "metadata": {},
   "outputs": [
    {
     "data": {
      "image/png": "[encoded data removed]",
      "text/plain": [
       "<Figure size 720x360 with 1 Axes>"
      ]
     },
     "metadata": {
      "needs_background": "light"
     },
     "output_type": "display_data"
    },
    {
     "name": "stdout",
     "output_type": "stream",
     "text": [
      "epochs: 1/100, train loss : 0.99243 train mse: 0.99243 train mae: 0.79957  validation loss: 0.72687 validation mse : 0.72687 validation mae: 0.69315\n",
      "epochs: 2/100, train loss : 0.85660 train mse: 0.72077 train mae: 0.67623  validation loss: 0.62673 validation mse : 0.52659 validation mae: 0.58265\n",
      "epochs: 3/100, train loss : 0.74542 train mse: 0.52305 train mae: 0.56714  validation loss: 0.55076 validation mse : 0.39882 validation mae: 0.49679\n",
      "epochs: 4/100, train loss : 0.65619 train mse: 0.38850 train mae: 0.47931  validation loss: 0.49380 validation mse : 0.32291 validation mae: 0.43557\n",
      "epochs: 5/100, train loss : 0.58415 train mse: 0.29599 train mae: 0.41075  validation loss: 0.44509 validation mse : 0.25027 validation mae: 0.37425\n",
      "epochs: 6/100, train loss : 0.52607 train mse: 0.23570 train mae: 0.36119  validation loss: 0.40636 validation mse : 0.21270 validation mae: 0.33960\n",
      "epochs: 7/100, train loss : 0.47841 train mse: 0.19245 train mae: 0.32184  validation loss: 0.37248 validation mse : 0.16923 validation mae: 0.29857\n",
      "epochs: 8/100, train loss : 0.43831 train mse: 0.15763 train mae: 0.28792  validation loss: 0.34476 validation mse : 0.15072 validation mae: 0.27692\n",
      "epochs: 9/100, train loss : 0.40451 train mse: 0.13405 train mae: 0.26266  validation loss: 0.32524 validation mse : 0.16902 validation mae: 0.28546\n",
      "epochs: 10/100, train loss : 0.37716 train mse: 0.13103 train mae: 0.25900  validation loss: 0.30810 validation mse : 0.15383 validation mae: 0.26818\n"
     ]
    },
    {
     "data": {
      "image/png": "[encoded data removed]",
      "text/plain": [
       "<Figure size 720x360 with 1 Axes>"
      ]
     },
     "metadata": {
      "needs_background": "light"
     },
     "output_type": "display_data"
    },
    {
     "name": "stdout",
     "output_type": "stream",
     "text": [
      "epochs: 11/100, train loss : 0.35267 train mse: 0.10772 train mae: 0.23220  validation loss: 0.29122 validation mse : 0.12248 validation mae: 0.24130\n",
      "epochs: 12/100, train loss : 0.33146 train mse: 0.09814 train mae: 0.21923  validation loss: 0.27692 validation mse : 0.11960 validation mae: 0.23649\n",
      "epochs: 13/100, train loss : 0.31302 train mse: 0.09173 train mae: 0.20992  validation loss: 0.26464 validation mse : 0.11735 validation mae: 0.23289\n",
      "epochs: 14/100, train loss : 0.29688 train mse: 0.08710 train mae: 0.20282  validation loss: 0.25398 validation mse : 0.11529 validation mae: 0.23027\n",
      "epochs: 15/100, train loss : 0.28267 train mse: 0.08371 train mae: 0.19741  validation loss: 0.24460 validation mse : 0.11333 validation mae: 0.22763\n",
      "epochs: 16/100, train loss : 0.27008 train mse: 0.08122 train mae: 0.19320  validation loss: 0.23626 validation mse : 0.11119 validation mae: 0.22524\n",
      "epochs: 17/100, train loss : 0.25886 train mse: 0.07936 train mae: 0.18997  validation loss: 0.22884 validation mse : 0.11014 validation mae: 0.22359\n",
      "epochs: 18/100, train loss : 0.24881 train mse: 0.07804 train mae: 0.18751  validation loss: 0.22319 validation mse : 0.12702 validation mae: 0.23433\n",
      "epochs: 19/100, train loss : 0.23977 train mse: 0.07709 train mae: 0.18564  validation loss: 0.21786 validation mse : 0.12192 validation mae: 0.23027\n",
      "epochs: 20/100, train loss : 0.23160 train mse: 0.07620 train mae: 0.18401  validation loss: 0.21302 validation mse : 0.12111 validation mae: 0.22928\n"
     ]
    },
    {
     "data": {
      "image/png": "[encoded data removed]",
      "text/plain": [
       "<Figure size 720x360 with 1 Axes>"
      ]
     },
     "metadata": {
      "needs_background": "light"
     },
     "output_type": "display_data"
    },
    {
     "name": "stdout",
     "output_type": "stream",
     "text": [
      "epochs: 21/100, train loss : 0.22416 train mse: 0.07548 train mae: 0.18273  validation loss: 0.20856 validation mse : 0.11940 validation mae: 0.22755\n",
      "epochs: 22/100, train loss : 0.21738 train mse: 0.07501 train mae: 0.18177  validation loss: 0.20433 validation mse : 0.11553 validation mae: 0.22468\n",
      "epochs: 23/100, train loss : 0.21118 train mse: 0.07465 train mae: 0.18104  validation loss: 0.20044 validation mse : 0.11477 validation mae: 0.22414\n",
      "epochs: 24/100, train loss : 0.20548 train mse: 0.07437 train mae: 0.18043  validation loss: 0.19694 validation mse : 0.11650 validation mae: 0.22558\n",
      "epochs: 25/100, train loss : 0.20022 train mse: 0.07414 train mae: 0.17995  validation loss: 0.19377 validation mse : 0.11771 validation mae: 0.22626\n",
      "epochs: 26/100, train loss : 0.19537 train mse: 0.07398 train mae: 0.17962  validation loss: 0.19089 validation mse : 0.11897 validation mae: 0.22699\n",
      "epochs: 27/100, train loss : 0.19086 train mse: 0.07377 train mae: 0.17920  validation loss: 0.18825 validation mse : 0.11936 validation mae: 0.22745\n",
      "epochs: 28/100, train loss : 0.18668 train mse: 0.07366 train mae: 0.17901  validation loss: 0.18565 validation mse : 0.11546 validation mae: 0.22511\n",
      "epochs: 29/100, train loss : 0.18277 train mse: 0.07344 train mae: 0.17864  validation loss: 0.18321 validation mse : 0.11492 validation mae: 0.22515\n",
      "epochs: 30/100, train loss : 0.17912 train mse: 0.07330 train mae: 0.17835  validation loss: 0.18093 validation mse : 0.11477 validation mae: 0.22457\n"
     ]
    },
    {
     "data": {
      "image/png": "[encoded data removed]",
      "text/plain": [
       "<Figure size 720x360 with 1 Axes>"
      ]
     },
     "metadata": {
      "needs_background": "light"
     },
     "output_type": "display_data"
    },
    {
     "name": "stdout",
     "output_type": "stream",
     "text": [
      "epochs: 31/100, train loss : 0.17570 train mse: 0.07315 train mae: 0.17816  validation loss: 0.17878 validation mse : 0.11455 validation mae: 0.22500\n",
      "epochs: 32/100, train loss : 0.17249 train mse: 0.07296 train mae: 0.17791  validation loss: 0.17679 validation mse : 0.11485 validation mae: 0.22484\n",
      "epochs: 33/100, train loss : 0.16947 train mse: 0.07283 train mae: 0.17778  validation loss: 0.17492 validation mse : 0.11529 validation mae: 0.22527\n",
      "epochs: 34/100, train loss : 0.16663 train mse: 0.07267 train mae: 0.17754  validation loss: 0.17309 validation mse : 0.11263 validation mae: 0.22340\n",
      "epochs: 35/100, train loss : 0.16394 train mse: 0.07263 train mae: 0.17760  validation loss: 0.17129 validation mse : 0.11012 validation mae: 0.22376\n",
      "epochs: 36/100, train loss : 0.16140 train mse: 0.07255 train mae: 0.17755  validation loss: 0.16967 validation mse : 0.11290 validation mae: 0.22583\n",
      "epochs: 37/100, train loss : 0.15900 train mse: 0.07237 train mae: 0.17712  validation loss: 0.16830 validation mse : 0.11900 validation mae: 0.23020\n",
      "epochs: 38/100, train loss : 0.15671 train mse: 0.07225 train mae: 0.17696  validation loss: 0.16668 validation mse : 0.10672 validation mae: 0.21998\n",
      "epochs: 39/100, train loss : 0.15455 train mse: 0.07230 train mae: 0.17722  validation loss: 0.16517 validation mse : 0.10771 validation mae: 0.22163\n",
      "epochs: 40/100, train loss : 0.15248 train mse: 0.07191 train mae: 0.17641  validation loss: 0.16393 validation mse : 0.11559 validation mae: 0.22921\n"
     ]
    },
    {
     "data": {
      "image/png": "[encoded data removed]",
      "text/plain": [
       "<Figure size 720x360 with 1 Axes>"
      ]
     },
     "metadata": {
      "needs_background": "light"
     },
     "output_type": "display_data"
    },
    {
     "name": "stdout",
     "output_type": "stream",
     "text": [
      "epochs: 41/100, train loss : 0.15052 train mse: 0.07192 train mae: 0.17668  validation loss: 0.16273 validation mse : 0.11487 validation mae: 0.22871\n",
      "epochs: 42/100, train loss : 0.14864 train mse: 0.07158 train mae: 0.17613  validation loss: 0.16167 validation mse : 0.11811 validation mae: 0.23197\n",
      "epochs: 43/100, train loss : 0.14684 train mse: 0.07146 train mae: 0.17582  validation loss: 0.16078 validation mse : 0.12321 validation mae: 0.23371\n",
      "epochs: 44/100, train loss : 0.14512 train mse: 0.07122 train mae: 0.17550  validation loss: 0.15987 validation mse : 0.12087 validation mae: 0.23457\n",
      "epochs: 45/100, train loss : 0.14348 train mse: 0.07106 train mae: 0.17529  validation loss: 0.15930 validation mse : 0.13445 validation mae: 0.24591\n",
      "epochs: 46/100, train loss : 0.14190 train mse: 0.07080 train mae: 0.17483  validation loss: 0.15833 validation mse : 0.11465 validation mae: 0.23102\n",
      "epochs: 47/100, train loss : 0.14038 train mse: 0.07035 train mae: 0.17417  validation loss: 0.15746 validation mse : 0.11717 validation mae: 0.23401\n",
      "epochs: 48/100, train loss : 0.13891 train mse: 0.07003 train mae: 0.17374  validation loss: 0.15668 validation mse : 0.11999 validation mae: 0.23565\n",
      "epochs: 49/100, train loss : 0.13750 train mse: 0.06985 train mae: 0.17353  validation loss: 0.15587 validation mse : 0.11706 validation mae: 0.23317\n",
      "epochs: 50/100, train loss : 0.13614 train mse: 0.06953 train mae: 0.17299  validation loss: 0.15511 validation mse : 0.11814 validation mae: 0.23457\n"
     ]
    },
    {
     "data": {
      "image/png": "[encoded data removed]",
      "text/plain": [
       "<Figure size 720x360 with 1 Axes>"
      ]
     },
     "metadata": {
      "needs_background": "light"
     },
     "output_type": "display_data"
    },
    {
     "name": "stdout",
     "output_type": "stream",
     "text": [
      "epochs: 51/100, train loss : 0.13483 train mse: 0.06906 train mae: 0.17229  validation loss: 0.15461 validation mse : 0.12962 validation mae: 0.24199\n",
      "epochs: 52/100, train loss : 0.13356 train mse: 0.06906 train mae: 0.17220  validation loss: 0.15429 validation mse : 0.13760 validation mae: 0.24782\n",
      "epochs: 53/100, train loss : 0.13234 train mse: 0.06862 train mae: 0.17161  validation loss: 0.15419 validation mse : 0.14943 validation mae: 0.25380\n",
      "epochs: 54/100, train loss : 0.13116 train mse: 0.06855 train mae: 0.17170  validation loss: 0.15396 validation mse : 0.14159 validation mae: 0.24895\n",
      "epochs: 55/100, train loss : 0.13001 train mse: 0.06804 train mae: 0.17093  validation loss: 0.15381 validation mse : 0.14542 validation mae: 0.25127\n",
      "epochs: 56/100, train loss : 0.12890 train mse: 0.06779 train mae: 0.17058  validation loss: 0.15398 validation mse : 0.16378 validation mae: 0.26266\n",
      "epochs: 57/100, train loss : 0.12782 train mse: 0.06753 train mae: 0.17008  validation loss: 0.15385 validation mse : 0.14621 validation mae: 0.24600\n",
      "epochs: 58/100, train loss : 0.12677 train mse: 0.06705 train mae: 0.16932  validation loss: 0.15400 validation mse : 0.16296 validation mae: 0.25837\n",
      "epochs: 59/100, train loss : 0.12576 train mse: 0.06701 train mae: 0.16948  validation loss: 0.15385 validation mse : 0.14500 validation mae: 0.24489\n",
      "epochs: 60/100, train loss : 0.12477 train mse: 0.06656 train mae: 0.16868  validation loss: 0.15370 validation mse : 0.14445 validation mae: 0.24257\n"
     ]
    },
    {
     "data": {
      "image/png": "[encoded data removed]",
      "text/plain": [
       "<Figure size 720x360 with 1 Axes>"
      ]
     },
     "metadata": {
      "needs_background": "light"
     },
     "output_type": "display_data"
    },
    {
     "name": "stdout",
     "output_type": "stream",
     "text": [
      "epochs: 61/100, train loss : 0.12381 train mse: 0.06634 train mae: 0.16862  validation loss: 0.15357 validation mse : 0.14633 validation mae: 0.24405\n",
      "epochs: 62/100, train loss : 0.12289 train mse: 0.06627 train mae: 0.16871  validation loss: 0.15353 validation mse : 0.15050 validation mae: 0.24503\n",
      "epochs: 63/100, train loss : 0.12198 train mse: 0.06596 train mae: 0.16816  validation loss: 0.15385 validation mse : 0.17374 validation mae: 0.26095\n",
      "epochs: 64/100, train loss : 0.12112 train mse: 0.06654 train mae: 0.16943  validation loss: 0.15394 validation mse : 0.15998 validation mae: 0.25050\n",
      "epochs: 65/100, train loss : 0.12027 train mse: 0.06582 train mae: 0.16822  validation loss: 0.15391 validation mse : 0.15215 validation mae: 0.24517\n",
      "epochs: 66/100, train loss : 0.11944 train mse: 0.06559 train mae: 0.16762  validation loss: 0.15343 validation mse : 0.12173 validation mae: 0.22741\n",
      "epochs: 67/100, train loss : 0.11863 train mse: 0.06552 train mae: 0.16713  validation loss: 0.15303 validation mse : 0.12691 validation mae: 0.22734\n",
      "epochs: 68/100, train loss : 0.11785 train mse: 0.06553 train mae: 0.16703  validation loss: 0.15262 validation mse : 0.12508 validation mae: 0.22525\n",
      "epochs: 69/100, train loss : 0.11717 train mse: 0.07086 train mae: 0.17764  validation loss: 0.15254 validation mse : 0.14710 validation mae: 0.24333\n",
      "epochs: 70/100, train loss : 0.11649 train mse: 0.06917 train mae: 0.17376  validation loss: 0.15289 validation mse : 0.17731 validation mae: 0.26072\n"
     ]
    },
    {
     "data": {
      "image/png": "[encoded data removed]",
      "text/plain": [
       "<Figure size 720x360 with 1 Axes>"
      ]
     },
     "metadata": {
      "needs_background": "light"
     },
     "output_type": "display_data"
    },
    {
     "name": "stdout",
     "output_type": "stream",
     "text": [
      "epochs: 71/100, train loss : 0.11578 train mse: 0.06656 train mae: 0.16893  validation loss: 0.15304 validation mse : 0.16308 validation mae: 0.25084\n",
      "epochs: 72/100, train loss : 0.11508 train mse: 0.06529 train mae: 0.16698  validation loss: 0.15306 validation mse : 0.15473 validation mae: 0.24470\n",
      "epochs: 73/100, train loss : 0.11438 train mse: 0.06416 train mae: 0.16521  validation loss: 0.15294 validation mse : 0.14453 validation mae: 0.23694\n",
      "epochs: 74/100, train loss : 0.11369 train mse: 0.06334 train mae: 0.16400  validation loss: 0.15278 validation mse : 0.14118 validation mae: 0.23580\n",
      "epochs: 75/100, train loss : 0.11301 train mse: 0.06265 train mae: 0.16277  validation loss: 0.15266 validation mse : 0.14349 validation mae: 0.23578\n",
      "epochs: 76/100, train loss : 0.11234 train mse: 0.06202 train mae: 0.16173  validation loss: 0.15254 validation mse : 0.14368 validation mae: 0.23580\n",
      "epochs: 77/100, train loss : 0.11168 train mse: 0.06153 train mae: 0.16081  validation loss: 0.15243 validation mse : 0.14390 validation mae: 0.23587\n",
      "epochs: 78/100, train loss : 0.11103 train mse: 0.06110 train mae: 0.16014  validation loss: 0.15240 validation mse : 0.15027 validation mae: 0.24058\n",
      "epochs: 79/100, train loss : 0.11040 train mse: 0.06062 train mae: 0.15931  validation loss: 0.15236 validation mse : 0.14925 validation mae: 0.23949\n",
      "epochs: 80/100, train loss : 0.10977 train mse: 0.06030 train mae: 0.15869  validation loss: 0.15231 validation mse : 0.14807 validation mae: 0.23787\n"
     ]
    },
    {
     "data": {
      "image/png": "[encoded data removed]",
      "text/plain": [
       "<Figure size 720x360 with 1 Axes>"
      ]
     },
     "metadata": {
      "needs_background": "light"
     },
     "output_type": "display_data"
    },
    {
     "name": "stdout",
     "output_type": "stream",
     "text": [
      "epochs: 81/100, train loss : 0.10915 train mse: 0.05996 train mae: 0.15802  validation loss: 0.15222 validation mse : 0.14471 validation mae: 0.23525\n",
      "epochs: 82/100, train loss : 0.10856 train mse: 0.06036 train mae: 0.15903  validation loss: 0.15188 validation mse : 0.12514 validation mae: 0.21687\n",
      "epochs: 83/100, train loss : 0.10798 train mse: 0.06050 train mae: 0.15940  validation loss: 0.15163 validation mse : 0.13080 validation mae: 0.22294\n",
      "epochs: 84/100, train loss : 0.10741 train mse: 0.05975 train mae: 0.15781  validation loss: 0.15129 validation mse : 0.12304 validation mae: 0.21694\n",
      "epochs: 85/100, train loss : 0.10684 train mse: 0.05933 train mae: 0.15703  validation loss: 0.15100 validation mse : 0.12618 validation mae: 0.21916\n",
      "epochs: 86/100, train loss : 0.10628 train mse: 0.05881 train mae: 0.15607  validation loss: 0.15078 validation mse : 0.13255 validation mae: 0.22470\n",
      "epochs: 87/100, train loss : 0.10573 train mse: 0.05830 train mae: 0.15516  validation loss: 0.15041 validation mse : 0.11869 validation mae: 0.21317\n",
      "epochs: 88/100, train loss : 0.10519 train mse: 0.05796 train mae: 0.15455  validation loss: 0.15011 validation mse : 0.12356 validation mae: 0.21675\n",
      "epochs: 89/100, train loss : 0.10465 train mse: 0.05766 train mae: 0.15400  validation loss: 0.14978 validation mse : 0.12103 validation mae: 0.21599\n",
      "epochs: 90/100, train loss : 0.10413 train mse: 0.05734 train mae: 0.15328  validation loss: 0.14947 validation mse : 0.12170 validation mae: 0.21760\n"
     ]
    },
    {
     "data": {
      "image/png": "[encoded data removed]",
      "text/plain": [
       "<Figure size 720x360 with 1 Axes>"
      ]
     },
     "metadata": {
      "needs_background": "light"
     },
     "output_type": "display_data"
    },
    {
     "name": "stdout",
     "output_type": "stream",
     "text": [
      "epochs: 91/100, train loss : 0.10362 train mse: 0.05754 train mae: 0.15393  validation loss: 0.15002 validation mse : 0.19987 validation mae: 0.27453\n",
      "epochs: 92/100, train loss : 0.10313 train mse: 0.05866 train mae: 0.15633  validation loss: 0.15018 validation mse : 0.16413 validation mae: 0.24824\n",
      "epochs: 93/100, train loss : 0.10264 train mse: 0.05782 train mae: 0.15431  validation loss: 0.15025 validation mse : 0.15760 validation mae: 0.24196\n",
      "epochs: 94/100, train loss : 0.10216 train mse: 0.05744 train mae: 0.15353  validation loss: 0.15025 validation mse : 0.14945 validation mae: 0.23461\n",
      "epochs: 95/100, train loss : 0.10169 train mse: 0.05714 train mae: 0.15282  validation loss: 0.15024 validation mse : 0.14975 validation mae: 0.23504\n",
      "epochs: 96/100, train loss : 0.10122 train mse: 0.05660 train mae: 0.15189  validation loss: 0.15011 validation mse : 0.13760 validation mae: 0.22462\n",
      "epochs: 97/100, train loss : 0.10075 train mse: 0.05613 train mae: 0.15084  validation loss: 0.14997 validation mse : 0.13613 validation mae: 0.22312\n",
      "epochs: 98/100, train loss : 0.10029 train mse: 0.05593 train mae: 0.15046  validation loss: 0.14992 validation mse : 0.14580 validation mae: 0.23256\n",
      "epochs: 99/100, train loss : 0.09984 train mse: 0.05551 train mae: 0.14975  validation loss: 0.14986 validation mse : 0.14398 validation mae: 0.23099\n",
      "epochs: 100/100, train loss : 0.09940 train mse: 0.05538 train mae: 0.14940  validation loss: 0.14988 validation mse : 0.15136 validation mae: 0.23439\n"
     ]
    },
    {
     "data": {
      "image/png": "[encoded data removed]",
      "text/plain": [
       "<Figure size 432x288 with 1 Axes>"
      ]
     },
     "metadata": {
      "needs_background": "light"
     },
     "output_type": "display_data"
    }
   ],
   "source": [
    "try :\n",
    "    os.mkdir(f'../data/model_weights/model_{EPOCHS}_{look_back_window}_{forecast_horizon}_cluster_{cluster_num}')\n",
    "except:\n",
    "    print(\"폴더가 이미 존재\")\n",
    "\n",
    "visual_list = []\n",
    "for epoch in range(EPOCHS):\n",
    "    epoch_train_mse = 0\n",
    "    epoch_train_mae = 0\n",
    "    \n",
    "    epoch_val_mse = 0\n",
    "    epoch_val_mae = 0\n",
    "\n",
    "    train_data_len = 0\n",
    "    val_data_len = 0\n",
    "\n",
    "    for train_X, train_y in train_dataset:\n",
    "        _, train_mse, train_mae, attention_weights = train_function(train_X, train_y)\n",
    "        train_data_len += 1\n",
    "        epoch_train_mse += tf.reduce_mean(train_mse).numpy()\n",
    "        epoch_train_mae += tf.reduce_mean(train_mae).numpy()\n",
    "    for test_images, test_labels in val_dataset:\n",
    "        _, val_mse, val_mae = test_function(test_images, test_labels)\n",
    "        val_data_len += 1\n",
    "        epoch_val_mse += tf.reduce_mean(val_mse).numpy()\n",
    "        epoch_val_mae += tf.reduce_mean(val_mae).numpy()\n",
    "\n",
    "    train_loss_list.append(train_loss.result().numpy())\n",
    "    val_loss_list.append(val_loss.result().numpy())\n",
    "    visual_result = VisualizeAttentionMap(model, train_X, attention_weights).on_epoch_begin(epoch)\n",
    "    visual_list.append(visual_result.numpy())\n",
    "    template = 'epochs: {}/{}, train loss : {:.5f} train mse: {:.5f} train mae: {:.5f}  validation loss: {:.5f} validation mse : {:.5f} validation mae: {:.5f}'\n",
    "    print(template.format(epoch+1,\n",
    "                         EPOCHS,\n",
    "                         train_loss.result().numpy(),\n",
    "                         epoch_train_mse / train_data_len,\n",
    "                         epoch_train_mae / train_data_len,\n",
    "                         val_loss.result().numpy(),\n",
    "                         epoch_val_mse / val_data_len,\n",
    "                         epoch_val_mae / val_data_len))\n",
    "  \n",
    "    if (epoch+1) % 10 == 0 :\n",
    "        model.save_weights(f'../data/model_weights/model_{EPOCHS}_{look_back_window}_{forecast_horizon}_cluster_{cluster_num}/model_{epoch+1}.pth') \n",
    "\n",
    "\n",
    "\n",
    "try :\n",
    "    os.mkdir(f'../data/attention_weights/attention_png_{EPOCHS}_{look_back_window}_{forecast_horizon}_cluster_{cluster_num}')\n",
    "except:\n",
    "    print(\"폴더가 이미 존재\")\n",
    "\n",
    "for idx, img in enumerate(visual_list) :\n",
    "    tmp = sns.heatmap(img, cmap ='jet', cbar = False)\n",
    "    tmp.figure.savefig(f\"../data/attention_weights/attention_png_{EPOCHS}_{look_back_window}_{forecast_horizon}_cluster_{cluster_num}/{idx}.png\")\n",
    "    \n",
    "    \n",
    "    \n",
    "path = [f\"../data/attention_weights/attention_png_{EPOCHS}_{look_back_window}_{forecast_horizon}_cluster_{cluster_num}/{i}\" for i in os.listdir(f\"../data/attention_weights/attention_png_{EPOCHS}_{look_back_window}_{forecast_horizon}_cluster_{cluster_num}\") if i.endswith(\".png\")]\n",
    "paths = [np.array(Image.open(i)) for i in path]\n",
    "\n",
    "try :\n",
    "    os.mkdir(f'../data/attention_weights/attention_result_{EPOCHS}_{look_back_window}_{forecast_horizon}_cluster_{cluster_num}')\n",
    "except :\n",
    "    print(\"폴더가 이미 존재\")\n",
    "    \n",
    "imageio.mimsave(f'../data/attention_weights/attention_result_{EPOCHS}_{look_back_window}_{forecast_horizon}_cluster_{cluster_num}/result_{EPOCHS}_{look_back_window}_{forecast_horizon}_cluster_{cluster_num}.gif', paths, fps=5)"
   ]
  },
  {
   "cell_type": "code",
   "execution_count": 27,
   "metadata": {
    "colab": {
     "base_uri": "https://localhost:8080/",
     "height": 313
    },
    "id": "xoN7WZo7eVYm",
    "outputId": "b65e1102-f5e1-4a2d-a958-fcd1595b61af",
    "scrolled": true
   },
   "outputs": [
    {
     "data": {
      "text/plain": [
       "<matplotlib.legend.Legend at 0x1d097640d30>"
      ]
     },
     "execution_count": 27,
     "metadata": {},
     "output_type": "execute_result"
    },
    {
     "data": {
      "image/png": "[encoded data removed]",
      "text/plain": [
       "<Figure size 432x288 with 1 Axes>"
      ]
     },
     "metadata": {
      "needs_background": "light"
     },
     "output_type": "display_data"
    }
   ],
   "source": [
    "plt.plot(train_loss_list)\n",
    "plt.plot(val_loss_list)\n",
    "plt.title('model loss')\n",
    "plt.ylabel('loss')\n",
    "plt.xlabel('epoch')\n",
    "plt.legend(['train', 'validation'], loc='upper right')"
   ]
  },
  {
   "cell_type": "code",
   "execution_count": 32,
   "metadata": {
    "id": "6OhpaJLkzfLf"
   },
   "outputs": [
    {
     "name": "stdout",
     "output_type": "stream",
     "text": [
      "Model MAE : 0.747111439704895\n",
      "18155.851089969758\n",
      "Model MAE : 0.747111439704895\n",
      "17618.94677734375\n",
      "Model MAE : 0.747111439704895\n",
      "17594.490121254123\n",
      "Model MAE : 0.747111439704895\n",
      "16007.28352244089\n",
      "Model MAE : 0.747111439704895\n",
      "15591.265652564263\n",
      "Model MAE : 0.747111439704895\n",
      "18122.02872983871\n",
      "Model MAE : 0.747111439704895\n",
      "17799.672387623716\n",
      "Model MAE : 0.747111439704895\n",
      "16604.07169429298\n",
      "Model MAE : 0.747111439704895\n",
      "14333.87597369868\n",
      "Model MAE : 0.747111439704895\n",
      "14514.511208990103\n"
     ]
    }
   ],
   "source": [
    "for i in range(10, 101 ,10) :\n",
    "    model.load_weights(f\"../data/model_weights/model_100_1320_682_cluster_2/model_{i}.pth\")\n",
    "    X_test, y_test = preprocessor.transform(test_data.values)\n",
    "    scores = np.mean(np.abs(y_test , model.predict(X_test)[0]))\n",
    "\n",
    "    print(f\"Model MAE : {scores}\")\n",
    "\n",
    "    # Predict\n",
    "    y_pred,_ = model.predict(X_test)\n",
    "    y_pred = preprocessor.y_scaler.inverse_transform(y_pred.reshape(-1, 1))\n",
    "    y_test = preprocessor.y_scaler.inverse_transform(y_test.reshape(-1, 1))\n",
    "    comparison = np.hstack([y_pred, y_test])\n",
    "    print(np.mean(np.abs(y_test - y_pred)))"
   ]
  },
  {
   "cell_type": "code",
   "execution_count": 34,
   "metadata": {},
   "outputs": [
    {
     "name": "stdout",
     "output_type": "stream",
     "text": [
      "14514.511208990103\n"
     ]
    }
   ],
   "source": [
    "X_test, y_test = preprocessor.transform(test_data.values)\n",
    "model.load_weights(f\"../data/model_weights/model_100_1320_682_cluster_2/model_100.pth\")\n",
    "y_pred,_ = model.predict(X_test)\n",
    "y_pred = preprocessor.y_scaler.inverse_transform(y_pred.reshape(-1, 1))\n",
    "y_test = preprocessor.y_scaler.inverse_transform(y_test.reshape(-1, 1))\n",
    "comparison = np.hstack([y_pred, y_test])\n",
    "print(np.mean(np.abs(y_test - y_pred)))"
   ]
  },
  {
   "cell_type": "code",
   "execution_count": 35,
   "metadata": {
    "colab": {
     "base_uri": "https://localhost:8080/",
     "height": 428
    },
    "id": "znrmn2qA3UNA",
    "outputId": "e12b383b-21f1-41d7-a765-970c20e2ba9f"
   },
   "outputs": [
    {
     "data": {
      "image/png": "[encoded data removed]",
      "text/plain": [
       "<Figure size 1080x504 with 1 Axes>"
      ]
     },
     "metadata": {
      "needs_background": "light"
     },
     "output_type": "display_data"
    }
   ],
   "source": [
    "plt.figure(figsize=(15,7))\n",
    "plt.plot(comparison[200:400])\n",
    "plt.legend(['pred','real'])\n",
    "plt.show()"
   ]
  },
  {
   "cell_type": "code",
   "execution_count": 36,
   "metadata": {},
   "outputs": [],
   "source": [
    "data = pd.read_csv(f'../data/processed_data/클러스터_{cluster_num}_최종피쳐.csv', encoding = 'cp949')\n",
    "final_test_data = data[-look_back_window:]"
   ]
  },
  {
   "cell_type": "code",
   "execution_count": 37,
   "metadata": {},
   "outputs": [
    {
     "name": "stderr",
     "output_type": "stream",
     "text": [
      "C:\\ProgramData\\Anaconda3\\lib\\site-packages\\pandas\\core\\frame.py:4163: SettingWithCopyWarning: \n",
      "A value is trying to be set on a copy of a slice from a DataFrame\n",
      "\n",
      "See the caveats in the documentation: https://pandas.pydata.org/pandas-docs/stable/user_guide/indexing.html#returning-a-view-versus-a-copy\n",
      "  return super().drop(\n"
     ]
    }
   ],
   "source": [
    "final_dong_list = final_test_data.읍면동.unique()\n",
    "final_test_data.drop(columns = '읍면동', inplace = True)"
   ]
  },
  {
   "cell_type": "code",
   "execution_count": 38,
   "metadata": {},
   "outputs": [],
   "source": [
    "final_test_data = final_test_data.set_index(['일자'])"
   ]
  },
  {
   "cell_type": "code",
   "execution_count": 39,
   "metadata": {
    "scrolled": false
   },
   "outputs": [],
   "source": [
    "a = scaler.transform(final_test_data)"
   ]
  },
  {
   "cell_type": "code",
   "execution_count": 40,
   "metadata": {},
   "outputs": [
    {
     "data": {
      "text/plain": [
       "(1, 1320, 36)"
      ]
     },
     "execution_count": 40,
     "metadata": {},
     "output_type": "execute_result"
    }
   ],
   "source": [
    "np.asarray([a]).shape"
   ]
  },
  {
   "cell_type": "code",
   "execution_count": 41,
   "metadata": {},
   "outputs": [],
   "source": [
    "y_pred,_ = model.predict(np.asarray([a]))"
   ]
  },
  {
   "cell_type": "code",
   "execution_count": 42,
   "metadata": {},
   "outputs": [],
   "source": [
    "y_pred = preprocessor.y_scaler.inverse_transform(y_pred.reshape(-1, 1))"
   ]
  },
  {
   "cell_type": "code",
   "execution_count": 47,
   "metadata": {},
   "outputs": [
    {
     "data": {
      "text/plain": [
       "array([[ 40111.297],\n",
       "       [ 61570.44 ],\n",
       "       [ 79848.164],\n",
       "       [ 28347.992],\n",
       "       [202876.66 ],\n",
       "       [ 91092.47 ],\n",
       "       [ 66158.26 ],\n",
       "       [231214.23 ],\n",
       "       [ 14771.696],\n",
       "       [165587.61 ],\n",
       "       [ 69625.91 ],\n",
       "       [ 36348.31 ],\n",
       "       [ 63994.39 ],\n",
       "       [ 72844.63 ],\n",
       "       [ 24520.797],\n",
       "       [207966.31 ],\n",
       "       [ 91794.4  ],\n",
       "       [ 65627.1  ],\n",
       "       [231483.03 ],\n",
       "       [ 20378.969],\n",
       "       [159334.73 ],\n",
       "       [ 71983.23 ],\n",
       "       [ 32449.098],\n",
       "       [ 63986.016],\n",
       "       [ 71611.48 ],\n",
       "       [ 26236.375],\n",
       "       [202029.16 ],\n",
       "       [ 94093.25 ],\n",
       "       [ 70583.695],\n",
       "       [231514.06 ],\n",
       "       [ 15026.493],\n",
       "       [160368.39 ],\n",
       "       [ 78542.625],\n",
       "       [ 36757.375],\n",
       "       [ 70685.85 ],\n",
       "       [ 77442.28 ],\n",
       "       [ 29023.668],\n",
       "       [201939.95 ],\n",
       "       [ 89500.41 ],\n",
       "       [ 72037.766],\n",
       "       [230978.84 ],\n",
       "       [ 22292.852],\n",
       "       [155468.27 ],\n",
       "       [ 76321.34 ],\n",
       "       [ 39393.473],\n",
       "       [ 58956.56 ],\n",
       "       [ 79390.53 ],\n",
       "       [ 26593.723],\n",
       "       [202008.75 ],\n",
       "       [ 90770.12 ],\n",
       "       [ 66188.61 ],\n",
       "       [232511.89 ],\n",
       "       [ 16065.892],\n",
       "       [157794.03 ],\n",
       "       [ 64849.625],\n",
       "       [ 33720.   ],\n",
       "       [ 60982.75 ],\n",
       "       [ 72086.484],\n",
       "       [ 23345.047],\n",
       "       [204365.98 ],\n",
       "       [ 92533.516],\n",
       "       [ 70103.945],\n",
       "       [225238.14 ],\n",
       "       [ 19293.555],\n",
       "       [157591.86 ],\n",
       "       [ 66784.28 ],\n",
       "       [ 37072.332],\n",
       "       [ 62866.793],\n",
       "       [ 73121.28 ],\n",
       "       [ 24121.508],\n",
       "       [203840.25 ],\n",
       "       [ 93179.76 ],\n",
       "       [ 74678.1  ],\n",
       "       [233932.77 ],\n",
       "       [ 21958.29 ],\n",
       "       [161896.06 ],\n",
       "       [ 77293.695],\n",
       "       [ 37867.844],\n",
       "       [ 62257.82 ],\n",
       "       [ 78948.555],\n",
       "       [ 27010.633],\n",
       "       [209933.9  ],\n",
       "       [ 95309.5  ],\n",
       "       [ 67281.73 ],\n",
       "       [233992.83 ],\n",
       "       [ 21915.766],\n",
       "       [160610.55 ],\n",
       "       [ 69328.266],\n",
       "       [ 36078.594],\n",
       "       [ 64757.35 ],\n",
       "       [ 75745.96 ],\n",
       "       [ 27296.477],\n",
       "       [204215.98 ],\n",
       "       [ 91727.555],\n",
       "       [ 70683.625],\n",
       "       [229596.6  ],\n",
       "       [ 14745.774],\n",
       "       [157700.67 ],\n",
       "       [ 71482.5  ],\n",
       "       [ 33693.4  ],\n",
       "       [ 60980.336],\n",
       "       [ 73049.586],\n",
       "       [ 29778.73 ],\n",
       "       [206423.94 ],\n",
       "       [ 90257.055],\n",
       "       [ 66199.055],\n",
       "       [230623.14 ],\n",
       "       [ 20715.023],\n",
       "       [159892.8  ],\n",
       "       [ 73793.21 ],\n",
       "       [ 38090.727],\n",
       "       [ 59612.137],\n",
       "       [ 72103.484],\n",
       "       [ 27074.508],\n",
       "       [204547.53 ],\n",
       "       [ 88746.9  ],\n",
       "       [ 68437.82 ],\n",
       "       [230808.16 ],\n",
       "       [ 15336.306],\n",
       "       [155244.7  ],\n",
       "       [ 76214.29 ],\n",
       "       [ 30428.648],\n",
       "       [ 66423.98 ],\n",
       "       [ 74383.74 ],\n",
       "       [ 28022.18 ],\n",
       "       [204043.06 ],\n",
       "       [ 92766.125],\n",
       "       [ 72496.35 ],\n",
       "       [231618.5  ],\n",
       "       [ 17302.031],\n",
       "       [159185.53 ],\n",
       "       [ 73158.555],\n",
       "       [ 39888.688],\n",
       "       [ 64902.91 ],\n",
       "       [ 78723.625],\n",
       "       [ 30480.98 ],\n",
       "       [203638.03 ],\n",
       "       [ 92823.12 ],\n",
       "       [ 75123.266],\n",
       "       [228789.7  ],\n",
       "       [ 14391.29 ],\n",
       "       [157704.31 ],\n",
       "       [ 73618.664],\n",
       "       [ 36320.586],\n",
       "       [ 65147.363],\n",
       "       [ 75424.42 ],\n",
       "       [ 33570.082],\n",
       "       [210005.1  ],\n",
       "       [ 91913.734],\n",
       "       [ 63265.223],\n",
       "       [234100.83 ],\n",
       "       [ 19327.156],\n",
       "       [164010.98 ],\n",
       "       [ 76071.81 ],\n",
       "       [ 37853.36 ],\n",
       "       [ 67704.164],\n",
       "       [ 72901.086],\n",
       "       [ 24486.29 ],\n",
       "       [208760.23 ],\n",
       "       [ 94761.92 ],\n",
       "       [ 64232.812],\n",
       "       [230203.67 ],\n",
       "       [ 18275.062],\n",
       "       [158473.5  ],\n",
       "       [ 75645.664],\n",
       "       [ 37903.66 ],\n",
       "       [ 68972.54 ],\n",
       "       [ 80553.88 ],\n",
       "       [ 26755.61 ],\n",
       "       [204302.39 ],\n",
       "       [ 88442.74 ],\n",
       "       [ 68176.03 ],\n",
       "       [234806.66 ],\n",
       "       [ 17713.594],\n",
       "       [160081.5  ],\n",
       "       [ 74680.87 ],\n",
       "       [ 33783.438],\n",
       "       [ 65223.13 ],\n",
       "       [ 76435.8  ],\n",
       "       [ 25246.578],\n",
       "       [210520.47 ],\n",
       "       [ 92034.39 ],\n",
       "       [ 74807.22 ],\n",
       "       [229972.94 ],\n",
       "       [ 17722.297],\n",
       "       [162945.2  ],\n",
       "       [ 76157.94 ],\n",
       "       [ 34420.11 ],\n",
       "       [ 66499.66 ],\n",
       "       [ 72299.09 ],\n",
       "       [ 33857.523],\n",
       "       [206300.62 ],\n",
       "       [ 87719.39 ],\n",
       "       [ 72404.56 ],\n",
       "       [229983.98 ],\n",
       "       [ 18691.18 ],\n",
       "       [159268.89 ],\n",
       "       [ 75824.55 ],\n",
       "       [ 38756.676],\n",
       "       [ 68551.586],\n",
       "       [ 75059.94 ],\n",
       "       [ 34072.59 ],\n",
       "       [204262.28 ],\n",
       "       [ 90532.99 ],\n",
       "       [ 69609.56 ],\n",
       "       [231915.89 ],\n",
       "       [ 22448.312],\n",
       "       [161675.14 ],\n",
       "       [ 73777.05 ],\n",
       "       [ 39765.58 ],\n",
       "       [ 68089.555],\n",
       "       [ 73580.73 ],\n",
       "       [ 32070.676],\n",
       "       [202416.98 ],\n",
       "       [ 91042.63 ],\n",
       "       [ 65486.004],\n",
       "       [231951.67 ],\n",
       "       [ 23185.46 ],\n",
       "       [160228.33 ],\n",
       "       [ 76907.39 ],\n",
       "       [ 43825.848],\n",
       "       [ 66238.46 ],\n",
       "       [ 81041.52 ],\n",
       "       [ 26174.312],\n",
       "       [209800.03 ],\n",
       "       [ 93944.73 ],\n",
       "       [ 69244.23 ],\n",
       "       [232302.88 ],\n",
       "       [ 18411.5  ],\n",
       "       [162107.97 ],\n",
       "       [ 82973.44 ],\n",
       "       [ 34717.332],\n",
       "       [ 65491.875],\n",
       "       [ 79665.914],\n",
       "       [ 26504.336],\n",
       "       [208950.17 ],\n",
       "       [ 90944.68 ],\n",
       "       [ 72436.4  ],\n",
       "       [226739.84 ],\n",
       "       [ 28526.664],\n",
       "       [156147.89 ],\n",
       "       [ 73998.14 ],\n",
       "       [ 38870.902],\n",
       "       [ 65893.66 ],\n",
       "       [ 77315.64 ],\n",
       "       [ 31679.258],\n",
       "       [212287.73 ],\n",
       "       [ 92740.75 ],\n",
       "       [ 65356.023],\n",
       "       [230328.81 ],\n",
       "       [ 11964.399],\n",
       "       [159193.4  ],\n",
       "       [ 81151.35 ],\n",
       "       [ 43531.54 ],\n",
       "       [ 66501.016],\n",
       "       [ 71271.164],\n",
       "       [ 29348.371],\n",
       "       [207666.05 ],\n",
       "       [ 89821.68 ],\n",
       "       [ 67847.32 ],\n",
       "       [232297.55 ],\n",
       "       [ 18396.367],\n",
       "       [155912.31 ],\n",
       "       [ 74271.15 ],\n",
       "       [ 36267.54 ],\n",
       "       [ 68553.83 ],\n",
       "       [ 78877.29 ],\n",
       "       [ 21431.938],\n",
       "       [197650.98 ],\n",
       "       [ 93732.836],\n",
       "       [ 67258.625],\n",
       "       [236452.33 ],\n",
       "       [ 14660.188],\n",
       "       [160461.05 ],\n",
       "       [ 76646.41 ],\n",
       "       [ 32177.023],\n",
       "       [ 67204.97 ],\n",
       "       [ 82797.03 ],\n",
       "       [ 24157.742],\n",
       "       [198926.56 ],\n",
       "       [100864.87 ],\n",
       "       [ 65265.9  ],\n",
       "       [232737.97 ],\n",
       "       [ 20119.625],\n",
       "       [164082.81 ],\n",
       "       [ 78860.06 ],\n",
       "       [ 31477.977],\n",
       "       [ 64916.33 ],\n",
       "       [ 71816.97 ],\n",
       "       [ 29100.2  ],\n",
       "       [199360.77 ],\n",
       "       [ 89819.   ],\n",
       "       [ 66924.14 ],\n",
       "       [236077.08 ],\n",
       "       [ 19600.156],\n",
       "       [160858.94 ],\n",
       "       [ 73276.055],\n",
       "       [ 41578.51 ],\n",
       "       [ 66174.02 ],\n",
       "       [ 79250.586],\n",
       "       [ 30116.387],\n",
       "       [199963.88 ],\n",
       "       [ 90660.45 ],\n",
       "       [ 66601.38 ],\n",
       "       [229989.53 ],\n",
       "       [ 19675.781],\n",
       "       [163961.47 ],\n",
       "       [ 70683.94 ],\n",
       "       [ 44298.344],\n",
       "       [ 61393.82 ],\n",
       "       [ 73073.336],\n",
       "       [ 23964.984],\n",
       "       [201209.   ],\n",
       "       [ 90420.8  ],\n",
       "       [ 69252.23 ],\n",
       "       [236209.73 ],\n",
       "       [ 19727.281],\n",
       "       [162950.42 ],\n",
       "       [ 79134.664],\n",
       "       [ 41328.324],\n",
       "       [ 66571.44 ],\n",
       "       [ 78011.47 ],\n",
       "       [ 27584.5  ],\n",
       "       [199981.44 ],\n",
       "       [ 89757.555],\n",
       "       [ 72801.984],\n",
       "       [229050.36 ],\n",
       "       [ 26068.727],\n",
       "       [161978.58 ],\n",
       "       [ 77502.48 ],\n",
       "       [ 40396.258],\n",
       "       [ 65379.652],\n",
       "       [ 70322.4  ],\n",
       "       [ 27842.16 ],\n",
       "       [201166.31 ],\n",
       "       [ 90796.7  ],\n",
       "       [ 74072.61 ],\n",
       "       [237604.53 ],\n",
       "       [ 23399.43 ],\n",
       "       [154991.88 ],\n",
       "       [ 74239.41 ],\n",
       "       [ 41197.188],\n",
       "       [ 66198.516],\n",
       "       [ 75713.46 ],\n",
       "       [ 30192.875],\n",
       "       [199554.45 ],\n",
       "       [ 92779.39 ],\n",
       "       [ 69711.04 ],\n",
       "       [234310.81 ],\n",
       "       [ 22846.914],\n",
       "       [156003.45 ],\n",
       "       [ 81264.29 ],\n",
       "       [ 37411.367],\n",
       "       [ 67151.57 ],\n",
       "       [ 73473.36 ],\n",
       "       [ 30299.344],\n",
       "       [201048.02 ],\n",
       "       [ 94142.84 ],\n",
       "       [ 63348.973],\n",
       "       [238542.48 ],\n",
       "       [ 24571.54 ],\n",
       "       [164125.66 ],\n",
       "       [ 76712.59 ],\n",
       "       [ 44066.355],\n",
       "       [ 68394.5  ],\n",
       "       [ 76302.336],\n",
       "       [ 27836.902],\n",
       "       [201389.02 ],\n",
       "       [ 98521.76 ],\n",
       "       [ 65297.62 ],\n",
       "       [233440.06 ],\n",
       "       [ 20249.633],\n",
       "       [157405.25 ],\n",
       "       [ 80204.445],\n",
       "       [ 33577.258],\n",
       "       [ 65549.46 ],\n",
       "       [ 72776.87 ],\n",
       "       [ 25638.477],\n",
       "       [201402.78 ],\n",
       "       [ 96801.68 ],\n",
       "       [ 68094.61 ],\n",
       "       [231596.53 ],\n",
       "       [ 14558.032],\n",
       "       [159326.12 ],\n",
       "       [ 81758.83 ],\n",
       "       [ 36547.   ],\n",
       "       [ 65664.83 ],\n",
       "       [ 80841.28 ],\n",
       "       [ 30606.184],\n",
       "       [200090.   ],\n",
       "       [ 95317.82 ],\n",
       "       [ 65980.56 ],\n",
       "       [230433.81 ],\n",
       "       [ 16609.312],\n",
       "       [157953.78 ],\n",
       "       [ 72880.06 ],\n",
       "       [ 41774.21 ],\n",
       "       [ 71942.86 ],\n",
       "       [ 71331.57 ],\n",
       "       [ 30357.184],\n",
       "       [206668.16 ],\n",
       "       [ 94317.03 ],\n",
       "       [ 74391.63 ],\n",
       "       [230616.39 ],\n",
       "       [ 18792.031],\n",
       "       [160656.28 ],\n",
       "       [ 80888.37 ],\n",
       "       [ 40834.24 ],\n",
       "       [ 63141.54 ],\n",
       "       [ 79107.39 ],\n",
       "       [ 32126.488],\n",
       "       [204019.45 ],\n",
       "       [ 89214.305],\n",
       "       [ 67863.41 ],\n",
       "       [231887.1  ],\n",
       "       [ 24777.758],\n",
       "       [164633.9  ],\n",
       "       [ 76085.945],\n",
       "       [ 44797.453],\n",
       "       [ 65215.215],\n",
       "       [ 67842.6  ],\n",
       "       [ 26404.898],\n",
       "       [204469.67 ],\n",
       "       [ 87739.25 ],\n",
       "       [ 62734.29 ],\n",
       "       [232736.92 ],\n",
       "       [ 17203.438],\n",
       "       [163290.6  ],\n",
       "       [ 74318.945],\n",
       "       [ 40194.047],\n",
       "       [ 64950.92 ],\n",
       "       [ 75056.84 ],\n",
       "       [ 31761.258],\n",
       "       [202009.08 ],\n",
       "       [ 93207.38 ],\n",
       "       [ 64647.17 ],\n",
       "       [226420.84 ],\n",
       "       [ 23015.266],\n",
       "       [158038.67 ],\n",
       "       [ 75761.52 ],\n",
       "       [ 34712.84 ],\n",
       "       [ 61739.387],\n",
       "       [ 71859.516],\n",
       "       [ 31057.934],\n",
       "       [200137.36 ],\n",
       "       [ 96600.14 ],\n",
       "       [ 66565.15 ],\n",
       "       [235366.38 ],\n",
       "       [ 23911.945],\n",
       "       [157041.69 ],\n",
       "       [ 70670.77 ],\n",
       "       [ 40198.023],\n",
       "       [ 62902.508],\n",
       "       [ 76889.234],\n",
       "       [ 29376.746],\n",
       "       [203618.22 ],\n",
       "       [ 95112.46 ],\n",
       "       [ 71133.7  ],\n",
       "       [234518.36 ],\n",
       "       [ 22902.781],\n",
       "       [162477.52 ],\n",
       "       [ 75324.26 ],\n",
       "       [ 40138.848],\n",
       "       [ 69199.27 ],\n",
       "       [ 72315.2  ],\n",
       "       [ 32833.535],\n",
       "       [205648.61 ],\n",
       "       [ 97583.8  ],\n",
       "       [ 69663.945],\n",
       "       [234815.78 ],\n",
       "       [ 23417.68 ],\n",
       "       [161905.5  ],\n",
       "       [ 78972.164],\n",
       "       [ 42152.78 ],\n",
       "       [ 66942.11 ],\n",
       "       [ 77475.664],\n",
       "       [ 25549.   ],\n",
       "       [204507.17 ],\n",
       "       [ 92575.734],\n",
       "       [ 73227.95 ],\n",
       "       [227456.64 ],\n",
       "       [ 28396.652],\n",
       "       [161488.12 ],\n",
       "       [ 73715.664],\n",
       "       [ 40996.023],\n",
       "       [ 61295.29 ],\n",
       "       [ 77074.164],\n",
       "       [ 32629.207],\n",
       "       [195229.23 ],\n",
       "       [ 92554.734],\n",
       "       [ 72303.51 ],\n",
       "       [231383.34 ],\n",
       "       [ 17428.18 ],\n",
       "       [163044.81 ],\n",
       "       [ 75824.74 ],\n",
       "       [ 38365.645],\n",
       "       [ 68813.29 ],\n",
       "       [ 79611.15 ],\n",
       "       [ 32691.586],\n",
       "       [205560.89 ],\n",
       "       [ 92247.67 ],\n",
       "       [ 68015.58 ],\n",
       "       [236107.38 ],\n",
       "       [ 29383.008],\n",
       "       [162075.83 ],\n",
       "       [ 79906.695],\n",
       "       [ 37129.76 ],\n",
       "       [ 64957.816],\n",
       "       [ 77127.24 ],\n",
       "       [ 31625.938],\n",
       "       [204238.11 ],\n",
       "       [ 93808.82 ],\n",
       "       [ 73224.64 ],\n",
       "       [232078.1  ],\n",
       "       [ 18482.633],\n",
       "       [163199.95 ],\n",
       "       [ 76300.34 ],\n",
       "       [ 33790.867],\n",
       "       [ 62582.582],\n",
       "       [ 71844.17 ],\n",
       "       [ 29431.996],\n",
       "       [203879.73 ],\n",
       "       [ 95186.695],\n",
       "       [ 70661.51 ],\n",
       "       [231458.9  ],\n",
       "       [ 20671.54 ],\n",
       "       [156784.45 ],\n",
       "       [ 75385.59 ],\n",
       "       [ 41930.004],\n",
       "       [ 65142.434],\n",
       "       [ 70431.81 ],\n",
       "       [ 30849.105],\n",
       "       [202104.08 ],\n",
       "       [ 92986.73 ],\n",
       "       [ 69050.56 ],\n",
       "       [228230.62 ],\n",
       "       [ 18380.344],\n",
       "       [161512.61 ],\n",
       "       [ 73361.46 ],\n",
       "       [ 42652.72 ],\n",
       "       [ 69107.016],\n",
       "       [ 77193.21 ],\n",
       "       [ 30552.922],\n",
       "       [200971.2  ],\n",
       "       [ 92744.25 ],\n",
       "       [ 66896.66 ],\n",
       "       [233751.23 ],\n",
       "       [ 13794.97 ],\n",
       "       [163475.67 ],\n",
       "       [ 76008.71 ],\n",
       "       [ 41979.152],\n",
       "       [ 71381.57 ],\n",
       "       [ 77249.055],\n",
       "       [ 30796.55 ],\n",
       "       [203776.88 ],\n",
       "       [ 98032.54 ],\n",
       "       [ 65937.64 ],\n",
       "       [229157.19 ],\n",
       "       [ 22714.812],\n",
       "       [159632.83 ],\n",
       "       [ 75066.01 ],\n",
       "       [ 37376.32 ],\n",
       "       [ 63855.32 ],\n",
       "       [ 75845.34 ],\n",
       "       [ 32322.387],\n",
       "       [200129.48 ],\n",
       "       [ 99375.09 ],\n",
       "       [ 66213.54 ],\n",
       "       [228137.73 ],\n",
       "       [ 29709.758],\n",
       "       [164027.45 ],\n",
       "       [ 80587.336],\n",
       "       [ 35420.723],\n",
       "       [ 67752.34 ],\n",
       "       [ 73294.42 ],\n",
       "       [ 35731.49 ],\n",
       "       [201135.8  ],\n",
       "       [ 93876.77 ],\n",
       "       [ 72174.68 ],\n",
       "       [232395.44 ],\n",
       "       [ 18634.031],\n",
       "       [162507.5  ],\n",
       "       [ 78478.6  ],\n",
       "       [ 37649.402],\n",
       "       [ 61175.04 ],\n",
       "       [ 73728.97 ],\n",
       "       [ 33011.062],\n",
       "       [202014.94 ],\n",
       "       [ 93243.81 ],\n",
       "       [ 70714.77 ],\n",
       "       [238022.17 ],\n",
       "       [ 19869.062],\n",
       "       [160177.19 ],\n",
       "       [ 76561.516],\n",
       "       [ 40341.504],\n",
       "       [ 63298.297],\n",
       "       [ 72148.76 ],\n",
       "       [ 31782.398],\n",
       "       [203691.88 ],\n",
       "       [ 94048.15 ],\n",
       "       [ 69960.09 ],\n",
       "       [231275.42 ],\n",
       "       [ 20781.492],\n",
       "       [162780.78 ],\n",
       "       [ 71151.13 ],\n",
       "       [ 44505.06 ],\n",
       "       [ 62701.4  ],\n",
       "       [ 73801.22 ],\n",
       "       [ 30471.555],\n",
       "       [201116.75 ],\n",
       "       [ 92685.87 ],\n",
       "       [ 70048.15 ],\n",
       "       [235868.05 ],\n",
       "       [ 19317.938],\n",
       "       [165214.52 ],\n",
       "       [ 70178.67 ],\n",
       "       [ 34117.695],\n",
       "       [ 62781.402],\n",
       "       [ 77411.914],\n",
       "       [ 32306.094],\n",
       "       [199189.34 ],\n",
       "       [ 97298.27 ],\n",
       "       [ 69931.18 ],\n",
       "       [232827.67 ],\n",
       "       [ 20526.078],\n",
       "       [161341.27 ],\n",
       "       [ 73378.06 ],\n",
       "       [ 32841.152],\n",
       "       [ 62309.336],\n",
       "       [ 74273.67 ],\n",
       "       [ 36339.336],\n",
       "       [202422.75 ],\n",
       "       [ 96205.2  ],\n",
       "       [ 76031.266],\n",
       "       [230287.14 ],\n",
       "       [ 18330.953],\n",
       "       [159884.73 ],\n",
       "       [ 73109.4  ],\n",
       "       [ 37029.555],\n",
       "       [ 64349.76 ],\n",
       "       [ 70656.305],\n",
       "       [ 27326.742],\n",
       "       [199508.19 ],\n",
       "       [ 91714.47 ],\n",
       "       [ 68865.03 ],\n",
       "       [235010.84 ],\n",
       "       [ 28199.648],\n",
       "       [158458.2  ],\n",
       "       [ 75017.23 ],\n",
       "       [ 36003.31 ],\n",
       "       [ 63722.29 ],\n",
       "       [ 77403.195],\n",
       "       [ 29402.8  ],\n",
       "       [200696.27 ],\n",
       "       [ 91757.89 ],\n",
       "       [ 65403.92 ],\n",
       "       [228111.88 ],\n",
       "       [ 22763.086],\n",
       "       [160953.62 ],\n",
       "       [ 76712.52 ],\n",
       "       [ 43476.32 ],\n",
       "       [ 65475.81 ],\n",
       "       [ 76430.73 ],\n",
       "       [ 33904.59 ],\n",
       "       [197096.55 ],\n",
       "       [ 97717.87 ],\n",
       "       [ 69656.55 ],\n",
       "       [235139.52 ],\n",
       "       [ 24978.578],\n",
       "       [160729.05 ],\n",
       "       [ 76653.766],\n",
       "       [ 30384.43 ],\n",
       "       [ 64878.1  ],\n",
       "       [ 71430.55 ],\n",
       "       [ 28526.938],\n",
       "       [193580.55 ],\n",
       "       [ 94547.32 ],\n",
       "       [ 67305.266],\n",
       "       [226466.53 ],\n",
       "       [ 19069.5  ],\n",
       "       [164994.8  ],\n",
       "       [ 74594.72 ]], dtype=float32)"
      ]
     },
     "execution_count": 47,
     "metadata": {},
     "output_type": "execute_result"
    }
   ],
   "source": [
    "y_pred"
   ]
  },
  {
   "cell_type": "code",
   "execution_count": 44,
   "metadata": {},
   "outputs": [],
   "source": [
    "final_test_data = data[-look_back_window:]"
   ]
  },
  {
   "cell_type": "code",
   "execution_count": 48,
   "metadata": {},
   "outputs": [
    {
     "data": {
      "text/plain": [
       "['건입동',\n",
       " '대천동',\n",
       " '삼도1동',\n",
       " '안덕면',\n",
       " '연동',\n",
       " '외도동',\n",
       " '용담2동',\n",
       " '이도2동',\n",
       " '일도1동',\n",
       " '일도2동',\n",
       " '중문동']"
      ]
     },
     "execution_count": 48,
     "metadata": {},
     "output_type": "execute_result"
    }
   ],
   "source": [
    "list(final_dong_list)"
   ]
  },
  {
   "cell_type": "code",
   "execution_count": 49,
   "metadata": {},
   "outputs": [],
   "source": [
    "final_dong_cluster_2 = list(final_dong_list) * int(y_pred.shape[0] / len(final_dong_list))"
   ]
  },
  {
   "cell_type": "code",
   "execution_count": 50,
   "metadata": {},
   "outputs": [],
   "source": [
    "final_result = pd.DataFrame(np.vstack([final_dong_cluster_2,np.reshape(y_pred, (y_pred.shape[0]))]).T, columns=['읍면동','7_8월예측값'])"
   ]
  },
  {
   "cell_type": "code",
   "execution_count": 51,
   "metadata": {},
   "outputs": [
    {
     "data": {
      "text/html": [
       "<div>\n",
       "<style scoped>\n",
       "    .dataframe tbody tr th:only-of-type {\n",
       "        vertical-align: middle;\n",
       "    }\n",
       "\n",
       "    .dataframe tbody tr th {\n",
       "        vertical-align: top;\n",
       "    }\n",
       "\n",
       "    .dataframe thead th {\n",
       "        text-align: right;\n",
       "    }\n",
       "</style>\n",
       "<table border=\"1\" class=\"dataframe\">\n",
       "  <thead>\n",
       "    <tr style=\"text-align: right;\">\n",
       "      <th></th>\n",
       "      <th>읍면동</th>\n",
       "      <th>7_8월예측값</th>\n",
       "    </tr>\n",
       "  </thead>\n",
       "  <tbody>\n",
       "  </tbody>\n",
       "</table>\n",
       "</div>"
      ],
      "text/plain": [
       "Empty DataFrame\n",
       "Columns: [읍면동, 7_8월예측값]\n",
       "Index: []"
      ]
     },
     "execution_count": 51,
     "metadata": {},
     "output_type": "execute_result"
    }
   ],
   "source": [
    "final_result[final_result['7_8월예측값'].astype('float') < 0 ] #음수값이 있나 확인"
   ]
  },
  {
   "cell_type": "code",
   "execution_count": 52,
   "metadata": {},
   "outputs": [],
   "source": [
    "final_result.to_csv(f'../data/processed_data/cluster_{cluster_num}_final_result.csv', encoding = 'cp949', index = False)"
   ]
  }
 ],
 "metadata": {
  "accelerator": "GPU",
  "colab": {
   "collapsed_sections": [],
   "name": "빅콘_모델링-2021-09-12.ipynb",
   "provenance": []
  },
  "kernelspec": {
   "display_name": "Python 3",
   "language": "python",
   "name": "python3"
  },
  "language_info": {
   "codemirror_mode": {
    "name": "ipython",
    "version": 3
   },
   "file_extension": ".py",
   "mimetype": "text/x-python",
   "name": "python",
   "nbconvert_exporter": "python",
   "pygments_lexer": "ipython3",
   "version": "3.7.9"
  }
 },
 "nbformat": 4,
 "nbformat_minor": 1
}
