{
 "cells": [
  {
   "cell_type": "markdown",
   "metadata": {},
   "source": [
    "# 0-2. 여성 월별 거주인구 -> 일별 거주인구"
   ]
  },
  {
   "cell_type": "markdown",
   "metadata": {},
   "source": [
    "- 거주인구데이터가 월별로 되어있기 때문에 에측에 사용하기 위해 일별 변환\n",
    "- 정규분포를 따르는 난수추출 방식을 사용"
   ]
  },
  {
   "cell_type": "code",
   "execution_count": 1,
   "metadata": {},
   "outputs": [],
   "source": [
    "import pandas as pd\n",
    "import numpy as np\n",
    "import matplotlib.pylab as plt\n",
    "import seaborn as sns\n",
    "import time"
   ]
  },
  {
   "cell_type": "code",
   "execution_count": 2,
   "metadata": {},
   "outputs": [],
   "source": [
    "Data_5 = pd.read_csv('../data/train_data/03_거주인구_RESIDENT_POP.CSV',encoding='cp949')"
   ]
  },
  {
   "cell_type": "code",
   "execution_count": 3,
   "metadata": {},
   "outputs": [],
   "source": [
    "Data_5 = Data_5.astype({'base_year': 'str', 'base_month' : 'str'})\n",
    "Data_5['base_date'] = Data_5['base_year'] + '-' + Data_5['base_month']"
   ]
  },
  {
   "cell_type": "code",
   "execution_count": 4,
   "metadata": {},
   "outputs": [],
   "source": [
    "Data_5['base_date'] = Data_5['base_date'].apply(lambda x: x.replace('-','-0') if len(x)==6 else x)"
   ]
  },
  {
   "cell_type": "code",
   "execution_count": 5,
   "metadata": {},
   "outputs": [],
   "source": [
    "Data_5 = Data_5.drop(['city','emd_cd','base_year','base_month'],axis=1)"
   ]
  },
  {
   "cell_type": "code",
   "execution_count": 6,
   "metadata": {},
   "outputs": [],
   "source": [
    "Data_5 = Data_5.groupby(['base_date','emd_nm','sex']).sum().reset_index()"
   ]
  },
  {
   "cell_type": "code",
   "execution_count": 7,
   "metadata": {},
   "outputs": [],
   "source": [
    "Data_5 = Data_5[Data_5['sex']=='여성']\n",
    "Data_5.drop('sex',axis=1,inplace=True)"
   ]
  },
  {
   "cell_type": "code",
   "execution_count": 8,
   "metadata": {},
   "outputs": [],
   "source": [
    "Data_5 = Data_5.drop(Data_5[Data_5.emd_nm == '우도면'].index)"
   ]
  },
  {
   "cell_type": "code",
   "execution_count": 9,
   "metadata": {},
   "outputs": [],
   "source": [
    "Data_5 = Data_5.drop(Data_5[Data_5.emd_nm == '추자면'].index)"
   ]
  },
  {
   "cell_type": "code",
   "execution_count": 10,
   "metadata": {},
   "outputs": [],
   "source": [
    "Date = pd.date_range('2018-01-01','2021-06-30',freq=\"D\")"
   ]
  },
  {
   "cell_type": "code",
   "execution_count": 11,
   "metadata": {},
   "outputs": [],
   "source": [
    "emd = Data_5.emd_nm.unique()"
   ]
  },
  {
   "cell_type": "code",
   "execution_count": 12,
   "metadata": {
    "scrolled": true
   },
   "outputs": [],
   "source": [
    "Date_df = pd.DataFrame(Date)\n",
    "Date_df.columns = ['Date']"
   ]
  },
  {
   "cell_type": "code",
   "execution_count": 13,
   "metadata": {
    "scrolled": true
   },
   "outputs": [],
   "source": [
    "emd_df = pd.DataFrame(emd)\n",
    "emd_df.columns = ['emd_nm']"
   ]
  },
  {
   "cell_type": "code",
   "execution_count": 14,
   "metadata": {},
   "outputs": [],
   "source": [
    "Date_new = []\n",
    "for i in range(len(Date)):\n",
    "    Date_new.append(str(Date[i]))"
   ]
  },
  {
   "cell_type": "code",
   "execution_count": 15,
   "metadata": {},
   "outputs": [],
   "source": [
    "Data_renew = []\n",
    "for i in range(len(Date_new)):\n",
    "    Data_renew.append(Date_new[i][:10])"
   ]
  },
  {
   "cell_type": "code",
   "execution_count": 16,
   "metadata": {},
   "outputs": [],
   "source": [
    "import itertools\n",
    "result = itertools.product(Data_renew, emd)\n",
    "result = list(result)"
   ]
  },
  {
   "cell_type": "code",
   "execution_count": 17,
   "metadata": {},
   "outputs": [
    {
     "data": {
      "text/plain": [
       "52357"
      ]
     },
     "execution_count": 17,
     "metadata": {},
     "output_type": "execute_result"
    }
   ],
   "source": [
    "len(result)"
   ]
  },
  {
   "cell_type": "code",
   "execution_count": 18,
   "metadata": {},
   "outputs": [
    {
     "data": {
      "text/plain": [
       "41"
      ]
     },
     "execution_count": 18,
     "metadata": {},
     "output_type": "execute_result"
    }
   ],
   "source": [
    "len(emd)"
   ]
  },
  {
   "cell_type": "code",
   "execution_count": 19,
   "metadata": {},
   "outputs": [
    {
     "data": {
      "text/plain": [
       "1277"
      ]
     },
     "execution_count": 19,
     "metadata": {},
     "output_type": "execute_result"
    }
   ],
   "source": [
    "len(Data_renew)"
   ]
  },
  {
   "cell_type": "code",
   "execution_count": 20,
   "metadata": {
    "scrolled": true
   },
   "outputs": [],
   "source": [
    "df = pd.DataFrame(list(result))\n",
    "df.columns = ['base_date','emd_nm']"
   ]
  },
  {
   "cell_type": "code",
   "execution_count": 21,
   "metadata": {},
   "outputs": [],
   "source": [
    "df = df.sort_values(by=['emd_nm','base_date'])\n",
    "df = df.reset_index()\n",
    "df = df.drop('index',axis=1)"
   ]
  },
  {
   "cell_type": "code",
   "execution_count": 22,
   "metadata": {},
   "outputs": [],
   "source": [
    "Data_5 = Data_5.sort_values(by=['emd_nm','base_date'])\n",
    "Data_5 = Data_5.reset_index()\n",
    "Data_5 = Data_5.drop('index',axis=1)"
   ]
  },
  {
   "cell_type": "code",
   "execution_count": 23,
   "metadata": {},
   "outputs": [],
   "source": [
    "size = [31,28,31,30,31,30,31,31,30,31,30,31,31,28,31,30,31,30,31,31,30,31,30,31,31,29,31,30,31,30,31,31,30,31,30,31,31,28,31,30,31,30]"
   ]
  },
  {
   "cell_type": "code",
   "execution_count": 24,
   "metadata": {},
   "outputs": [],
   "source": [
    "size = size*41"
   ]
  },
  {
   "cell_type": "code",
   "execution_count": 25,
   "metadata": {},
   "outputs": [],
   "source": [
    "resid_pop = []\n",
    "for i in range(len(Data_5)):\n",
    "    a=list(np.random.normal(Data_5['resid_reg_pop'][i], 50,size=size[i]).astype('int'))\n",
    "    resid_pop.extend(a)"
   ]
  },
  {
   "cell_type": "code",
   "execution_count": 26,
   "metadata": {},
   "outputs": [],
   "source": [
    "df['resid_pop'] = resid_pop"
   ]
  },
  {
   "cell_type": "code",
   "execution_count": 27,
   "metadata": {},
   "outputs": [],
   "source": [
    "foreign_pop = []\n",
    "for i in range(len(Data_5)):\n",
    "    a=list(np.random.normal(Data_5['foreign_pop'][i], size=size[i]).astype('int'))\n",
    "    foreign_pop.extend(a)"
   ]
  },
  {
   "cell_type": "code",
   "execution_count": 28,
   "metadata": {},
   "outputs": [],
   "source": [
    "df['foreign_pop'] = foreign_pop"
   ]
  },
  {
   "cell_type": "code",
   "execution_count": 29,
   "metadata": {},
   "outputs": [],
   "source": [
    "df['total_pop'] = df['resid_pop'] + df['foreign_pop']"
   ]
  },
  {
   "cell_type": "code",
   "execution_count": 30,
   "metadata": {},
   "outputs": [
    {
     "data": {
      "text/html": [
       "<div>\n",
       "<style scoped>\n",
       "    .dataframe tbody tr th:only-of-type {\n",
       "        vertical-align: middle;\n",
       "    }\n",
       "\n",
       "    .dataframe tbody tr th {\n",
       "        vertical-align: top;\n",
       "    }\n",
       "\n",
       "    .dataframe thead th {\n",
       "        text-align: right;\n",
       "    }\n",
       "</style>\n",
       "<table border=\"1\" class=\"dataframe\">\n",
       "  <thead>\n",
       "    <tr style=\"text-align: right;\">\n",
       "      <th></th>\n",
       "      <th>base_date</th>\n",
       "      <th>emd_nm</th>\n",
       "      <th>resid_pop</th>\n",
       "      <th>foreign_pop</th>\n",
       "      <th>total_pop</th>\n",
       "    </tr>\n",
       "  </thead>\n",
       "  <tbody>\n",
       "    <tr>\n",
       "      <th>0</th>\n",
       "      <td>2018-01-01</td>\n",
       "      <td>건입동</td>\n",
       "      <td>4659</td>\n",
       "      <td>81</td>\n",
       "      <td>4740</td>\n",
       "    </tr>\n",
       "    <tr>\n",
       "      <th>1</th>\n",
       "      <td>2018-01-02</td>\n",
       "      <td>건입동</td>\n",
       "      <td>4727</td>\n",
       "      <td>81</td>\n",
       "      <td>4808</td>\n",
       "    </tr>\n",
       "    <tr>\n",
       "      <th>2</th>\n",
       "      <td>2018-01-03</td>\n",
       "      <td>건입동</td>\n",
       "      <td>4738</td>\n",
       "      <td>82</td>\n",
       "      <td>4820</td>\n",
       "    </tr>\n",
       "    <tr>\n",
       "      <th>3</th>\n",
       "      <td>2018-01-04</td>\n",
       "      <td>건입동</td>\n",
       "      <td>4633</td>\n",
       "      <td>83</td>\n",
       "      <td>4716</td>\n",
       "    </tr>\n",
       "    <tr>\n",
       "      <th>4</th>\n",
       "      <td>2018-01-05</td>\n",
       "      <td>건입동</td>\n",
       "      <td>4736</td>\n",
       "      <td>81</td>\n",
       "      <td>4817</td>\n",
       "    </tr>\n",
       "    <tr>\n",
       "      <th>...</th>\n",
       "      <td>...</td>\n",
       "      <td>...</td>\n",
       "      <td>...</td>\n",
       "      <td>...</td>\n",
       "      <td>...</td>\n",
       "    </tr>\n",
       "    <tr>\n",
       "      <th>52352</th>\n",
       "      <td>2021-06-26</td>\n",
       "      <td>효돈동</td>\n",
       "      <td>2605</td>\n",
       "      <td>18</td>\n",
       "      <td>2623</td>\n",
       "    </tr>\n",
       "    <tr>\n",
       "      <th>52353</th>\n",
       "      <td>2021-06-27</td>\n",
       "      <td>효돈동</td>\n",
       "      <td>2534</td>\n",
       "      <td>19</td>\n",
       "      <td>2553</td>\n",
       "    </tr>\n",
       "    <tr>\n",
       "      <th>52354</th>\n",
       "      <td>2021-06-28</td>\n",
       "      <td>효돈동</td>\n",
       "      <td>2602</td>\n",
       "      <td>18</td>\n",
       "      <td>2620</td>\n",
       "    </tr>\n",
       "    <tr>\n",
       "      <th>52355</th>\n",
       "      <td>2021-06-29</td>\n",
       "      <td>효돈동</td>\n",
       "      <td>2613</td>\n",
       "      <td>19</td>\n",
       "      <td>2632</td>\n",
       "    </tr>\n",
       "    <tr>\n",
       "      <th>52356</th>\n",
       "      <td>2021-06-30</td>\n",
       "      <td>효돈동</td>\n",
       "      <td>2592</td>\n",
       "      <td>17</td>\n",
       "      <td>2609</td>\n",
       "    </tr>\n",
       "  </tbody>\n",
       "</table>\n",
       "<p>52357 rows × 5 columns</p>\n",
       "</div>"
      ],
      "text/plain": [
       "        base_date emd_nm  resid_pop  foreign_pop  total_pop\n",
       "0      2018-01-01    건입동       4659           81       4740\n",
       "1      2018-01-02    건입동       4727           81       4808\n",
       "2      2018-01-03    건입동       4738           82       4820\n",
       "3      2018-01-04    건입동       4633           83       4716\n",
       "4      2018-01-05    건입동       4736           81       4817\n",
       "...           ...    ...        ...          ...        ...\n",
       "52352  2021-06-26    효돈동       2605           18       2623\n",
       "52353  2021-06-27    효돈동       2534           19       2553\n",
       "52354  2021-06-28    효돈동       2602           18       2620\n",
       "52355  2021-06-29    효돈동       2613           19       2632\n",
       "52356  2021-06-30    효돈동       2592           17       2609\n",
       "\n",
       "[52357 rows x 5 columns]"
      ]
     },
     "execution_count": 30,
     "metadata": {},
     "output_type": "execute_result"
    }
   ],
   "source": [
    "df"
   ]
  },
  {
   "cell_type": "markdown",
   "metadata": {},
   "source": [
    "## 0-1-1. emd_nm 의 '알수없음'은 해당일 전체 읍면동 거주인구를 평균을 냄"
   ]
  },
  {
   "cell_type": "code",
   "execution_count": 31,
   "metadata": {},
   "outputs": [],
   "source": [
    "unknown = df.groupby('base_date').mean().reset_index()"
   ]
  },
  {
   "cell_type": "code",
   "execution_count": 32,
   "metadata": {},
   "outputs": [],
   "source": [
    "unknown['emd_nm'] = '알수없음'"
   ]
  },
  {
   "cell_type": "code",
   "execution_count": 33,
   "metadata": {},
   "outputs": [],
   "source": [
    "unknown['resid_pop'] = unknown['resid_pop'].astype('int')"
   ]
  },
  {
   "cell_type": "code",
   "execution_count": 34,
   "metadata": {},
   "outputs": [],
   "source": [
    "unknown['foreign_pop'] = unknown['foreign_pop'].astype('int')"
   ]
  },
  {
   "cell_type": "code",
   "execution_count": 35,
   "metadata": {},
   "outputs": [],
   "source": [
    "unknown['total_pop'] = unknown['total_pop'].astype('int')"
   ]
  },
  {
   "cell_type": "code",
   "execution_count": 36,
   "metadata": {},
   "outputs": [
    {
     "data": {
      "text/html": [
       "<div>\n",
       "<style scoped>\n",
       "    .dataframe tbody tr th:only-of-type {\n",
       "        vertical-align: middle;\n",
       "    }\n",
       "\n",
       "    .dataframe tbody tr th {\n",
       "        vertical-align: top;\n",
       "    }\n",
       "\n",
       "    .dataframe thead th {\n",
       "        text-align: right;\n",
       "    }\n",
       "</style>\n",
       "<table border=\"1\" class=\"dataframe\">\n",
       "  <thead>\n",
       "    <tr style=\"text-align: right;\">\n",
       "      <th></th>\n",
       "      <th>base_date</th>\n",
       "      <th>resid_pop</th>\n",
       "      <th>foreign_pop</th>\n",
       "      <th>total_pop</th>\n",
       "      <th>emd_nm</th>\n",
       "    </tr>\n",
       "  </thead>\n",
       "  <tbody>\n",
       "    <tr>\n",
       "      <th>0</th>\n",
       "      <td>2018-01-01</td>\n",
       "      <td>7934</td>\n",
       "      <td>237</td>\n",
       "      <td>8171</td>\n",
       "      <td>알수없음</td>\n",
       "    </tr>\n",
       "    <tr>\n",
       "      <th>1</th>\n",
       "      <td>2018-01-02</td>\n",
       "      <td>7939</td>\n",
       "      <td>237</td>\n",
       "      <td>8176</td>\n",
       "      <td>알수없음</td>\n",
       "    </tr>\n",
       "    <tr>\n",
       "      <th>2</th>\n",
       "      <td>2018-01-03</td>\n",
       "      <td>7937</td>\n",
       "      <td>237</td>\n",
       "      <td>8174</td>\n",
       "      <td>알수없음</td>\n",
       "    </tr>\n",
       "    <tr>\n",
       "      <th>3</th>\n",
       "      <td>2018-01-04</td>\n",
       "      <td>7935</td>\n",
       "      <td>237</td>\n",
       "      <td>8172</td>\n",
       "      <td>알수없음</td>\n",
       "    </tr>\n",
       "    <tr>\n",
       "      <th>4</th>\n",
       "      <td>2018-01-05</td>\n",
       "      <td>7929</td>\n",
       "      <td>237</td>\n",
       "      <td>8166</td>\n",
       "      <td>알수없음</td>\n",
       "    </tr>\n",
       "    <tr>\n",
       "      <th>...</th>\n",
       "      <td>...</td>\n",
       "      <td>...</td>\n",
       "      <td>...</td>\n",
       "      <td>...</td>\n",
       "      <td>...</td>\n",
       "    </tr>\n",
       "    <tr>\n",
       "      <th>1272</th>\n",
       "      <td>2021-06-26</td>\n",
       "      <td>8175</td>\n",
       "      <td>231</td>\n",
       "      <td>8406</td>\n",
       "      <td>알수없음</td>\n",
       "    </tr>\n",
       "    <tr>\n",
       "      <th>1273</th>\n",
       "      <td>2021-06-27</td>\n",
       "      <td>8168</td>\n",
       "      <td>231</td>\n",
       "      <td>8400</td>\n",
       "      <td>알수없음</td>\n",
       "    </tr>\n",
       "    <tr>\n",
       "      <th>1274</th>\n",
       "      <td>2021-06-28</td>\n",
       "      <td>8174</td>\n",
       "      <td>232</td>\n",
       "      <td>8406</td>\n",
       "      <td>알수없음</td>\n",
       "    </tr>\n",
       "    <tr>\n",
       "      <th>1275</th>\n",
       "      <td>2021-06-29</td>\n",
       "      <td>8178</td>\n",
       "      <td>231</td>\n",
       "      <td>8409</td>\n",
       "      <td>알수없음</td>\n",
       "    </tr>\n",
       "    <tr>\n",
       "      <th>1276</th>\n",
       "      <td>2021-06-30</td>\n",
       "      <td>8180</td>\n",
       "      <td>231</td>\n",
       "      <td>8412</td>\n",
       "      <td>알수없음</td>\n",
       "    </tr>\n",
       "  </tbody>\n",
       "</table>\n",
       "<p>1277 rows × 5 columns</p>\n",
       "</div>"
      ],
      "text/plain": [
       "       base_date  resid_pop  foreign_pop  total_pop emd_nm\n",
       "0     2018-01-01       7934          237       8171   알수없음\n",
       "1     2018-01-02       7939          237       8176   알수없음\n",
       "2     2018-01-03       7937          237       8174   알수없음\n",
       "3     2018-01-04       7935          237       8172   알수없음\n",
       "4     2018-01-05       7929          237       8166   알수없음\n",
       "...          ...        ...          ...        ...    ...\n",
       "1272  2021-06-26       8175          231       8406   알수없음\n",
       "1273  2021-06-27       8168          231       8400   알수없음\n",
       "1274  2021-06-28       8174          232       8406   알수없음\n",
       "1275  2021-06-29       8178          231       8409   알수없음\n",
       "1276  2021-06-30       8180          231       8412   알수없음\n",
       "\n",
       "[1277 rows x 5 columns]"
      ]
     },
     "execution_count": 36,
     "metadata": {},
     "output_type": "execute_result"
    }
   ],
   "source": [
    "unknown"
   ]
  },
  {
   "cell_type": "code",
   "execution_count": 37,
   "metadata": {},
   "outputs": [],
   "source": [
    "df_final = pd.concat([df,unknown])"
   ]
  },
  {
   "cell_type": "code",
   "execution_count": 40,
   "metadata": {},
   "outputs": [
    {
     "data": {
      "text/html": [
       "<div>\n",
       "<style scoped>\n",
       "    .dataframe tbody tr th:only-of-type {\n",
       "        vertical-align: middle;\n",
       "    }\n",
       "\n",
       "    .dataframe tbody tr th {\n",
       "        vertical-align: top;\n",
       "    }\n",
       "\n",
       "    .dataframe thead th {\n",
       "        text-align: right;\n",
       "    }\n",
       "</style>\n",
       "<table border=\"1\" class=\"dataframe\">\n",
       "  <thead>\n",
       "    <tr style=\"text-align: right;\">\n",
       "      <th></th>\n",
       "      <th>base_date</th>\n",
       "      <th>emd_nm</th>\n",
       "      <th>resid_pop</th>\n",
       "      <th>foreign_pop</th>\n",
       "      <th>total_pop</th>\n",
       "    </tr>\n",
       "  </thead>\n",
       "  <tbody>\n",
       "    <tr>\n",
       "      <th>0</th>\n",
       "      <td>2018-01-01</td>\n",
       "      <td>건입동</td>\n",
       "      <td>4659</td>\n",
       "      <td>81</td>\n",
       "      <td>4740</td>\n",
       "    </tr>\n",
       "    <tr>\n",
       "      <th>1</th>\n",
       "      <td>2018-01-02</td>\n",
       "      <td>건입동</td>\n",
       "      <td>4727</td>\n",
       "      <td>81</td>\n",
       "      <td>4808</td>\n",
       "    </tr>\n",
       "    <tr>\n",
       "      <th>2</th>\n",
       "      <td>2018-01-03</td>\n",
       "      <td>건입동</td>\n",
       "      <td>4738</td>\n",
       "      <td>82</td>\n",
       "      <td>4820</td>\n",
       "    </tr>\n",
       "    <tr>\n",
       "      <th>3</th>\n",
       "      <td>2018-01-04</td>\n",
       "      <td>건입동</td>\n",
       "      <td>4633</td>\n",
       "      <td>83</td>\n",
       "      <td>4716</td>\n",
       "    </tr>\n",
       "    <tr>\n",
       "      <th>4</th>\n",
       "      <td>2018-01-05</td>\n",
       "      <td>건입동</td>\n",
       "      <td>4736</td>\n",
       "      <td>81</td>\n",
       "      <td>4817</td>\n",
       "    </tr>\n",
       "    <tr>\n",
       "      <th>...</th>\n",
       "      <td>...</td>\n",
       "      <td>...</td>\n",
       "      <td>...</td>\n",
       "      <td>...</td>\n",
       "      <td>...</td>\n",
       "    </tr>\n",
       "    <tr>\n",
       "      <th>1272</th>\n",
       "      <td>2021-06-26</td>\n",
       "      <td>알수없음</td>\n",
       "      <td>8175</td>\n",
       "      <td>231</td>\n",
       "      <td>8406</td>\n",
       "    </tr>\n",
       "    <tr>\n",
       "      <th>1273</th>\n",
       "      <td>2021-06-27</td>\n",
       "      <td>알수없음</td>\n",
       "      <td>8168</td>\n",
       "      <td>231</td>\n",
       "      <td>8400</td>\n",
       "    </tr>\n",
       "    <tr>\n",
       "      <th>1274</th>\n",
       "      <td>2021-06-28</td>\n",
       "      <td>알수없음</td>\n",
       "      <td>8174</td>\n",
       "      <td>232</td>\n",
       "      <td>8406</td>\n",
       "    </tr>\n",
       "    <tr>\n",
       "      <th>1275</th>\n",
       "      <td>2021-06-29</td>\n",
       "      <td>알수없음</td>\n",
       "      <td>8178</td>\n",
       "      <td>231</td>\n",
       "      <td>8409</td>\n",
       "    </tr>\n",
       "    <tr>\n",
       "      <th>1276</th>\n",
       "      <td>2021-06-30</td>\n",
       "      <td>알수없음</td>\n",
       "      <td>8180</td>\n",
       "      <td>231</td>\n",
       "      <td>8412</td>\n",
       "    </tr>\n",
       "  </tbody>\n",
       "</table>\n",
       "<p>53634 rows × 5 columns</p>\n",
       "</div>"
      ],
      "text/plain": [
       "       base_date emd_nm  resid_pop  foreign_pop  total_pop\n",
       "0     2018-01-01    건입동       4659           81       4740\n",
       "1     2018-01-02    건입동       4727           81       4808\n",
       "2     2018-01-03    건입동       4738           82       4820\n",
       "3     2018-01-04    건입동       4633           83       4716\n",
       "4     2018-01-05    건입동       4736           81       4817\n",
       "...          ...    ...        ...          ...        ...\n",
       "1272  2021-06-26   알수없음       8175          231       8406\n",
       "1273  2021-06-27   알수없음       8168          231       8400\n",
       "1274  2021-06-28   알수없음       8174          232       8406\n",
       "1275  2021-06-29   알수없음       8178          231       8409\n",
       "1276  2021-06-30   알수없음       8180          231       8412\n",
       "\n",
       "[53634 rows x 5 columns]"
      ]
     },
     "execution_count": 40,
     "metadata": {},
     "output_type": "execute_result"
    }
   ],
   "source": [
    "df_final"
   ]
  },
  {
   "cell_type": "code",
   "execution_count": 41,
   "metadata": {},
   "outputs": [],
   "source": [
    "df_final.columns = ['일자', '읍면동', '여_내거주', '여_외거주', '여_총거주']"
   ]
  },
  {
   "cell_type": "code",
   "execution_count": 42,
   "metadata": {},
   "outputs": [],
   "source": [
    "df_final.to_csv('../data/processed_data/여성_거주인구.csv',encoding='cp949',index=False)"
   ]
  }
 ],
 "metadata": {
  "kernelspec": {
   "display_name": "Python 3",
   "language": "python",
   "name": "python3"
  },
  "language_info": {
   "codemirror_mode": {
    "name": "ipython",
    "version": 3
   },
   "file_extension": ".py",
   "mimetype": "text/x-python",
   "name": "python",
   "nbconvert_exporter": "python",
   "pygments_lexer": "ipython3",
   "version": "3.7.9"
  }
 },
 "nbformat": 4,
 "nbformat_minor": 4
}
