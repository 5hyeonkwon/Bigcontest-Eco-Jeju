{
 "cells": [
  {
   "cell_type": "code",
   "execution_count": 93,
   "metadata": {},
   "outputs": [],
   "source": [
    "# Library\n",
    "import pandas as pd\n",
    "import matplotlib.pyplot as plt\n",
    "import numpy as np\n",
    "import imageio\n",
    "from PIL import Image\n",
    "import matplotlib.image as mpimg\n",
    "from typing import Tuple\n",
    "import os\n",
    "import random\n",
    "import math\n",
    "import pandas as pd\n",
    "import numpy as np\n",
    "import tensorflow as tf\n",
    "from joblib import dump, load\n",
    "from collections import namedtuple\n",
    "from sklearn.preprocessing import MinMaxScaler, RobustScaler, StandardScaler\n",
    "import seaborn as sns\n",
    "\n",
    "from tensorflow.keras import optimizers\n",
    "from tensorflow.keras.models import Sequential, load_model\n",
    "from tensorflow.keras.layers import LSTM, Dense, Dropout, Masking\n",
    "from tensorflow.keras.regularizers import L1L2\n",
    "from tensorflow.keras.callbacks import EarlyStopping\n",
    "from tensorflow.keras.metrics import RootMeanSquaredError, MeanAbsoluteError\n",
    "from tensorflow.keras.callbacks import Callback\n",
    "\n",
    "from sklearn.base import TransformerMixin\n",
    "from sklearn.impute import SimpleImputer"
   ]
  },
  {
   "cell_type": "code",
   "execution_count": 94,
   "metadata": {},
   "outputs": [
    {
     "name": "stdout",
     "output_type": "stream",
     "text": [
      "1 Physical GPUs, 1 Logical GPUs\n"
     ]
    }
   ],
   "source": [
    "# GPU 할당량 조정\n",
    "gpus = tf.config.experimental.list_physical_devices('GPU')\n",
    "if gpus:\n",
    "  # Restrict TensorFlow to only allocate 1GB of memory on the first GPU\n",
    "  try:\n",
    "    tf.config.experimental.set_virtual_device_configuration(\n",
    "        gpus[0],\n",
    "        [tf.config.experimental.VirtualDeviceConfiguration(memory_limit=1024*3.5)]) # 1660super 총 vram 6gb 중 5.5gb 할당\n",
    "    logical_gpus = tf.config.experimental.list_logical_devices('GPU')\n",
    "    print(len(gpus), \"Physical GPUs,\", len(logical_gpus), \"Logical GPUs\")\n",
    "  except RuntimeError as e:\n",
    "    # Virtual devices must be set before GPUs have been initialized\n",
    "    print(e)"
   ]
  },
  {
   "cell_type": "code",
   "execution_count": 95,
   "metadata": {
    "id": "Q9I9IsMAqZxX"
   },
   "outputs": [],
   "source": [
    "class InnerConv1DBlock(tf.keras.layers.Layer):\n",
    "    def __init__(self, filters: int, h: int, kernel_size: int, neg_slope: float = .01, dropout: float = .5,\n",
    "                 name: str = ''):\n",
    "        super(InnerConv1DBlock, self).__init__(name=name)\n",
    "        self.conv1d = tf.keras.layers.Conv1D(h * filters, kernel_size, padding='same')\n",
    "        self.leakyrelu = tf.keras.layers.LeakyReLU(neg_slope)\n",
    "\n",
    "        self.dropout = tf.keras.layers.Dropout(dropout)\n",
    "\n",
    "        self.conv1d2 = tf.keras.layers.Conv1D(filters, kernel_size, padding='same')\n",
    "        self.tanh = tf.keras.activations.tanh\n",
    "\n",
    "    def call(self, input_tensor):\n",
    "        x = self.conv1d(input_tensor)\n",
    "        x = self.leakyrelu(x)\n",
    "\n",
    "        x = self.dropout(x)\n",
    "\n",
    "        x = self.conv1d2(x)\n",
    "        x = self.tanh(x)\n",
    "        return x\n",
    "\n",
    "\n",
    "class Exp(tf.keras.layers.Layer):\n",
    "    def __init__(self, **kwargs):\n",
    "        super(Exp, self).__init__(**kwargs)\n",
    "\n",
    "    def call(self, inputs):\n",
    "        return tf.math.exp(inputs)\n",
    "\n",
    "\n",
    "class Split(tf.keras.layers.Layer):\n",
    "    def __init__(self, **kwargs):\n",
    "        super(Split, self).__init__(**kwargs)\n",
    "\n",
    "    def call(self, inputs):\n",
    "        return inputs[:, ::2], inputs[:, 1::2]\n",
    "\n",
    "class Attention(tf.keras.layers.Layer):\n",
    "\n",
    "    def __init__(self, units=64, shape = (1,1,1), **kwargs):\n",
    "        super(Attention, self).__init__(**kwargs)\n",
    "        self.units = units\n",
    "        self.dense1 = tf.keras.layers.Dense(units=shape[2], use_bias = False, name='attention_score_vec')\n",
    "        self.lambda_ = tf.keras.layers.Lambda(lambda x : x[:,-1,:], output_shape=(shape[2],),name='last_hidden_state')\n",
    "        # x.mean(axis = 1) - image attention, \n",
    "        self.dot1 = tf.keras.layers.Dot(axes=[1, 2], name='attention_score')\n",
    "        self.activation = tf.keras.layers.Activation('softmax', name='attention_weight')\n",
    "        self.dot2 =  tf.keras.layers.Dot(axes=[1, 1], name='context_vector')\n",
    "        self.concat =  tf.keras.layers.Concatenate(name='attention_output')\n",
    "        self.dense2 = tf.keras.layers.Dense(self.units, use_bias=False, activation='tanh', name='attention_vector')\n",
    "        self.attention_weight = []\n",
    "\n",
    "    def call(self, inputs):\n",
    "\n",
    "        hidden_states = inputs\n",
    "\n",
    "        score_first_part = self.dense1(hidden_states)\n",
    "        #            score_first_part           dot        last_hidden_state     => attention_weights\n",
    "        # (batch_size, time_steps, hidden_size) dot   (batch_size, hidden_size)  => (batch_size, time_steps)\n",
    "        h_t = self.lambda_(hidden_states)\n",
    "        score =self.dot1([h_t, score_first_part]) # batch, time_stamps\n",
    "        self.attention_weight = score # batch , time_stamps\n",
    "        attention_weights = self.activation(score)\n",
    "        # (batch_size, time_steps, hidden_size) dot (batch_size, time_steps) => (batch_size, hidden_size)\n",
    "        context_vector = self.dot2([hidden_states, attention_weights]) # batch_size, n_features\n",
    "        pre_activation = self.concat([context_vector, h_t])\n",
    "        attention_vector =self.dense2(pre_activation)\n",
    "        return attention_vector, context_vector\n",
    "\n",
    "    def get_config(self):\n",
    "        return {'Attention_weights': self.attention_weight}\n",
    "\n",
    "\n",
    "\n",
    "class SciBlock(tf.keras.layers.Layer):\n",
    "    def __init__(self, kernel_size: int, h: int):\n",
    "        super(SciBlock, self).__init__()\n",
    "        self.kernel_size = kernel_size\n",
    "        self.h = h\n",
    "\n",
    "        self.split = Split()\n",
    "        self.exp = Exp()\n",
    "\n",
    "    def build(self, input_shape):\n",
    "        _, _, filters = input_shape\n",
    "\n",
    "        self.psi = InnerConv1DBlock(filters, self.h, self.kernel_size, name='psi')\n",
    "        self.phi = InnerConv1DBlock(filters, self.h, self.kernel_size, name='phi')\n",
    "        self.eta = InnerConv1DBlock(filters, self.h, self.kernel_size, name='eta')\n",
    "        self.rho = InnerConv1DBlock(filters, self.h, self.kernel_size, name='rho')\n",
    "\n",
    "    def call(self, input_tensor):\n",
    "        F_odd, F_even = self.split(input_tensor)\n",
    "\n",
    "        F_s_odd = F_odd * self.exp(self.phi(F_even))\n",
    "        F_s_even = F_even * self.exp(self.psi(F_s_odd))\n",
    "\n",
    "        F_prime_odd = F_s_odd + self.rho(F_s_even)\n",
    "        F_prime_even = F_s_even - self.eta(F_s_odd)\n",
    "\n",
    "        return F_prime_odd, F_prime_even\n",
    "\n",
    "\n",
    "class Interleave(tf.keras.layers.Layer):\n",
    "    def __init__(self):\n",
    "        super(Interleave, self).__init__()\n",
    "\n",
    "    def interleave(self, slices):\n",
    "        if not slices:\n",
    "            return slices\n",
    "        elif len(slices) == 1:\n",
    "            return slices[0]\n",
    "\n",
    "        mid = len(slices) // 2\n",
    "\n",
    "        even = self.interleave(slices[:mid])\n",
    "        odd = self.interleave(slices[mid:])\n",
    "\n",
    "        shape = tf.shape(even)\n",
    "        return tf.reshape(tf.stack([even, odd], axis=3), (shape[0], shape[1]*2, shape[2]))\n",
    "\n",
    "    def call(self, inputs):\n",
    "        return self.interleave(inputs)\n",
    "\n",
    "\n",
    "class SciNet(tf.keras.layers.Layer):\n",
    "    def __init__(self, output_length: int, level: int, h: int, kernel_size: int,\n",
    "                 regularizer: Tuple[float, float] = (0, 0), shape : Tuple[float, float, float] = (0, 0, 0)):\n",
    "        super(SciNet, self).__init__()\n",
    "        self.level = level\n",
    "        self.h = h\n",
    "        self.kernel_size = kernel_size\n",
    "        self.max_nodes = 2 ** (level + 1) - 1\n",
    "\n",
    "        self.sciblocks = [SciBlock(kernel_size, h) for _ in range(self.max_nodes)]\n",
    "        self.interleave = Interleave()\n",
    "        self.Attention = Attention(shape=shape)\n",
    "        self.flatten = tf.keras.layers.Flatten()\n",
    "        # self.dense1 = tf.keras.layers.Dense(100, kernel_regularizer=L1L2(0.001, 0.01))\n",
    "        self.dense = tf.keras.layers.Dense(output_length, kernel_regularizer=L1L2(0.001, 0.01))\n",
    "        self.regularizer = tf.keras.layers.ActivityRegularization(l1=regularizer[0], l2=regularizer[1])\n",
    "\n",
    "    def build(self, input_shape):\n",
    "        assert input_shape[1] / 2 ** 1 % 1 == 0  # inputs must be evenly divided at the lowest level of the tree\n",
    "        [layer.build(input_shape) for layer in self.sciblocks]\n",
    "    @tf.function\n",
    "    def call(self, input_tensor):\n",
    "        # cascade input down a binary tree of sci-blocks\n",
    "        inputs = [input_tensor]\n",
    "        for i in range(self.level):\n",
    "            i_end = 2 ** (i + 1) - 1\n",
    "            i_start = i_end - 2 ** i\n",
    "            outputs = [out for j, tensor in zip(range(i_start, i_end), inputs) for out in self.sciblocks[j](tensor)]\n",
    "            inputs = outputs\n",
    "\n",
    "        x = self.interleave(outputs)\n",
    "        x += input_tensor\n",
    "\n",
    "        x, attention_weights = self.Attention(x)\n",
    "        # x = self.dense1(x)\n",
    "        x = self.dense(x)\n",
    "\n",
    "        # x = self.regularizer(x)\n",
    "        return x, attention_weights\n",
    "\n",
    "    def get_config(self):\n",
    "        return {'Attention_layer': self.Attention}"
   ]
  },
  {
   "cell_type": "code",
   "execution_count": 96,
   "metadata": {},
   "outputs": [],
   "source": [
    "class VisualizeAttentionMap(Callback):\n",
    "    \n",
    "    def __init__(self, model, x, weights):\n",
    "\n",
    "        super().__init__()\n",
    "        self.model = model\n",
    "        self.x = x\n",
    "        self.weights = weights\n",
    "        self.activation = tf.keras.layers.Activation('softmax')\n",
    "\n",
    "    def on_epoch_begin(self, epoch, logs=None):\n",
    "        #input_ = self.model._feed_inputs[0]\n",
    "        #output = self.activation(input)\n",
    "        #test = tf.keras.models.Model(inputs= input, outputs = output)\n",
    "        #x = test(self.x)\n",
    "        #attention_map = tf.matmul(self.weights,x).numpy()\n",
    "        #test.layers[1].set_weights(weights = self.weights)\n",
    "        #test.layers[1]  = test.layers[1].output.from_tensor(tensor =tf.nn.softmax(self.weights))\n",
    "        #attention_map = test(self.x).numpy()\n",
    "        attention_map = tf.nn.softmax(tf.math.divide(self.weights,3), axis = 1) # softmax smoothing\n",
    "        \n",
    "        #x = self.x[..., 0]\n",
    "        if epoch % 10 == 0 :\n",
    "            plt.figure(figsize= (10,5))\n",
    "            maps = [attention_map]\n",
    "            maps_names = ['attention layer']\n",
    "            plt.imshow(maps[0], cmap='jet')\n",
    "            plt.show()\n",
    "\n",
    "        return attention_map\n",
    "\n",
    "\n",
    "def softmax_with_temperature(z, T) : \n",
    "    z = np.array(z)\n",
    "    z = z / T \n",
    "    max_z = np.max(z, axi) \n",
    "    exp_z = np.exp(z-max_z) \n",
    "    sum_exp_z = np.sum(exp_z)\n",
    "    y = exp_z / sum_exp_z\n",
    "    return y\n",
    "\n",
    "\n",
    "def create_argmax_mask(x):\n",
    "    mask = np.zeros_like(x)\n",
    "    for i, m in enumerate(x.argmax(axis=1)):\n",
    "        mask[i, m] = 1\n",
    "    return mask"
   ]
  },
  {
   "cell_type": "code",
   "execution_count": 97,
   "metadata": {
    "id": "6Imt11Qyth7y"
   },
   "outputs": [],
   "source": [
    "def split_sequence(sequence, look_back_window: int, forecast_horizon: int, stride: int = 1):\n",
    "    X, y = [], []\n",
    "    for i in range(0, len(sequence), stride):\n",
    "        # find the end x and y\n",
    "        end_ix = i + look_back_window\n",
    "        end_iy = end_ix + forecast_horizon\n",
    "\n",
    "        # check if there is enough elements to fill this x, y pair\n",
    "        if end_iy > len(sequence):\n",
    "            break\n",
    "\n",
    "        X.append(sequence[i:end_ix])\n",
    "        y.append(sequence[end_iy - 1 if forecast_horizon == 1 else end_ix:end_iy])\n",
    "    return np.asarray(X), np.asarray(y)\n",
    "\n",
    "\n",
    "class StocksImputer(TransformerMixin):\n",
    "    def __init__(self, method: str = 'linear', fail_save: TransformerMixin = SimpleImputer()):\n",
    "        self.method = method\n",
    "        self.fail_save = fail_save\n",
    "\n",
    "    def fit(self, data):\n",
    "        if self.fail_save:\n",
    "            self.fail_save.fit(data)\n",
    "        return self\n",
    "\n",
    "    def transform(self, data):\n",
    "        # Interpolate missing values in columns\n",
    "        if not isinstance(data, pd.DataFrame):\n",
    "            data = pd.DataFrame(data)\n",
    "        data = data.interpolate(method=self.method, limit_direction='both')\n",
    "        # spline or time may be better?\n",
    "\n",
    "        if self.fail_save:\n",
    "            data = self.fail_save.transform(data)\n",
    "\n",
    "        return data\n",
    "\n",
    "\n",
    "def difference(dataset, interval=1, relative=False, min_price=1e-04):\n",
    "    delta = []\n",
    "    for i in range(interval, len(dataset)):\n",
    "        value = dataset[i] - dataset[i - interval]\n",
    "        if relative:\n",
    "            prev_price = dataset[i - interval]\n",
    "            prev_price[prev_price == 0] = min_price\n",
    "            value /= prev_price\n",
    "        delta.append(value)\n",
    "    return np.asarray(delta)\n",
    "\n",
    "\n",
    "class ARIMAPreprocessor(TransformerMixin):\n",
    "    def __init__(self, y_col: str, look_back_window: int, forecast_horizon: int, stride: int, diff_order: int,\n",
    "                 relative_diff: bool = True, splitXy: bool = True, scaling: str = 'minmax'):\n",
    "        super().__init__()\n",
    "        assert look_back_window > 0 and forecast_horizon > 0 and stride > 0\n",
    "\n",
    "        self.y_col = y_col\n",
    "        self.y_idx = None\n",
    "        self.look_back_window = look_back_window\n",
    "        self.forecast_horizon = forecast_horizon\n",
    "        self.stride = stride\n",
    "        self.diff_order = diff_order\n",
    "        self.relative_diff = relative_diff\n",
    "        self.splitXy = splitXy\n",
    "        self.interpolation_imputer = StocksImputer(method='linear')\n",
    "\n",
    "        if scaling == 'minmax':\n",
    "            self.scaler = MinMaxScaler()\n",
    "            self.y_scaler = MinMaxScaler()\n",
    "        elif scaling == 'standard':\n",
    "            self.scaler = StandardScaler()\n",
    "            self.y_scaler = StandardScaler()\n",
    "        elif scaling == 'robust':\n",
    "            self.scaler = RobustScaler()\n",
    "            self.y_scaler = RobustScaler()\n",
    "\n",
    "    def fit_transform(self, data, **fit_params):\n",
    "        self.y_idx = list(data.columns).index(self.y_col)\n",
    "\n",
    "        # Fill missing values via interpolation\n",
    "        data = self.interpolation_imputer.fit_transform(data)\n",
    "\n",
    "        # Differencing\n",
    "        diff = np.array(data)\n",
    "        for d in range(1, self.diff_order + 1):\n",
    "            diff = difference(diff, relative=self.relative_diff)\n",
    "            data = np.append(data, np.pad(diff, pad_width=((d, 0), (0, 0))), axis=1)\n",
    "        if self.diff_order > 0:\n",
    "            data = data[:, diff.shape[1]:]\n",
    "\n",
    "        # Scale\n",
    "        # if self.diff_order < 1:\n",
    "        self.y_scaler.fit(data[:, self.y_idx].reshape(-1, 1))  # for reversing scaling post prediction\n",
    "        data = self.scaler.fit_transform(data)\n",
    "\n",
    "        if not self.splitXy:\n",
    "            return data\n",
    "\n",
    "        # Extract X, y from time series\n",
    "        X, y = split_sequence(data, self.look_back_window, self.forecast_horizon, self.stride)\n",
    "        y = y[:, :, self.y_idx]\n",
    "\n",
    "        return X, y, self.scaler\n",
    "\n",
    "    def transform(self, data):\n",
    "        # Fill missing values via interpolation\n",
    "        data = self.interpolation_imputer.transform(data)\n",
    "\n",
    "        # Differencing\n",
    "        diff = np.array(data)\n",
    "        for d in range(1, self.diff_order + 1):\n",
    "            diff = difference(diff, relative=self.relative_diff)\n",
    "            data = np.append(data, np.pad(diff, pad_width=((d, 0), (0, 0))), axis=1)\n",
    "        if self.diff_order > 0:\n",
    "            data = data[:, diff.shape[1]:]\n",
    "\n",
    "        # Scale\n",
    "        # if self.diff_order < 1:\n",
    "        data = self.scaler.transform(data)\n",
    "\n",
    "        if not self.splitXy:\n",
    "            return data\n",
    "\n",
    "        # Extract X, y\n",
    "        X, y = split_sequence(data, self.look_back_window, self.forecast_horizon, self.stride)\n",
    "        y = y[:, :, self.y_idx]\n",
    "\n",
    "        return X, y"
   ]
  },
  {
   "cell_type": "code",
   "execution_count": 98,
   "metadata": {},
   "outputs": [],
   "source": [
    "# Make model\n",
    "def make_model(batch, time_stamps, n_features):\n",
    "    x = tf.keras.Input(shape=(time_stamps, n_features))\n",
    "    y = SciNet(forecast_horizon, level, h, kernel_size, regularizer=(0.001, 0.01), shape =(batch, time_stamps, n_features))(x)\n",
    "    model = tf.keras.Model(x, y)\n",
    "\n",
    "    model.summary()\n",
    "    tf.keras.utils.plot_model(model, to_file='modelDiagram.png', show_shapes=True)\n",
    "\n",
    "    model.compile(optimizer=tf.keras.optimizers.Adam(learning_rate=learning_rate), loss='mse',\n",
    "                  metrics=['mean_squared_error', 'mean_absolute_error'])\n",
    "    return model\n",
    "\n",
    "def make_model_2(batch, time_stamps, n_features):\n",
    "    x = tf.keras.Input(shape=(time_stamps, n_features))\n",
    "    y = SciNet(forecast_horizon, level, h, kernel_size, regularizer=(0.001, 0.01), shape =(batch, time_stamps, n_features))(x)\n",
    "    model = tf.keras.Model(x, y)\n",
    "\n",
    "    model.summary()\n",
    "    #tf.keras.utils.plot_model(model, to_file='modelDiagram.png', show_shapes=True)\n",
    "\n",
    "    #model.compile(optimizer=tf.keras.optimizers.Adam(learning_rate=learning_rate), loss='mse',\n",
    "    #             metrics=['mean_squared_error', 'mean_absolute_error'])\n",
    "    return model"
   ]
  },
  {
   "cell_type": "code",
   "execution_count": 371,
   "metadata": {},
   "outputs": [],
   "source": [
    "# Hyper Parametres\n",
    "y_col = '일별배출량합계'\n",
    "index_col = '일자'\n",
    "cluster_num = 1\n",
    "\n",
    "data = pd.read_csv(f'../data/processed_data/클러스터_{cluster_num}_최종피쳐.csv', encoding = 'cp949')\n",
    "\n",
    "EPOCHS = 100\n",
    "\n",
    "degree_of_differencing = 0\n",
    "look_back_window, forecast_horizon = 60*2 * (data.읍면동.nunique()), 62 * (data.읍면동.nunique()) #전에 몇개의 데이터 참조, 후에 몇개 예측\n",
    "batch_size = 64\n",
    "learning_rate = 9e-5\n",
    "h, kernel_size, level = 4, 5, 3\n",
    "#stride = look_back_window + forecast_horizon  # unsure if any value lower than this would cause data leak\n",
    "\n",
    "data = data.sort_values(by = ['일자','읍면동'])\n",
    "data['일자'] = pd.to_datetime(data['일자'])\n",
    "data = data.set_index(keys = '일자')"
   ]
  },
  {
   "cell_type": "code",
   "execution_count": 372,
   "metadata": {},
   "outputs": [],
   "source": [
    "train = data[:-look_back_window]\n",
    "final_test_data = data[-look_back_window:]"
   ]
  },
  {
   "cell_type": "code",
   "execution_count": 337,
   "metadata": {},
   "outputs": [],
   "source": [
    "data.drop(['읍면동'], axis=1, inplace=True)"
   ]
  },
  {
   "cell_type": "code",
   "execution_count": 338,
   "metadata": {
    "scrolled": true
   },
   "outputs": [],
   "source": [
    "train.drop(['읍면동'], axis=1, inplace=True)"
   ]
  },
  {
   "cell_type": "code",
   "execution_count": 339,
   "metadata": {},
   "outputs": [],
   "source": [
    "train_data = train[:int(0.80 * (len(train) - (look_back_window + forecast_horizon)))]   #train_data = train[:int(0.6 * len(data))]\n",
    "val_data = train[int(0.80 * (len(train) - (look_back_window + forecast_horizon))):-look_back_window + forecast_horizon]\n",
    "test_data = train[-(look_back_window + forecast_horizon):]"
   ]
  },
  {
   "cell_type": "code",
   "execution_count": 340,
   "metadata": {},
   "outputs": [
    {
     "data": {
      "text/plain": [
       "((3120, 30), (1276, 30), (728, 30))"
      ]
     },
     "execution_count": 340,
     "metadata": {},
     "output_type": "execute_result"
    }
   ],
   "source": [
    "train_data.shape, val_data.shape, test_data.shape"
   ]
  },
  {
   "cell_type": "code",
   "execution_count": 341,
   "metadata": {},
   "outputs": [
    {
     "data": {
      "text/plain": [
       "728"
      ]
     },
     "execution_count": 341,
     "metadata": {},
     "output_type": "execute_result"
    }
   ],
   "source": [
    "look_back_window + forecast_horizon"
   ]
  },
  {
   "cell_type": "code",
   "execution_count": 342,
   "metadata": {
    "colab": {
     "base_uri": "https://localhost:8080/"
    },
    "id": "6Mg2kw8aybeH",
    "outputId": "1b961813-22fc-4289-dda9-939fc2b7b10a",
    "scrolled": false
   },
   "outputs": [
    {
     "name": "stdout",
     "output_type": "stream",
     "text": [
      "Input shape: X(2393, 480, 30), y(2393, 248)\n"
     ]
    }
   ],
   "source": [
    "# Train model\n",
    "preprocessor = ARIMAPreprocessor(y_col, look_back_window, forecast_horizon, 1, degree_of_differencing,\n",
    "                                  relative_diff=True, scaling='standard')\n",
    "X_train, y_train, scaler = preprocessor.fit_transform(train_data)\n",
    "X_val, y_val = preprocessor.transform(val_data)\n",
    "print(f'Input shape: X{X_train.shape}, y{y_train.shape}')"
   ]
  },
  {
   "cell_type": "code",
   "execution_count": 343,
   "metadata": {
    "colab": {
     "base_uri": "https://localhost:8080/"
    },
    "id": "axahqhiGL9rO",
    "outputId": "c82fb05e-b4eb-4b3b-c14d-bde4d27e15e3"
   },
   "outputs": [
    {
     "name": "stdout",
     "output_type": "stream",
     "text": [
      "Model: \"functional_25\"\n",
      "_________________________________________________________________\n",
      "Layer (type)                 Output Shape              Param #   \n",
      "=================================================================\n",
      "input_13 (InputLayer)        [(None, 480, 30)]         0         \n",
      "_________________________________________________________________\n",
      "sci_net_12 (SciNet)          ((None, 248), (None, 30)) 1033060   \n",
      "=================================================================\n",
      "Total params: 1,033,060\n",
      "Trainable params: 1,033,060\n",
      "Non-trainable params: 0\n",
      "_________________________________________________________________\n"
     ]
    }
   ],
   "source": [
    "model = make_model_2(batch_size, X_train.shape[1], X_train.shape[2])"
   ]
  },
  {
   "cell_type": "code",
   "execution_count": 344,
   "metadata": {
    "id": "euBRdcS6Ml9D"
   },
   "outputs": [],
   "source": [
    "loss_function = tf.keras.losses.MeanSquaredError()\n",
    "optimizer = tf.keras.optimizers.Adam(learning_rate=learning_rate)\n",
    "\n",
    "train_loss = tf.keras.metrics.Mean()\n",
    "\n",
    "val_loss = tf.keras.metrics.Mean()\n",
    "\n",
    "train_loss_list = []\n",
    "val_loss_list = []\n",
    "\n",
    "\n",
    "def train_function(train_X, train_y):\n",
    "    with tf.GradientTape() as tape:\n",
    "     \n",
    "        predictions, attention_weights = model(train_X)\n",
    "       \n",
    "        loss = loss_function(train_y, predictions)\n",
    "\n",
    "    gradients = tape.gradient(loss, model.trainable_variables)\n",
    "    optimizer.apply_gradients(zip(gradients, model.trainable_variables))\n",
    "    train_loss(loss)\n",
    "    mse = tf.keras.metrics.mse(train_y, predictions)\n",
    "    mae = tf.keras.metrics.mae(train_y, predictions)\n",
    "\n",
    "    return loss, mse, mae, attention_weights\n",
    "\n",
    "def test_function(val_X, val_y):\n",
    "\n",
    "    predictions, _ = model(val_X)\n",
    " \n",
    "    loss = loss_function(val_y, predictions)\n",
    "\n",
    "    val_loss(loss)\n",
    "    mse = tf.keras.metrics.mse(val_y, predictions)\n",
    "    mae = tf.keras.metrics.mae(val_y, predictions)\n",
    "\n",
    "    return loss, mse, mae\n"
   ]
  },
  {
   "cell_type": "code",
   "execution_count": 345,
   "metadata": {
    "id": "Z0TEgkxnQmd_"
   },
   "outputs": [],
   "source": [
    "train_dataset = tf.data.Dataset.from_tensor_slices((X_train, y_train))\n",
    "train_dataset = train_dataset.batch(batch_size, drop_remainder=True)"
   ]
  },
  {
   "cell_type": "code",
   "execution_count": 346,
   "metadata": {
    "id": "pnutNS-5Rf6l"
   },
   "outputs": [],
   "source": [
    "val_dataset = tf.data.Dataset.from_tensor_slices((X_val, y_val))\n",
    "val_dataset = val_dataset.batch(batch_size)"
   ]
  },
  {
   "cell_type": "code",
   "execution_count": 347,
   "metadata": {},
   "outputs": [
    {
     "data": {
      "image/png": "[encoded data removed]",
      "text/plain": [
       "<Figure size 720x360 with 1 Axes>"
      ]
     },
     "metadata": {
      "needs_background": "light"
     },
     "output_type": "display_data"
    },
    {
     "name": "stdout",
     "output_type": "stream",
     "text": [
      "epochs: 1/100, train loss : 1.13554 train mse: 1.13554 train mae: 0.88480  validation loss: 0.91846 validation mse : 0.91846 validation mae: 0.78596\n",
      "epochs: 2/100, train loss : 1.00271 train mse: 0.86988 train mae: 0.77042  validation loss: 0.82292 validation mse : 0.72738 validation mae: 0.69283\n",
      "epochs: 3/100, train loss : 0.89537 train mse: 0.68067 train mae: 0.67361  validation loss: 0.75653 validation mse : 0.62375 validation mae: 0.63798\n",
      "epochs: 4/100, train loss : 0.80531 train mse: 0.53514 train mae: 0.58959  validation loss: 0.70304 validation mse : 0.54257 validation mae: 0.59080\n",
      "epochs: 5/100, train loss : 0.72805 train mse: 0.41903 train mae: 0.51488  validation loss: 0.65260 validation mse : 0.45084 validation mae: 0.53265\n",
      "epochs: 6/100, train loss : 0.66190 train mse: 0.33113 train mae: 0.45202  validation loss: 0.61077 validation mse : 0.40161 validation mae: 0.49756\n",
      "epochs: 7/100, train loss : 0.60558 train mse: 0.26766 train mae: 0.40158  validation loss: 0.57575 validation mse : 0.36561 validation mae: 0.46968\n",
      "epochs: 8/100, train loss : 0.55767 train mse: 0.22229 train mae: 0.36161  validation loss: 0.54420 validation mse : 0.32334 validation mae: 0.43651\n",
      "epochs: 9/100, train loss : 0.51681 train mse: 0.18993 train mae: 0.33062  validation loss: 0.51710 validation mse : 0.30030 validation mae: 0.41626\n",
      "epochs: 10/100, train loss : 0.48187 train mse: 0.16738 train mae: 0.30701  validation loss: 0.49440 validation mse : 0.29017 validation mae: 0.40441\n"
     ]
    },
    {
     "data": {
      "image/png": "[encoded data removed]",
      "text/plain": [
       "<Figure size 720x360 with 1 Axes>"
      ]
     },
     "metadata": {
      "needs_background": "light"
     },
     "output_type": "display_data"
    },
    {
     "name": "stdout",
     "output_type": "stream",
     "text": [
      "epochs: 11/100, train loss : 0.45190 train mse: 0.15222 train mae: 0.28973  validation loss: 0.46946 validation mse : 0.22002 validation mae: 0.35483\n",
      "epochs: 12/100, train loss : 0.42601 train mse: 0.14121 train mae: 0.27662  validation loss: 0.44816 validation mse : 0.21381 validation mae: 0.34747\n",
      "epochs: 13/100, train loss : 0.40352 train mse: 0.13363 train mae: 0.26670  validation loss: 0.42964 validation mse : 0.20751 validation mae: 0.34026\n",
      "epochs: 14/100, train loss : 0.38387 train mse: 0.12851 train mae: 0.25976  validation loss: 0.41369 validation mse : 0.20623 validation mae: 0.33806\n",
      "epochs: 15/100, train loss : 0.36661 train mse: 0.12500 train mae: 0.25459  validation loss: 0.39977 validation mse : 0.20493 validation mae: 0.33564\n",
      "epochs: 16/100, train loss : 0.35136 train mse: 0.12258 train mae: 0.25093  validation loss: 0.38732 validation mse : 0.20060 validation mae: 0.33062\n",
      "epochs: 17/100, train loss : 0.33780 train mse: 0.12088 train mae: 0.24818  validation loss: 0.37637 validation mse : 0.20111 validation mae: 0.33037\n",
      "epochs: 18/100, train loss : 0.32568 train mse: 0.11962 train mae: 0.24615  validation loss: 0.36670 validation mse : 0.20227 validation mae: 0.33078\n",
      "epochs: 19/100, train loss : 0.31479 train mse: 0.11875 train mae: 0.24468  validation loss: 0.35819 validation mse : 0.20500 validation mae: 0.33302\n",
      "epochs: 20/100, train loss : 0.30495 train mse: 0.11805 train mae: 0.24362  validation loss: 0.35064 validation mse : 0.20721 validation mae: 0.33489\n"
     ]
    },
    {
     "data": {
      "image/png": "[encoded data removed]",
      "text/plain": [
       "<Figure size 720x360 with 1 Axes>"
      ]
     },
     "metadata": {
      "needs_background": "light"
     },
     "output_type": "display_data"
    },
    {
     "name": "stdout",
     "output_type": "stream",
     "text": [
      "epochs: 21/100, train loss : 0.29603 train mse: 0.11754 train mae: 0.24291  validation loss: 0.34392 validation mse : 0.20955 validation mae: 0.33723\n",
      "epochs: 22/100, train loss : 0.28789 train mse: 0.11705 train mae: 0.24207  validation loss: 0.33800 validation mse : 0.21362 validation mae: 0.34097\n",
      "epochs: 23/100, train loss : 0.28045 train mse: 0.11668 train mae: 0.24169  validation loss: 0.33287 validation mse : 0.22016 validation mae: 0.34638\n",
      "epochs: 24/100, train loss : 0.27361 train mse: 0.11623 train mae: 0.24107  validation loss: 0.32854 validation mse : 0.22885 validation mae: 0.35371\n",
      "epochs: 25/100, train loss : 0.26730 train mse: 0.11580 train mae: 0.24054  validation loss: 0.32469 validation mse : 0.23222 validation mae: 0.35717\n",
      "epochs: 26/100, train loss : 0.26146 train mse: 0.11548 train mae: 0.24015  validation loss: 0.32116 validation mse : 0.23305 validation mae: 0.35687\n",
      "epochs: 27/100, train loss : 0.25604 train mse: 0.11529 train mae: 0.23968  validation loss: 0.31761 validation mse : 0.22535 validation mae: 0.34989\n",
      "epochs: 28/100, train loss : 0.25100 train mse: 0.11476 train mae: 0.23945  validation loss: 0.31442 validation mse : 0.22816 validation mae: 0.35227\n",
      "epochs: 29/100, train loss : 0.24628 train mse: 0.11421 train mae: 0.23832  validation loss: 0.31118 validation mse : 0.22045 validation mae: 0.34403\n",
      "epochs: 30/100, train loss : 0.24187 train mse: 0.11405 train mae: 0.23859  validation loss: 0.30853 validation mse : 0.23184 validation mae: 0.35425\n"
     ]
    },
    {
     "data": {
      "image/png": "[encoded data removed]",
      "text/plain": [
       "<Figure size 720x360 with 1 Axes>"
      ]
     },
     "metadata": {
      "needs_background": "light"
     },
     "output_type": "display_data"
    },
    {
     "name": "stdout",
     "output_type": "stream",
     "text": [
      "epochs: 31/100, train loss : 0.23773 train mse: 0.11354 train mae: 0.23772  validation loss: 0.30649 validation mse : 0.24535 validation mae: 0.36276\n",
      "epochs: 32/100, train loss : 0.23384 train mse: 0.11329 train mae: 0.23737  validation loss: 0.30421 validation mse : 0.23344 validation mae: 0.35272\n",
      "epochs: 33/100, train loss : 0.23018 train mse: 0.11282 train mae: 0.23689  validation loss: 0.30165 validation mse : 0.21975 validation mae: 0.34568\n",
      "epochs: 34/100, train loss : 0.22671 train mse: 0.11242 train mae: 0.23661  validation loss: 0.29957 validation mse : 0.23071 validation mae: 0.35387\n",
      "epochs: 35/100, train loss : 0.22344 train mse: 0.11200 train mae: 0.23588  validation loss: 0.29766 validation mse : 0.23300 validation mae: 0.35734\n",
      "epochs: 36/100, train loss : 0.22032 train mse: 0.11128 train mae: 0.23483  validation loss: 0.29630 validation mse : 0.24859 validation mae: 0.36825\n",
      "epochs: 37/100, train loss : 0.21736 train mse: 0.11064 train mae: 0.23403  validation loss: 0.29441 validation mse : 0.22647 validation mae: 0.34964\n",
      "epochs: 38/100, train loss : 0.21455 train mse: 0.11052 train mae: 0.23413  validation loss: 0.29227 validation mse : 0.21290 validation mae: 0.34122\n",
      "epochs: 39/100, train loss : 0.21187 train mse: 0.11022 train mae: 0.23362  validation loss: 0.29058 validation mse : 0.22635 validation mae: 0.35348\n",
      "epochs: 40/100, train loss : 0.20931 train mse: 0.10948 train mae: 0.23285  validation loss: 0.28894 validation mse : 0.22489 validation mae: 0.35290\n"
     ]
    },
    {
     "data": {
      "image/png": "[encoded data removed]",
      "text/plain": [
       "<Figure size 720x360 with 1 Axes>"
      ]
     },
     "metadata": {
      "needs_background": "light"
     },
     "output_type": "display_data"
    },
    {
     "name": "stdout",
     "output_type": "stream",
     "text": [
      "epochs: 41/100, train loss : 0.20686 train mse: 0.10893 train mae: 0.23224  validation loss: 0.28695 validation mse : 0.20772 validation mae: 0.33831\n",
      "epochs: 42/100, train loss : 0.20453 train mse: 0.10900 train mae: 0.23207  validation loss: 0.28538 validation mse : 0.22089 validation mae: 0.34722\n",
      "epochs: 43/100, train loss : 0.20231 train mse: 0.10916 train mae: 0.23231  validation loss: 0.28410 validation mse : 0.23021 validation mae: 0.35563\n",
      "epochs: 44/100, train loss : 0.20016 train mse: 0.10773 train mae: 0.23055  validation loss: 0.28267 validation mse : 0.22123 validation mae: 0.34734\n",
      "epochs: 45/100, train loss : 0.19809 train mse: 0.10664 train mae: 0.22914  validation loss: 0.28145 validation mse : 0.22772 validation mae: 0.35205\n",
      "epochs: 46/100, train loss : 0.19609 train mse: 0.10635 train mae: 0.22851  validation loss: 0.27993 validation mse : 0.21168 validation mae: 0.33922\n",
      "epochs: 47/100, train loss : 0.19417 train mse: 0.10564 train mae: 0.22770  validation loss: 0.27866 validation mse : 0.22001 validation mae: 0.34515\n",
      "epochs: 48/100, train loss : 0.19231 train mse: 0.10503 train mae: 0.22692  validation loss: 0.27696 validation mse : 0.19707 validation mae: 0.32720\n",
      "epochs: 49/100, train loss : 0.19052 train mse: 0.10446 train mae: 0.22622  validation loss: 0.27582 validation mse : 0.22134 validation mae: 0.34827\n",
      "epochs: 50/100, train loss : 0.18878 train mse: 0.10362 train mae: 0.22508  validation loss: 0.27480 validation mse : 0.22453 validation mae: 0.34882\n"
     ]
    },
    {
     "data": {
      "image/png": "[encoded data removed]",
      "text/plain": [
       "<Figure size 720x360 with 1 Axes>"
      ]
     },
     "metadata": {
      "needs_background": "light"
     },
     "output_type": "display_data"
    },
    {
     "name": "stdout",
     "output_type": "stream",
     "text": [
      "epochs: 51/100, train loss : 0.18709 train mse: 0.10278 train mae: 0.22404  validation loss: 0.27395 validation mse : 0.23156 validation mae: 0.35344\n",
      "epochs: 52/100, train loss : 0.18547 train mse: 0.10248 train mae: 0.22377  validation loss: 0.27335 validation mse : 0.24290 validation mae: 0.36251\n",
      "epochs: 53/100, train loss : 0.18389 train mse: 0.10191 train mae: 0.22304  validation loss: 0.27270 validation mse : 0.23897 validation mae: 0.36054\n",
      "epochs: 54/100, train loss : 0.18237 train mse: 0.10166 train mae: 0.22274  validation loss: 0.27191 validation mse : 0.22971 validation mae: 0.35495\n",
      "epochs: 55/100, train loss : 0.18089 train mse: 0.10136 train mae: 0.22217  validation loss: 0.27117 validation mse : 0.23154 validation mae: 0.35454\n",
      "epochs: 56/100, train loss : 0.17946 train mse: 0.10073 train mae: 0.22162  validation loss: 0.27058 validation mse : 0.23812 validation mae: 0.35850\n",
      "epochs: 57/100, train loss : 0.17809 train mse: 0.10103 train mae: 0.22212  validation loss: 0.26948 validation mse : 0.20787 validation mae: 0.33537\n",
      "epochs: 58/100, train loss : 0.17676 train mse: 0.10089 train mae: 0.22193  validation loss: 0.26882 validation mse : 0.23082 validation mae: 0.35293\n",
      "epochs: 59/100, train loss : 0.17545 train mse: 0.09961 train mae: 0.22018  validation loss: 0.26859 validation mse : 0.25539 validation mae: 0.37386\n",
      "epochs: 60/100, train loss : 0.17417 train mse: 0.09884 train mae: 0.21901  validation loss: 0.26796 validation mse : 0.23081 validation mae: 0.35147\n"
     ]
    },
    {
     "data": {
      "image/png": "[encoded data removed]",
      "text/plain": [
       "<Figure size 720x360 with 1 Axes>"
      ]
     },
     "metadata": {
      "needs_background": "light"
     },
     "output_type": "display_data"
    },
    {
     "name": "stdout",
     "output_type": "stream",
     "text": [
      "epochs: 61/100, train loss : 0.17294 train mse: 0.09917 train mae: 0.21932  validation loss: 0.26725 validation mse : 0.22505 validation mae: 0.34720\n",
      "epochs: 62/100, train loss : 0.17174 train mse: 0.09813 train mae: 0.21816  validation loss: 0.26686 validation mse : 0.24290 validation mae: 0.36327\n",
      "epochs: 63/100, train loss : 0.17055 train mse: 0.09709 train mae: 0.21651  validation loss: 0.26671 validation mse : 0.25726 validation mae: 0.37605\n",
      "epochs: 64/100, train loss : 0.16939 train mse: 0.09642 train mae: 0.21590  validation loss: 0.26648 validation mse : 0.25183 validation mae: 0.37218\n",
      "epochs: 65/100, train loss : 0.16826 train mse: 0.09582 train mae: 0.21501  validation loss: 0.26569 validation mse : 0.21507 validation mae: 0.33993\n",
      "epochs: 66/100, train loss : 0.16717 train mse: 0.09620 train mae: 0.21566  validation loss: 0.26505 validation mse : 0.22399 validation mae: 0.34862\n",
      "epochs: 67/100, train loss : 0.16610 train mse: 0.09571 train mae: 0.21447  validation loss: 0.26427 validation mse : 0.21235 validation mae: 0.34004\n",
      "epochs: 68/100, train loss : 0.16506 train mse: 0.09535 train mae: 0.21425  validation loss: 0.26375 validation mse : 0.22873 validation mae: 0.35370\n",
      "epochs: 69/100, train loss : 0.16404 train mse: 0.09479 train mae: 0.21377  validation loss: 0.26301 validation mse : 0.21273 validation mae: 0.33901\n",
      "epochs: 70/100, train loss : 0.16305 train mse: 0.09473 train mae: 0.21440  validation loss: 0.26234 validation mse : 0.21605 validation mae: 0.33975\n"
     ]
    },
    {
     "data": {
      "image/png": "[encoded data removed]",
      "text/plain": [
       "<Figure size 720x360 with 1 Axes>"
      ]
     },
     "metadata": {
      "needs_background": "light"
     },
     "output_type": "display_data"
    },
    {
     "name": "stdout",
     "output_type": "stream",
     "text": [
      "epochs: 71/100, train loss : 0.16207 train mse: 0.09314 train mae: 0.21098  validation loss: 0.26137 validation mse : 0.19410 validation mae: 0.32184\n",
      "epochs: 72/100, train loss : 0.16110 train mse: 0.09231 train mae: 0.20990  validation loss: 0.26061 validation mse : 0.20667 validation mae: 0.33176\n",
      "epochs: 73/100, train loss : 0.16015 train mse: 0.09154 train mae: 0.20888  validation loss: 0.26009 validation mse : 0.22231 validation mae: 0.34630\n",
      "epochs: 74/100, train loss : 0.15921 train mse: 0.09095 train mae: 0.20808  validation loss: 0.25929 validation mse : 0.20068 validation mae: 0.32651\n",
      "epochs: 75/100, train loss : 0.15832 train mse: 0.09212 train mae: 0.21039  validation loss: 0.25892 validation mse : 0.23155 validation mae: 0.35328\n",
      "epochs: 76/100, train loss : 0.15745 train mse: 0.09212 train mae: 0.21045  validation loss: 0.25854 validation mse : 0.23036 validation mae: 0.35060\n",
      "epochs: 77/100, train loss : 0.15660 train mse: 0.09244 train mae: 0.21078  validation loss: 0.25841 validation mse : 0.24847 validation mae: 0.36529\n",
      "epochs: 78/100, train loss : 0.15574 train mse: 0.08978 train mae: 0.20686  validation loss: 0.25826 validation mse : 0.24685 validation mae: 0.36668\n",
      "epochs: 79/100, train loss : 0.15490 train mse: 0.08935 train mae: 0.20572  validation loss: 0.25806 validation mse : 0.24236 validation mae: 0.36388\n",
      "epochs: 80/100, train loss : 0.15408 train mse: 0.08887 train mae: 0.20548  validation loss: 0.25773 validation mse : 0.23142 validation mae: 0.35526\n"
     ]
    },
    {
     "data": {
      "image/png": "[encoded data removed]",
      "text/plain": [
       "<Figure size 720x360 with 1 Axes>"
      ]
     },
     "metadata": {
      "needs_background": "light"
     },
     "output_type": "display_data"
    },
    {
     "name": "stdout",
     "output_type": "stream",
     "text": [
      "epochs: 81/100, train loss : 0.15327 train mse: 0.08865 train mae: 0.20486  validation loss: 0.25764 validation mse : 0.25058 validation mae: 0.37024\n",
      "epochs: 82/100, train loss : 0.15249 train mse: 0.08959 train mae: 0.20665  validation loss: 0.25762 validation mse : 0.25612 validation mae: 0.37404\n",
      "epochs: 83/100, train loss : 0.15172 train mse: 0.08844 train mae: 0.20495  validation loss: 0.25780 validation mse : 0.27212 validation mae: 0.39040\n",
      "epochs: 84/100, train loss : 0.15098 train mse: 0.08937 train mae: 0.20620  validation loss: 0.25762 validation mse : 0.24329 validation mae: 0.36458\n",
      "epochs: 85/100, train loss : 0.15025 train mse: 0.08892 train mae: 0.20586  validation loss: 0.25733 validation mse : 0.23244 validation mae: 0.35424\n",
      "epochs: 86/100, train loss : 0.14953 train mse: 0.08868 train mae: 0.20509  validation loss: 0.25663 validation mse : 0.19744 validation mae: 0.32252\n",
      "epochs: 87/100, train loss : 0.14885 train mse: 0.08996 train mae: 0.20746  validation loss: 0.25588 validation mse : 0.19101 validation mae: 0.31599\n",
      "epochs: 88/100, train loss : 0.14817 train mse: 0.08861 train mae: 0.20535  validation loss: 0.25500 validation mse : 0.17920 validation mae: 0.30594\n",
      "epochs: 89/100, train loss : 0.14749 train mse: 0.08807 train mae: 0.20444  validation loss: 0.25410 validation mse : 0.17470 validation mae: 0.30330\n",
      "epochs: 90/100, train loss : 0.14682 train mse: 0.08677 train mae: 0.20167  validation loss: 0.25324 validation mse : 0.17677 validation mae: 0.30498\n"
     ]
    },
    {
     "data": {
      "image/png": "[encoded data removed]",
      "text/plain": [
       "<Figure size 720x360 with 1 Axes>"
      ]
     },
     "metadata": {
      "needs_background": "light"
     },
     "output_type": "display_data"
    },
    {
     "name": "stdout",
     "output_type": "stream",
     "text": [
      "epochs: 91/100, train loss : 0.14615 train mse: 0.08624 train mae: 0.20183  validation loss: 0.25252 validation mse : 0.18733 validation mae: 0.31456\n",
      "epochs: 92/100, train loss : 0.14549 train mse: 0.08550 train mae: 0.19976  validation loss: 0.25183 validation mse : 0.18881 validation mae: 0.31291\n",
      "epochs: 93/100, train loss : 0.14484 train mse: 0.08469 train mae: 0.19924  validation loss: 0.25111 validation mse : 0.18547 validation mae: 0.31211\n",
      "epochs: 94/100, train loss : 0.14419 train mse: 0.08448 train mae: 0.19859  validation loss: 0.25038 validation mse : 0.18255 validation mae: 0.30901\n",
      "epochs: 95/100, train loss : 0.14357 train mse: 0.08441 train mae: 0.19883  validation loss: 0.24963 validation mse : 0.17914 validation mae: 0.30476\n",
      "epochs: 96/100, train loss : 0.14295 train mse: 0.08472 train mae: 0.19928  validation loss: 0.24891 validation mse : 0.18025 validation mae: 0.30648\n",
      "epochs: 97/100, train loss : 0.14234 train mse: 0.08374 train mae: 0.19784  validation loss: 0.24819 validation mse : 0.17888 validation mae: 0.30587\n",
      "epochs: 98/100, train loss : 0.14173 train mse: 0.08285 train mae: 0.19628  validation loss: 0.24758 validation mse : 0.18834 validation mae: 0.31670\n",
      "epochs: 99/100, train loss : 0.14114 train mse: 0.08249 train mae: 0.19574  validation loss: 0.24701 validation mse : 0.19149 validation mae: 0.31940\n",
      "epochs: 100/100, train loss : 0.14054 train mse: 0.08175 train mae: 0.19453  validation loss: 0.24642 validation mse : 0.18767 validation mae: 0.31607\n"
     ]
    },
    {
     "data": {
      "image/png": "[encoded data removed]",
      "text/plain": [
       "<Figure size 432x288 with 1 Axes>"
      ]
     },
     "metadata": {
      "needs_background": "light"
     },
     "output_type": "display_data"
    }
   ],
   "source": [
    "try :\n",
    "    os.mkdir(f'../data/model_weights/model_{EPOCHS}_{look_back_window}_{forecast_horizon}_cluster_{cluster_num}')\n",
    "except:\n",
    "    print(\"폴더가 이미 존재\")\n",
    "\n",
    "visual_list = []\n",
    "for epoch in range(EPOCHS):\n",
    "    epoch_train_mse = 0\n",
    "    epoch_train_mae = 0\n",
    "    \n",
    "    epoch_val_mse = 0\n",
    "    epoch_val_mae = 0\n",
    "\n",
    "    train_data_len = 0\n",
    "    val_data_len = 0\n",
    "\n",
    "    for train_X, train_y in train_dataset:\n",
    "        _, train_mse, train_mae, attention_weights = train_function(train_X, train_y)\n",
    "        train_data_len += 1\n",
    "        epoch_train_mse += tf.reduce_mean(train_mse).numpy()\n",
    "        epoch_train_mae += tf.reduce_mean(train_mae).numpy()\n",
    "    for test_images, test_labels in val_dataset:\n",
    "        _, val_mse, val_mae = test_function(test_images, test_labels)\n",
    "        val_data_len += 1\n",
    "        epoch_val_mse += tf.reduce_mean(val_mse).numpy()\n",
    "        epoch_val_mae += tf.reduce_mean(val_mae).numpy()\n",
    "\n",
    "    train_loss_list.append(train_loss.result().numpy())\n",
    "    val_loss_list.append(val_loss.result().numpy())\n",
    "    visual_result = VisualizeAttentionMap(model, train_X, attention_weights).on_epoch_begin(epoch)\n",
    "    visual_list.append(visual_result.numpy())\n",
    "    template = 'epochs: {}/{}, train loss : {:.5f} train mse: {:.5f} train mae: {:.5f}  validation loss: {:.5f} validation mse : {:.5f} validation mae: {:.5f}'\n",
    "    print(template.format(epoch+1,\n",
    "                         EPOCHS,\n",
    "                         train_loss.result().numpy(),\n",
    "                         epoch_train_mse / train_data_len,\n",
    "                         epoch_train_mae / train_data_len,\n",
    "                         val_loss.result().numpy(),\n",
    "                         epoch_val_mse / val_data_len,\n",
    "                         epoch_val_mae / val_data_len))\n",
    "  \n",
    "    if (epoch+1) % 10 == 0 :\n",
    "        model.save_weights(f'../data/model_weights/model_{EPOCHS}_{look_back_window}_{forecast_horizon}_cluster_{cluster_num}/model_{epoch+1}.pth') \n",
    "\n",
    "\n",
    "\n",
    "try :\n",
    "    os.mkdir(f'../data/attention_weights/attention_png_{EPOCHS}_{look_back_window}_{forecast_horizon}_cluster_{cluster_num}')\n",
    "except:\n",
    "    print(\"폴더가 이미 존재\")\n",
    "\n",
    "for idx, img in enumerate(visual_list) :\n",
    "    tmp = sns.heatmap(img, cmap ='jet', cbar = False)\n",
    "    tmp.figure.savefig(f\"../data/attention_weights/attention_png_{EPOCHS}_{look_back_window}_{forecast_horizon}_cluster_{cluster_num}/{idx}.png\")\n",
    "    \n",
    "    \n",
    "    \n",
    "path = [f\"../data/attention_weights/attention_png_{EPOCHS}_{look_back_window}_{forecast_horizon}_cluster_{cluster_num}/{i}\" for i in os.listdir(f\"../data/attention_weights/attention_png_{EPOCHS}_{look_back_window}_{forecast_horizon}_cluster_{cluster_num}\") if i.endswith(\".png\")]\n",
    "paths = [np.array(Image.open(i)) for i in path]\n",
    "\n",
    "try :\n",
    "    os.mkdir(f'../data/attention_weights/attention_result_{EPOCHS}_{look_back_window}_{forecast_horizon}_cluster_{cluster_num}')\n",
    "except :\n",
    "    print(\"폴더가 이미 존재\")\n",
    "    \n",
    "imageio.mimsave(f'../data/attention_weights/attention_result_{EPOCHS}_{look_back_window}_{forecast_horizon}_cluster_{cluster_num}/result_{EPOCHS}_{look_back_window}_{forecast_horizon}_cluster_{cluster_num}.gif', paths, fps=5)"
   ]
  },
  {
   "cell_type": "code",
   "execution_count": 356,
   "metadata": {
    "colab": {
     "base_uri": "https://localhost:8080/",
     "height": 313
    },
    "id": "xoN7WZo7eVYm",
    "outputId": "b65e1102-f5e1-4a2d-a958-fcd1595b61af"
   },
   "outputs": [
    {
     "data": {
      "text/plain": [
       "<matplotlib.legend.Legend at 0x21f2ccb4850>"
      ]
     },
     "execution_count": 356,
     "metadata": {},
     "output_type": "execute_result"
    },
    {
     "data": {
      "image/png": "[encoded data removed]",
      "text/plain": [
       "<Figure size 432x288 with 1 Axes>"
      ]
     },
     "metadata": {
      "needs_background": "light"
     },
     "output_type": "display_data"
    }
   ],
   "source": [
    "plt.plot(train_loss_list)\n",
    "plt.plot(val_loss_list)\n",
    "plt.title('model loss')\n",
    "plt.ylabel('loss')\n",
    "plt.xlabel('epoch')\n",
    "plt.legend(['train', 'validation'], loc='upper right')"
   ]
  },
  {
   "cell_type": "code",
   "execution_count": 389,
   "metadata": {
    "id": "6OhpaJLkzfLf"
   },
   "outputs": [
    {
     "name": "stdout",
     "output_type": "stream",
     "text": [
      "Model MAE : 0.7550469040870667\n",
      "15091.45338095388\n",
      "Model MAE : 0.7550469040870667\n",
      "16054.024962394467\n",
      "Model MAE : 0.7550469040870667\n",
      "15212.068122125442\n",
      "Model MAE : 0.7550469040870667\n",
      "14292.908793787803\n",
      "Model MAE : 0.7550469040870667\n",
      "13209.500881195068\n",
      "Model MAE : 0.7550469040870667\n",
      "12295.11245825983\n",
      "Model MAE : 0.7550469040870667\n",
      "13279.159652217742\n",
      "Model MAE : 0.7550469040870667\n",
      "12467.634970388104\n",
      "Model MAE : 0.7550469040870667\n",
      "11950.567044165826\n",
      "Model MAE : 0.7550469040870667\n",
      "12029.010922339654\n"
     ]
    }
   ],
   "source": [
    "for i in range(10, 101 ,10) :\n",
    "    model.load_weights(f\"../data/model_weights/model_100_480_248_cluster_1/model_{i}.pth\")\n",
    "    X_test, y_test = preprocessor.transform(test_data.values)\n",
    "    scores = np.mean(np.abs(y_test , model.predict(X_test)[0]))\n",
    "\n",
    "    print(f\"Model MAE : {scores}\")\n",
    "\n",
    "    # Predict\n",
    "    y_pred,_ = model.predict(X_test)\n",
    "    y_pred = preprocessor.y_scaler.inverse_transform(y_pred.reshape(-1, 1))\n",
    "    y_test = preprocessor.y_scaler.inverse_transform(y_test.reshape(-1, 1))\n",
    "    comparison = np.hstack([y_pred, y_test])\n",
    "    print(np.mean(np.abs(y_test - y_pred)))"
   ]
  },
  {
   "cell_type": "code",
   "execution_count": 397,
   "metadata": {},
   "outputs": [
    {
     "name": "stdout",
     "output_type": "stream",
     "text": [
      "11950.567044165826\n"
     ]
    }
   ],
   "source": [
    "X_test, y_test = preprocessor.transform(test_data.values)\n",
    "model.load_weights(f\"../data/model_weights/model_100_480_248_cluster_1/model_90.pth\")\n",
    "y_pred,_ = model.predict(X_test)\n",
    "y_pred = preprocessor.y_scaler.inverse_transform(y_pred.reshape(-1, 1))\n",
    "y_test = preprocessor.y_scaler.inverse_transform(y_test.reshape(-1, 1))\n",
    "comparison = np.hstack([y_pred, y_test])\n",
    "print(np.mean(np.abs(y_test - y_pred)))"
   ]
  },
  {
   "cell_type": "code",
   "execution_count": 398,
   "metadata": {
    "colab": {
     "base_uri": "https://localhost:8080/",
     "height": 428
    },
    "id": "znrmn2qA3UNA",
    "outputId": "e12b383b-21f1-41d7-a765-970c20e2ba9f"
   },
   "outputs": [
    {
     "data": {
      "image/png": "[encoded data removed]",
      "text/plain": [
       "<Figure size 1080x504 with 1 Axes>"
      ]
     },
     "metadata": {
      "needs_background": "light"
     },
     "output_type": "display_data"
    }
   ],
   "source": [
    "plt.figure(figsize=(15,7))\n",
    "plt.plot(comparison[200:400])\n",
    "plt.legend(['pred','real'])\n",
    "plt.show()"
   ]
  },
  {
   "cell_type": "code",
   "execution_count": 399,
   "metadata": {},
   "outputs": [],
   "source": [
    "data = pd.read_csv(f'../data/processed_data/클러스터_{cluster_num}_최종피쳐.csv', encoding = 'cp949')\n",
    "final_test_data = data[-look_back_window:]"
   ]
  },
  {
   "cell_type": "code",
   "execution_count": 400,
   "metadata": {},
   "outputs": [
    {
     "name": "stderr",
     "output_type": "stream",
     "text": [
      "C:\\ProgramData\\Anaconda3\\lib\\site-packages\\pandas\\core\\frame.py:4308: SettingWithCopyWarning: \n",
      "A value is trying to be set on a copy of a slice from a DataFrame\n",
      "\n",
      "See the caveats in the documentation: https://pandas.pydata.org/pandas-docs/stable/user_guide/indexing.html#returning-a-view-versus-a-copy\n",
      "  return super().drop(\n"
     ]
    }
   ],
   "source": [
    "final_dong_list = final_test_data.읍면동.unique()\n",
    "final_test_data.drop(columns = '읍면동', inplace = True)"
   ]
  },
  {
   "cell_type": "code",
   "execution_count": 405,
   "metadata": {},
   "outputs": [],
   "source": [
    "final_test_data = final_test_data.set_index(['일자'])"
   ]
  },
  {
   "cell_type": "code",
   "execution_count": 406,
   "metadata": {
    "scrolled": false
   },
   "outputs": [],
   "source": [
    "a = scaler.transform(final_test_data)"
   ]
  },
  {
   "cell_type": "code",
   "execution_count": 407,
   "metadata": {},
   "outputs": [
    {
     "data": {
      "text/plain": [
       "(1, 480, 30)"
      ]
     },
     "execution_count": 407,
     "metadata": {},
     "output_type": "execute_result"
    }
   ],
   "source": [
    "np.asarray([a]).shape"
   ]
  },
  {
   "cell_type": "code",
   "execution_count": 408,
   "metadata": {},
   "outputs": [],
   "source": [
    "y_pred,_ = model.predict(np.asarray([a]))"
   ]
  },
  {
   "cell_type": "code",
   "execution_count": 409,
   "metadata": {},
   "outputs": [],
   "source": [
    "y_pred = preprocessor.y_scaler.inverse_transform(y_pred.reshape(-1, 1))"
   ]
  },
  {
   "cell_type": "code",
   "execution_count": 410,
   "metadata": {},
   "outputs": [
    {
     "data": {
      "text/plain": [
       "array([[ 18458.02  ],\n",
       "       [104534.46  ],\n",
       "       [125223.31  ],\n",
       "       [ 55655.742 ],\n",
       "       [ 18250.875 ],\n",
       "       [101757.97  ],\n",
       "       [127182.47  ],\n",
       "       [ 52225.062 ],\n",
       "       [ 18902.203 ],\n",
       "       [110183.8   ],\n",
       "       [136789.78  ],\n",
       "       [ 52729.504 ],\n",
       "       [ 14387.651 ],\n",
       "       [119962.87  ],\n",
       "       [125424.06  ],\n",
       "       [ 58874.273 ],\n",
       "       [ 22324.477 ],\n",
       "       [112602.58  ],\n",
       "       [129940.695 ],\n",
       "       [ 57337.035 ],\n",
       "       [ 23738.355 ],\n",
       "       [102487.19  ],\n",
       "       [125767.66  ],\n",
       "       [ 53680.848 ],\n",
       "       [ 22905.25  ],\n",
       "       [104290.43  ],\n",
       "       [125859.31  ],\n",
       "       [ 57028.43  ],\n",
       "       [ 17789.121 ],\n",
       "       [104731.01  ],\n",
       "       [134941.2   ],\n",
       "       [ 43156.953 ],\n",
       "       [ 16948.852 ],\n",
       "       [ 98920.664 ],\n",
       "       [125172.19  ],\n",
       "       [ 63722.332 ],\n",
       "       [ 18494.688 ],\n",
       "       [102024.37  ],\n",
       "       [124327.67  ],\n",
       "       [ 59939.582 ],\n",
       "       [ 18579.629 ],\n",
       "       [112861.52  ],\n",
       "       [127018.11  ],\n",
       "       [ 52055.105 ],\n",
       "       [ 10445.03  ],\n",
       "       [106614.11  ],\n",
       "       [135332.66  ],\n",
       "       [ 71206.51  ],\n",
       "       [ 18499.148 ],\n",
       "       [114660.92  ],\n",
       "       [128718.086 ],\n",
       "       [ 60936.41  ],\n",
       "       [ 15228.163 ],\n",
       "       [108184.9   ],\n",
       "       [132403.12  ],\n",
       "       [ 50757.508 ],\n",
       "       [ 20129.406 ],\n",
       "       [112235.22  ],\n",
       "       [124157.62  ],\n",
       "       [ 53732.12  ],\n",
       "       [ 10635.163 ],\n",
       "       [106936.79  ],\n",
       "       [128582.125 ],\n",
       "       [ 60370.902 ],\n",
       "       [ 22248.047 ],\n",
       "       [109326.71  ],\n",
       "       [134166.1   ],\n",
       "       [ 59978.06  ],\n",
       "       [ 26547.95  ],\n",
       "       [118572.39  ],\n",
       "       [127602.016 ],\n",
       "       [ 75913.65  ],\n",
       "       [ 23957.223 ],\n",
       "       [113729.375 ],\n",
       "       [131168.56  ],\n",
       "       [ 68095.03  ],\n",
       "       [ 23332.18  ],\n",
       "       [102676.09  ],\n",
       "       [129590.1   ],\n",
       "       [ 57312.492 ],\n",
       "       [ 16187.569 ],\n",
       "       [103012.39  ],\n",
       "       [129567.54  ],\n",
       "       [ 53185.86  ],\n",
       "       [ 22551.695 ],\n",
       "       [110210.9   ],\n",
       "       [135037.64  ],\n",
       "       [ 54735.734 ],\n",
       "       [ 17768.027 ],\n",
       "       [106754.87  ],\n",
       "       [122613.375 ],\n",
       "       [ 56964.258 ],\n",
       "       [ 24732.45  ],\n",
       "       [111571.74  ],\n",
       "       [131638.5   ],\n",
       "       [ 59958.086 ],\n",
       "       [ 16553.723 ],\n",
       "       [119018.9   ],\n",
       "       [137739.81  ],\n",
       "       [ 62987.875 ],\n",
       "       [ 15415.687 ],\n",
       "       [113638.85  ],\n",
       "       [130660.73  ],\n",
       "       [ 59201.523 ],\n",
       "       [ 22388.816 ],\n",
       "       [106136.48  ],\n",
       "       [138093.58  ],\n",
       "       [ 63764.953 ],\n",
       "       [ 24661.875 ],\n",
       "       [117243.55  ],\n",
       "       [123254.9   ],\n",
       "       [ 58360.492 ],\n",
       "       [ 23662.66  ],\n",
       "       [116794.12  ],\n",
       "       [128261.96  ],\n",
       "       [ 64005.324 ],\n",
       "       [ 20504.11  ],\n",
       "       [ 97565.33  ],\n",
       "       [128827.12  ],\n",
       "       [ 60832.945 ],\n",
       "       [ 17871.633 ],\n",
       "       [112450.6   ],\n",
       "       [123596.914 ],\n",
       "       [ 52858.79  ],\n",
       "       [ 15768.745 ],\n",
       "       [113228.96  ],\n",
       "       [136324.05  ],\n",
       "       [ 64009.164 ],\n",
       "       [ 16047.226 ],\n",
       "       [115168.91  ],\n",
       "       [138040.39  ],\n",
       "       [ 52085.293 ],\n",
       "       [ 19236.996 ],\n",
       "       [117832.23  ],\n",
       "       [128808.5   ],\n",
       "       [ 59987.9   ],\n",
       "       [ 26040.402 ],\n",
       "       [118234.5   ],\n",
       "       [122865.234 ],\n",
       "       [ 62100.14  ],\n",
       "       [ 24673.816 ],\n",
       "       [112236.15  ],\n",
       "       [130666.83  ],\n",
       "       [ 58556.57  ],\n",
       "       [ 30845.414 ],\n",
       "       [116783.68  ],\n",
       "       [135545.19  ],\n",
       "       [ 66189.016 ],\n",
       "       [ 15428.448 ],\n",
       "       [114087.336 ],\n",
       "       [127801.484 ],\n",
       "       [ 57436.113 ],\n",
       "       [ 17857.73  ],\n",
       "       [110600.484 ],\n",
       "       [135554.34  ],\n",
       "       [ 57960.11  ],\n",
       "       [ 20308.34  ],\n",
       "       [105604.44  ],\n",
       "       [130885.375 ],\n",
       "       [ 61734.016 ],\n",
       "       [ 12533.929 ],\n",
       "       [109207.555 ],\n",
       "       [127702.03  ],\n",
       "       [ 55173.363 ],\n",
       "       [ 23531.414 ],\n",
       "       [105426.13  ],\n",
       "       [128683.79  ],\n",
       "       [ 59052.273 ],\n",
       "       [ 15114.12  ],\n",
       "       [113967.484 ],\n",
       "       [134874.3   ],\n",
       "       [ 62728.707 ],\n",
       "       [ 25957.094 ],\n",
       "       [105952.98  ],\n",
       "       [130745.41  ],\n",
       "       [ 54596.676 ],\n",
       "       [ 24051.215 ],\n",
       "       [115341.33  ],\n",
       "       [128760.54  ],\n",
       "       [ 62721.684 ],\n",
       "       [ 17762.05  ],\n",
       "       [120501.625 ],\n",
       "       [129832.78  ],\n",
       "       [ 67914.15  ],\n",
       "       [ 20050.23  ],\n",
       "       [115135.87  ],\n",
       "       [131612.42  ],\n",
       "       [ 61645.87  ],\n",
       "       [ 18719.984 ],\n",
       "       [104988.586 ],\n",
       "       [131574.17  ],\n",
       "       [ 58298.402 ],\n",
       "       [ 13798.761 ],\n",
       "       [116929.23  ],\n",
       "       [129452.555 ],\n",
       "       [ 59947.01  ],\n",
       "       [ 10147.163 ],\n",
       "       [116636.28  ],\n",
       "       [127200.78  ],\n",
       "       [ 59233.164 ],\n",
       "       [ 16257.9795],\n",
       "       [117906.46  ],\n",
       "       [124960.55  ],\n",
       "       [ 58290.105 ],\n",
       "       [ 23414.902 ],\n",
       "       [106008.12  ],\n",
       "       [132353.69  ],\n",
       "       [ 61620.88  ],\n",
       "       [ 19711.605 ],\n",
       "       [116420.84  ],\n",
       "       [129888.78  ],\n",
       "       [ 64525.24  ],\n",
       "       [ 17289.188 ],\n",
       "       [116365.78  ],\n",
       "       [131153.97  ],\n",
       "       [ 59157.188 ],\n",
       "       [ 31283.668 ],\n",
       "       [112180.74  ],\n",
       "       [126805.17  ],\n",
       "       [ 54929.63  ],\n",
       "       [ 19324.281 ],\n",
       "       [111484.22  ],\n",
       "       [130544.125 ],\n",
       "       [ 59990.297 ],\n",
       "       [ 17257.73  ],\n",
       "       [106200.555 ],\n",
       "       [128007.875 ],\n",
       "       [ 55103.6   ],\n",
       "       [ 20653.906 ],\n",
       "       [119583.66  ],\n",
       "       [123080.664 ],\n",
       "       [ 60518.17  ],\n",
       "       [ 15980.917 ],\n",
       "       [116694.02  ],\n",
       "       [128678.125 ],\n",
       "       [ 57950.887 ],\n",
       "       [ 15285.245 ],\n",
       "       [104178.58  ],\n",
       "       [124739.086 ],\n",
       "       [ 58376.48  ],\n",
       "       [ 23083.836 ],\n",
       "       [112815.43  ],\n",
       "       [123657.97  ],\n",
       "       [ 53821.094 ],\n",
       "       [ 28182.55  ],\n",
       "       [112791.89  ],\n",
       "       [125584.95  ],\n",
       "       [ 58828.31  ]], dtype=float32)"
      ]
     },
     "execution_count": 410,
     "metadata": {},
     "output_type": "execute_result"
    }
   ],
   "source": [
    "y_pred"
   ]
  },
  {
   "cell_type": "code",
   "execution_count": 411,
   "metadata": {},
   "outputs": [],
   "source": [
    "final_test_data = data[-look_back_window:]"
   ]
  },
  {
   "cell_type": "code",
   "execution_count": 412,
   "metadata": {},
   "outputs": [
    {
     "data": {
      "text/plain": [
       "['봉개동', '삼양동', '아라동', '오라동']"
      ]
     },
     "execution_count": 412,
     "metadata": {},
     "output_type": "execute_result"
    }
   ],
   "source": [
    "list(final_dong_list)"
   ]
  },
  {
   "cell_type": "code",
   "execution_count": 413,
   "metadata": {},
   "outputs": [],
   "source": [
    "final_dong_cluster_1 = list(final_dong_list) * int(y_pred.shape[0] / len(final_dong_list))"
   ]
  },
  {
   "cell_type": "code",
   "execution_count": 414,
   "metadata": {},
   "outputs": [],
   "source": [
    "final_result = pd.DataFrame(np.vstack([final_dong_cluster_1,np.reshape(y_pred, (y_pred.shape[0]))]).T, columns=['읍면동','7_8월예측값'])"
   ]
  },
  {
   "cell_type": "code",
   "execution_count": 417,
   "metadata": {},
   "outputs": [
    {
     "data": {
      "text/html": [
       "<div>\n",
       "<style scoped>\n",
       "    .dataframe tbody tr th:only-of-type {\n",
       "        vertical-align: middle;\n",
       "    }\n",
       "\n",
       "    .dataframe tbody tr th {\n",
       "        vertical-align: top;\n",
       "    }\n",
       "\n",
       "    .dataframe thead th {\n",
       "        text-align: right;\n",
       "    }\n",
       "</style>\n",
       "<table border=\"1\" class=\"dataframe\">\n",
       "  <thead>\n",
       "    <tr style=\"text-align: right;\">\n",
       "      <th></th>\n",
       "      <th>읍면동</th>\n",
       "      <th>7_8월예측값</th>\n",
       "    </tr>\n",
       "  </thead>\n",
       "  <tbody>\n",
       "  </tbody>\n",
       "</table>\n",
       "</div>"
      ],
      "text/plain": [
       "Empty DataFrame\n",
       "Columns: [읍면동, 7_8월예측값]\n",
       "Index: []"
      ]
     },
     "execution_count": 417,
     "metadata": {},
     "output_type": "execute_result"
    }
   ],
   "source": [
    "final_result[final_result['7_8월예측값'].astype('float') < 0 ] #음수값이 있나 확인"
   ]
  },
  {
   "cell_type": "code",
   "execution_count": 416,
   "metadata": {},
   "outputs": [],
   "source": [
    "final_result.to_csv(f'../data/processed_data/cluster_{cluster_num}_final_result.csv', encoding = 'cp949', index = False)"
   ]
  }
 ],
 "metadata": {
  "accelerator": "GPU",
  "colab": {
   "collapsed_sections": [],
   "name": "빅콘_모델링-2021-09-12.ipynb",
   "provenance": []
  },
  "kernelspec": {
   "display_name": "Python 3",
   "language": "python",
   "name": "python3"
  },
  "language_info": {
   "codemirror_mode": {
    "name": "ipython",
    "version": 3
   },
   "file_extension": ".py",
   "mimetype": "text/x-python",
   "name": "python",
   "nbconvert_exporter": "python",
   "pygments_lexer": "ipython3",
   "version": "3.7.9"
  }
 },
 "nbformat": 4,
 "nbformat_minor": 1
}
