{
 "cells": [
  {
   "cell_type": "code",
   "execution_count": 1,
   "metadata": {},
   "outputs": [],
   "source": [
    "import pandas as pd\n",
    "import numpy as np\n",
    "import matplotlib.pylab as plt\n",
    "import seaborn as sns\n",
    "import math\n",
    "from datetime import timedelta, datetime\n",
    "from pytimekr import pytimekr"
   ]
  },
  {
   "cell_type": "code",
   "execution_count": 2,
   "metadata": {},
   "outputs": [],
   "source": [
    "# 한글날, 어린이날, 광복절, 현충일, 석가탄신일, 추석(+-1), 설날(+-1)\n",
    "holiday = []\n",
    "for i in range(2018,2022):\n",
    "    holiday.append(pytimekr.hangul(i).strftime(\"%Y-%m-%d\"))\n",
    "    holiday.append(pytimekr.children(i).strftime(\"%Y-%m-%d\"))\n",
    "    holiday.append(pytimekr.independence(i).strftime(\"%Y-%m-%d\"))\n",
    "    holiday.append(pytimekr.memorial(i).strftime(\"%Y-%m-%d\"))\n",
    "    holiday.append(pytimekr.buddha(i).strftime(\"%Y-%m-%d\"))\n",
    "    holiday.append(pytimekr.samiljeol(i).strftime(\"%Y-%m-%d\"))\n",
    "    \n",
    "    chuseok = pytimekr.chuseok(i).strftime(\"%Y-%m-%d\")\n",
    "    chuseok_delta_p = datetime.strptime(chuseok,'%Y-%m-%d') + timedelta(1)\n",
    "    chuseok_delta_m = datetime.strptime(chuseok,'%Y-%m-%d') + timedelta(-1)\n",
    "    chuseok_delta_p = chuseok_delta_p.strftime(\"%Y-%m-%d\")\n",
    "    chuseok_delta_m = chuseok_delta_m.strftime(\"%Y-%m-%d\")\n",
    "    holiday.append(chuseok)\n",
    "    holiday.append(chuseok_delta_p)\n",
    "    holiday.append(chuseok_delta_m)    \n",
    "    \n",
    "    lunar_newyear = pytimekr.lunar_newyear(i).strftime(\"%Y-%m-%d\")\n",
    "    lunar_newyear_delta_p = datetime.strptime(lunar_newyear,'%Y-%m-%d') + timedelta(1)\n",
    "    lunar_newyear_delta_m = datetime.strptime(lunar_newyear,'%Y-%m-%d') + timedelta(-1)\n",
    "    lunar_newyear_delta_p = lunar_newyear_delta_p.strftime(\"%Y-%m-%d\")\n",
    "    lunar_newyear_delta_m = lunar_newyear_delta_m.strftime(\"%Y-%m-%d\")\n",
    "    holiday.append(lunar_newyear)\n",
    "    holiday.append(lunar_newyear_delta_p)\n",
    "    holiday.append(lunar_newyear_delta_m)"
   ]
  },
  {
   "cell_type": "code",
   "execution_count": 3,
   "metadata": {},
   "outputs": [],
   "source": [
    "Data_1 = pd.read_csv('../data/train_data/01_음식물쓰레기_FOOD_WASTE_210811_update.CSV',encoding='cp949', low_memory = False)\n",
    "Data_2 = pd.read_csv('../data/train_data/02-1_내국인유동인구_KOREAN.CSV',encoding='cp949')\n",
    "Data_3 = pd.read_csv('../data/train_data/02-2_장기체류 외국인 유동인구_LONG_TERM_FRGN.CSV',encoding='cp949')\n",
    "Data_4 = pd.read_csv('../data/train_data/02-3_단기체류 외국인 유동인구_SHORT_TERM_FRGN.CSV',encoding='cp949')\n",
    "Data_5 = pd.read_csv('../data/train_data/03_거주인구_RESIDENT_POP.CSV',encoding='cp949')\n",
    "Data_6 = pd.read_csv('../data/train_data/04_음식관련 카드소비_CARD_SPENDING.CSV',encoding='cp949')"
   ]
  },
  {
   "cell_type": "code",
   "execution_count": 4,
   "metadata": {},
   "outputs": [],
   "source": [
    "kisang = pd.read_csv('../data/processed_data/일자별_읍면동별_종간기상관측.csv', encoding='cp949')"
   ]
  },
  {
   "cell_type": "code",
   "execution_count": 5,
   "metadata": {},
   "outputs": [],
   "source": [
    "kisang.columns = ['일자', '읍면동', '평균기온', '최저기온', '최고기온', '강수 계속시간',\n",
    "       '일강수량', '최대 순간 풍속', '최대 풍속', '평균 풍속', '평균 상대습도',\n",
    "       '평균 증기압', '합계 일조시간', '평균 전운량', '평균 지면온도']"
   ]
  },
  {
   "cell_type": "code",
   "execution_count": 6,
   "metadata": {},
   "outputs": [],
   "source": [
    "kisang = kisang.fillna(0)"
   ]
  },
  {
   "cell_type": "code",
   "execution_count": 22,
   "metadata": {},
   "outputs": [
    {
     "name": "stdout",
     "output_type": "stream",
     "text": [
      "53634\n",
      "53634\n",
      "53634\n",
      "53634\n",
      "53634\n",
      "53634\n",
      "53634\n",
      "53634\n",
      "53634\n",
      "53634\n",
      "53634\n",
      "53634\n",
      "53634\n"
     ]
    }
   ],
   "source": [
    "# 1. 카드소비 데이터\n",
    "Data_6 = Data_6.drop(Data_6[Data_6.emd_nm == '우도면'].index)\n",
    "Data_6 = Data_6.drop(Data_6[Data_6.emd_nm == '추자면'].index)\n",
    "Data_6['use_mean'] = Data_6['use_amt']/Data_6['use_cnt']\n",
    "base = Data_6.groupby(['base_date','emd_nm']).mean().reset_index()\n",
    "base.columns = ['일자','읍면동','일지출횟수합계','소비액합계','회당지출액합계']\n",
    "print(base.shape[0])\n",
    "\n",
    "# 2. 내국인유동인구 데이터\n",
    "Data_2 = Data_2.drop(Data_2[Data_2.emd_nm == '우도면'].index)\n",
    "Data_2 = Data_2.drop(Data_2[Data_2.emd_nm == '추자면'].index)\n",
    "temp = Data_2.groupby(['base_date','emd_nm','sex']).sum().reset_index()\n",
    "temp = temp.drop(['emd_cd','time','age'], axis=1)\n",
    "sex = ['남성','여성']\n",
    "temp_x = temp.groupby(['base_date', 'sex']).mean().reset_index()\n",
    "temp_x = temp_x.insert(1, 'emd_nm', '알수없음')\n",
    "temp = pd.concat([temp, temp_x])\n",
    "for i in sex:\n",
    "    issex = temp.sex == i\n",
    "    temp_n = temp[issex]\n",
    "    temp_n.columns = ['일자','읍면동','성별',f'{i}_거주평균',f'{i}_근무평균',f'{i}_방문평균']\n",
    "    temp_n = temp_n.drop(['성별'],axis=1)\n",
    "    base = pd.merge(base, temp_n, how='left')\n",
    "print(base.shape[0])\n",
    "\n",
    "\n",
    "# 3. 장기체류 외국인 유동인구\n",
    "Data_3 = Data_3.drop(Data_3[Data_3.emd_nm == '우도면'].index)\n",
    "Data_3 = Data_3.drop(Data_3[Data_3.emd_nm == '추자면'].index)\n",
    "temp = Data_3.groupby(['base_date','emd_nm']).sum().reset_index()\n",
    "temp = temp.drop(['emd_cd','time'],axis=1)\n",
    "temp_x = temp.groupby(['base_date']).mean().reset_index()\n",
    "temp_x = temp_x.insert(1, 'emd_nm', '알수없음')\n",
    "temp = pd.concat([temp, temp_x])\n",
    "temp.columns = ['일자', '읍면동', '장외_거주평균','장외_근무평균','장외_방문평균']\n",
    "base = pd.merge(base, temp, how='left')\n",
    "print(base.shape[0])\n",
    "\n",
    "\n",
    "# 4. 단기체류 외국인 유동인구    \n",
    "Data_4 = Data_4.drop(Data_4[Data_4.emd_nm == '우도면'].index)\n",
    "Data_4 = Data_4.drop(Data_4[Data_4.emd_nm == '추자면'].index)\n",
    "temp = Data_4.groupby(['base_date','emd_nm']).sum().reset_index()\n",
    "temp = temp.drop(['emd_cd','time'],axis=1)\n",
    "temp_x = temp.groupby(['base_date']).mean().reset_index()\n",
    "temp_x = temp_x.insert(1, 'emd_nm', '알수없음')\n",
    "temp = pd.concat([temp, temp_x])\n",
    "temp.columns = ['일자','읍면동', '단외_방문평균']\n",
    "base = pd.merge(base, temp, how='left')\n",
    "print(base.shape[0])\n",
    "\n",
    "\n",
    "# 5. 거주인구\n",
    "a_0 = pd.read_csv('../data/processed_data/여성_거주인구.csv', encoding='cp949')\n",
    "a_1 = pd.read_csv('../data/processed_data/남성_거주인구.csv', encoding='cp949')\n",
    "a_2 = pd.read_csv('../data/processed_data/총_거주인구.csv', encoding='cp949')\n",
    "base = pd.merge(base, a_0, how='left')\n",
    "base = pd.merge(base, a_1, how='left')\n",
    "base = pd.merge(base, a_2, how='left')\n",
    "print(base.shape[0])\n",
    "\n",
    "# 6. 기상데이터 합치기\n",
    "base = pd.merge(base, kisang, how='left')\n",
    "print(base.shape[0])\n",
    "\n",
    "\n",
    "# 7. 코로나 전후, 코로나 발생인원\n",
    "covid = pd.read_csv('../data/processed_data/코로나.csv', encoding='cp949')\n",
    "covid = covid.drop([447]) ## 2020년 4월 10일 데이터가 두개 행 존재\n",
    "covid['일자'] = covid.일자.apply(lambda x: x.split(' ')[0])\n",
    "base = pd.merge(base, covid, on ='일자', how='left')\n",
    "base['코로나발생여부'] = base['확진자수'].apply(lambda x: 0 if math.isnan(x) else 1)\n",
    "print(base.shape[0])\n",
    "\n",
    "\n",
    "# 8. 일평균 제주도 입도객 수\n",
    "people_come = pd.read_csv('../data/processed_data/일평균입도객평균.csv', encoding='cp949')\n",
    "base = pd.merge(base, people_come, how='left')\n",
    "print(base.shape[0])\n",
    "\n",
    "\n",
    "# 9. 음식물 쓰레기 데이터\n",
    "temp = Data_1.groupby(['base_date','emd_nm']).sum().reset_index()\n",
    "temp.columns = ['일자', '읍면동', '일배출횟수합계', '일배출금액합계', '일별배출량합계']\n",
    "base = pd.merge(base, temp, how='left')\n",
    "print(base.shape[0])\n",
    "\n",
    "# 10. 요일변수, 공휴일여부\n",
    "base['요일변환_임시'] = pd.to_datetime(base['일자'])\n",
    "base['요일'] = base['요일변환_임시'].apply(lambda x: x.dayofweek)\n",
    "base['월'] = base['요일변환_임시'].apply(lambda x: x.month)\n",
    "base['주말여부'] = base['요일'].apply(lambda x: 1 if x in [5,6] else 0)\n",
    "base['공휴일여부'] = base['일자'].apply(lambda x: 1 if x in holiday else 0)\n",
    "base['요일변환_임시'] = pd.to_datetime(base['일자'])\n",
    "base['주말및공휴일여부_임시'] = base['주말여부'] + base['공휴일여부']\n",
    "base['주말및공휴일여부'] = base['주말및공휴일여부_임시'].apply(lambda x: 1 if  x>=1 else 0)\n",
    "base = base.drop(columns = ['요일변환_임시','주말여부', '공휴일여부','주말및공휴일여부_임시'])\n",
    "print(base.shape[0])\n",
    "\n",
    "# 11. 성수기/비수기\n",
    "base['성수기여부'] = base['월'].apply(lambda x: 1 if x in [1,2,7,8] else 0)\n",
    "print(base.shape[0])\n",
    "\n",
    "# 12. 카드소비 -> 일별내식소비합계, 일별배달소비합계, 일별외식소비합계\n",
    "a = Data_6.query(\"mct_cat_nm in ['농축수산물', '마트/슈퍼마켓', '식품']\")\n",
    "temp = a.groupby(['base_date','emd_nm'])['use_amt'].sum().reset_index()\n",
    "temp.columns = ['일자', '읍면동', '일별내식소비합계']\n",
    "base = pd.merge(base, temp, how='left')\n",
    "a = Data_6.query(\"mct_cat_nm in ['배달']\")\n",
    "temp = a.groupby(['base_date','emd_nm'])['use_amt'].sum().reset_index()\n",
    "temp.columns = ['일자', '읍면동', '일별배달소비합계']\n",
    "base = pd.merge(base, temp, how='left')\n",
    "a = Data_6.query(\"mct_cat_nm in ['한식', '패스트푸드', '주점및주류판매', '양식', '간식', '부페','아시아음식']\")\n",
    "temp = a.groupby(['base_date','emd_nm'])['use_amt'].sum().reset_index()\n",
    "temp.columns = ['일자', '읍면동', '일별외식소비합계']\n",
    "base = pd.merge(base, temp, how='left')\n",
    "print(base.shape[0])\n",
    "\n",
    "# 13. 기타 다른 피쳐(새로운파생변수생성.ipynb)\n",
    "new_temp = pd.read_csv('../data/processed_data/new_feature.csv', encoding='cp949')\n",
    "base = pd.merge(base, new_temp, how='left')\n",
    "print(base.shape[0])\n"
   ]
  },
  {
   "cell_type": "code",
   "execution_count": 64,
   "metadata": {},
   "outputs": [],
   "source": [
    "non_0 = ['회당배출금액','일배출횟수합계','일배출금액합계','일별배출량합계','회당배출량']"
   ]
  },
  {
   "cell_type": "code",
   "execution_count": 65,
   "metadata": {},
   "outputs": [],
   "source": [
    "whole_list = list(base.columns)"
   ]
  },
  {
   "cell_type": "code",
   "execution_count": 66,
   "metadata": {},
   "outputs": [],
   "source": [
    "yes_0 = list(set(set(whole_list)-set(non_0)))"
   ]
  },
  {
   "cell_type": "code",
   "execution_count": 67,
   "metadata": {},
   "outputs": [],
   "source": [
    "non_0_df = base[non_0]"
   ]
  },
  {
   "cell_type": "code",
   "execution_count": 68,
   "metadata": {},
   "outputs": [],
   "source": [
    "yes_0_df = base[yes_0]"
   ]
  },
  {
   "cell_type": "code",
   "execution_count": 69,
   "metadata": {},
   "outputs": [],
   "source": [
    "yes_0_df = yes_0_df.fillna(0)"
   ]
  },
  {
   "cell_type": "code",
   "execution_count": 70,
   "metadata": {},
   "outputs": [],
   "source": [
    "real_final_fillna = pd.concat([yes_0_df,non_0_df],axis=1)"
   ]
  },
  {
   "cell_type": "code",
   "execution_count": 71,
   "metadata": {},
   "outputs": [],
   "source": [
    "## 회귀용 데이터 생성\n",
    "regression = real_final_fillna.dropna(axis=0).reset_index(drop=True)\n",
    "regression.to_csv('../data/processed_data/regression.csv', index=False, encoding='cp949')"
   ]
  },
  {
   "cell_type": "code",
   "execution_count": 56,
   "metadata": {},
   "outputs": [],
   "source": [
    "## 모델링용 데이터 생성\n",
    "modeling = real_final_fillna.fillna(real_final_fillna.mean())\n",
    "modeling.to_csv('../data/processed_data/modeling.csv', index=False, encoding='cp949')"
   ]
  }
 ],
 "metadata": {
  "kernelspec": {
   "display_name": "Python 3",
   "language": "python",
   "name": "python3"
  },
  "language_info": {
   "codemirror_mode": {
    "name": "ipython",
    "version": 3
   },
   "file_extension": ".py",
   "mimetype": "text/x-python",
   "name": "python",
   "nbconvert_exporter": "python",
   "pygments_lexer": "ipython3",
   "version": "3.7.9"
  }
 },
 "nbformat": 4,
 "nbformat_minor": 4
}
