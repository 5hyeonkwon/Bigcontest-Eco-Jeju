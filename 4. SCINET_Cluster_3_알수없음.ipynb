{
 "cells": [
  {
   "cell_type": "code",
   "execution_count": 1,
   "metadata": {},
   "outputs": [],
   "source": [
    "# Library\n",
    "import pandas as pd\n",
    "import matplotlib.pyplot as plt\n",
    "import numpy as np\n",
    "import imageio\n",
    "from PIL import Image\n",
    "import matplotlib.image as mpimg\n",
    "from typing import Tuple\n",
    "import os\n",
    "import random\n",
    "import math\n",
    "import pandas as pd\n",
    "import numpy as np\n",
    "import tensorflow as tf\n",
    "from joblib import dump, load\n",
    "from collections import namedtuple\n",
    "from sklearn.preprocessing import MinMaxScaler, RobustScaler, StandardScaler\n",
    "import seaborn as sns\n",
    "\n",
    "from tensorflow.keras import optimizers\n",
    "from tensorflow.keras.models import Sequential, load_model\n",
    "from tensorflow.keras.layers import LSTM, Dense, Dropout, Masking\n",
    "from tensorflow.keras.regularizers import L1L2\n",
    "from tensorflow.keras.callbacks import EarlyStopping\n",
    "from tensorflow.keras.metrics import RootMeanSquaredError, MeanAbsoluteError\n",
    "from tensorflow.keras.callbacks import Callback\n",
    "\n",
    "from sklearn.base import TransformerMixin\n",
    "from sklearn.impute import SimpleImputer"
   ]
  },
  {
   "cell_type": "code",
   "execution_count": 2,
   "metadata": {},
   "outputs": [
    {
     "name": "stdout",
     "output_type": "stream",
     "text": [
      "1 Physical GPUs, 1 Logical GPUs\n"
     ]
    }
   ],
   "source": [
    "# GPU 할당량 조정\n",
    "gpus = tf.config.experimental.list_physical_devices('GPU')\n",
    "if gpus:\n",
    "  # Restrict TensorFlow to only allocate 1GB of memory on the first GPU\n",
    "  try:\n",
    "    tf.config.experimental.set_virtual_device_configuration(\n",
    "        gpus[0],\n",
    "        [tf.config.experimental.VirtualDeviceConfiguration(memory_limit=1024*3.5)]) # 1660super 총 vram 6gb 중 5.5gb 할당\n",
    "    logical_gpus = tf.config.experimental.list_logical_devices('GPU')\n",
    "    print(len(gpus), \"Physical GPUs,\", len(logical_gpus), \"Logical GPUs\")\n",
    "  except RuntimeError as e:\n",
    "    # Virtual devices must be set before GPUs have been initialized\n",
    "    print(e)"
   ]
  },
  {
   "cell_type": "code",
   "execution_count": 3,
   "metadata": {
    "id": "Q9I9IsMAqZxX"
   },
   "outputs": [],
   "source": [
    "class InnerConv1DBlock(tf.keras.layers.Layer):\n",
    "    def __init__(self, filters: int, h: int, kernel_size: int, neg_slope: float = .01, dropout: float = .5,\n",
    "                 name: str = ''):\n",
    "        super(InnerConv1DBlock, self).__init__(name=name)\n",
    "        self.conv1d = tf.keras.layers.Conv1D(h * filters, kernel_size, padding='same')\n",
    "        self.leakyrelu = tf.keras.layers.LeakyReLU(neg_slope)\n",
    "\n",
    "        self.dropout = tf.keras.layers.Dropout(dropout)\n",
    "\n",
    "        self.conv1d2 = tf.keras.layers.Conv1D(filters, kernel_size, padding='same')\n",
    "        self.tanh = tf.keras.activations.tanh\n",
    "\n",
    "    def call(self, input_tensor):\n",
    "        x = self.conv1d(input_tensor)\n",
    "        x = self.leakyrelu(x)\n",
    "\n",
    "        x = self.dropout(x)\n",
    "\n",
    "        x = self.conv1d2(x)\n",
    "        x = self.tanh(x)\n",
    "        return x\n",
    "\n",
    "\n",
    "class Exp(tf.keras.layers.Layer):\n",
    "    def __init__(self, **kwargs):\n",
    "        super(Exp, self).__init__(**kwargs)\n",
    "\n",
    "    def call(self, inputs):\n",
    "        return tf.math.exp(inputs)\n",
    "\n",
    "\n",
    "class Split(tf.keras.layers.Layer):\n",
    "    def __init__(self, **kwargs):\n",
    "        super(Split, self).__init__(**kwargs)\n",
    "\n",
    "    def call(self, inputs):\n",
    "        return inputs[:, ::2], inputs[:, 1::2]\n",
    "\n",
    "class Attention(tf.keras.layers.Layer):\n",
    "\n",
    "    def __init__(self, units=64, shape = (1,1,1), **kwargs):\n",
    "        super(Attention, self).__init__(**kwargs)\n",
    "        self.units = units\n",
    "        self.dense1 = tf.keras.layers.Dense(units=shape[2], use_bias = False, name='attention_score_vec')\n",
    "        self.lambda_ = tf.keras.layers.Lambda(lambda x : x[:,-1,:], output_shape=(shape[2],),name='last_hidden_state')\n",
    "        # x.mean(axis = 1) - image attention, \n",
    "        self.dot1 = tf.keras.layers.Dot(axes=[1, 2], name='attention_score')\n",
    "        self.activation = tf.keras.layers.Activation('softmax', name='attention_weight')\n",
    "        self.dot2 =  tf.keras.layers.Dot(axes=[1, 1], name='context_vector')\n",
    "        self.concat =  tf.keras.layers.Concatenate(name='attention_output')\n",
    "        self.dense2 = tf.keras.layers.Dense(self.units, use_bias=False, activation='tanh', name='attention_vector')\n",
    "        self.attention_weight = []\n",
    "\n",
    "    def call(self, inputs):\n",
    "\n",
    "        hidden_states = inputs\n",
    "\n",
    "        score_first_part = self.dense1(hidden_states)\n",
    "        #            score_first_part           dot        last_hidden_state     => attention_weights\n",
    "        # (batch_size, time_steps, hidden_size) dot   (batch_size, hidden_size)  => (batch_size, time_steps)\n",
    "        h_t = self.lambda_(hidden_states)\n",
    "        score =self.dot1([h_t, score_first_part]) # batch, time_stamps\n",
    "        self.attention_weight = score # batch , time_stamps\n",
    "        attention_weights = self.activation(score)\n",
    "        # (batch_size, time_steps, hidden_size) dot (batch_size, time_steps) => (batch_size, hidden_size)\n",
    "        context_vector = self.dot2([hidden_states, attention_weights]) # batch_size, n_features\n",
    "        pre_activation = self.concat([context_vector, h_t])\n",
    "        attention_vector =self.dense2(pre_activation)\n",
    "        return attention_vector, context_vector\n",
    "\n",
    "    def get_config(self):\n",
    "        return {'Attention_weights': self.attention_weight}\n",
    "\n",
    "\n",
    "\n",
    "class SciBlock(tf.keras.layers.Layer):\n",
    "    def __init__(self, kernel_size: int, h: int):\n",
    "        super(SciBlock, self).__init__()\n",
    "        self.kernel_size = kernel_size\n",
    "        self.h = h\n",
    "\n",
    "        self.split = Split()\n",
    "        self.exp = Exp()\n",
    "\n",
    "    def build(self, input_shape):\n",
    "        _, _, filters = input_shape\n",
    "\n",
    "        self.psi = InnerConv1DBlock(filters, self.h, self.kernel_size, name='psi')\n",
    "        self.phi = InnerConv1DBlock(filters, self.h, self.kernel_size, name='phi')\n",
    "        self.eta = InnerConv1DBlock(filters, self.h, self.kernel_size, name='eta')\n",
    "        self.rho = InnerConv1DBlock(filters, self.h, self.kernel_size, name='rho')\n",
    "\n",
    "    def call(self, input_tensor):\n",
    "        F_odd, F_even = self.split(input_tensor)\n",
    "\n",
    "        F_s_odd = F_odd * self.exp(self.phi(F_even))\n",
    "        F_s_even = F_even * self.exp(self.psi(F_s_odd))\n",
    "\n",
    "        F_prime_odd = F_s_odd + self.rho(F_s_even)\n",
    "        F_prime_even = F_s_even - self.eta(F_s_odd)\n",
    "\n",
    "        return F_prime_odd, F_prime_even\n",
    "\n",
    "\n",
    "class Interleave(tf.keras.layers.Layer):\n",
    "    def __init__(self):\n",
    "        super(Interleave, self).__init__()\n",
    "\n",
    "    def interleave(self, slices):\n",
    "        if not slices:\n",
    "            return slices\n",
    "        elif len(slices) == 1:\n",
    "            return slices[0]\n",
    "\n",
    "        mid = len(slices) // 2\n",
    "\n",
    "        even = self.interleave(slices[:mid])\n",
    "        odd = self.interleave(slices[mid:])\n",
    "\n",
    "        shape = tf.shape(even)\n",
    "        return tf.reshape(tf.stack([even, odd], axis=3), (shape[0], shape[1]*2, shape[2]))\n",
    "\n",
    "    def call(self, inputs):\n",
    "        return self.interleave(inputs)\n",
    "\n",
    "\n",
    "class SciNet(tf.keras.layers.Layer):\n",
    "    def __init__(self, output_length: int, level: int, h: int, kernel_size: int,\n",
    "                 regularizer: Tuple[float, float] = (0, 0), shape : Tuple[float, float, float] = (0, 0, 0)):\n",
    "        super(SciNet, self).__init__()\n",
    "        self.level = level\n",
    "        self.h = h\n",
    "        self.kernel_size = kernel_size\n",
    "        self.max_nodes = 2 ** (level + 1) - 1\n",
    "\n",
    "        self.sciblocks = [SciBlock(kernel_size, h) for _ in range(self.max_nodes)]\n",
    "        self.interleave = Interleave()\n",
    "        self.Attention = Attention(shape=shape)\n",
    "        self.flatten = tf.keras.layers.Flatten()\n",
    "        # self.dense1 = tf.keras.layers.Dense(100, kernel_regularizer=L1L2(0.001, 0.01))\n",
    "        self.dense = tf.keras.layers.Dense(output_length, kernel_regularizer=L1L2(0.001, 0.01))\n",
    "        self.regularizer = tf.keras.layers.ActivityRegularization(l1=regularizer[0], l2=regularizer[1])\n",
    "\n",
    "    def build(self, input_shape):\n",
    "        assert input_shape[1] / 2 ** 1 % 1 == 0  # inputs must be evenly divided at the lowest level of the tree\n",
    "        [layer.build(input_shape) for layer in self.sciblocks]\n",
    "    @tf.function\n",
    "    def call(self, input_tensor):\n",
    "        # cascade input down a binary tree of sci-blocks\n",
    "        inputs = [input_tensor]\n",
    "        for i in range(self.level):\n",
    "            i_end = 2 ** (i + 1) - 1\n",
    "            i_start = i_end - 2 ** i\n",
    "            outputs = [out for j, tensor in zip(range(i_start, i_end), inputs) for out in self.sciblocks[j](tensor)]\n",
    "            inputs = outputs\n",
    "\n",
    "        x = self.interleave(outputs)\n",
    "        x += input_tensor\n",
    "\n",
    "        x, attention_weights = self.Attention(x)\n",
    "        # x = self.dense1(x)\n",
    "        x = self.dense(x)\n",
    "\n",
    "        # x = self.regularizer(x)\n",
    "        return x, attention_weights\n",
    "\n",
    "    def get_config(self):\n",
    "        return {'Attention_layer': self.Attention}"
   ]
  },
  {
   "cell_type": "code",
   "execution_count": 4,
   "metadata": {},
   "outputs": [],
   "source": [
    "class VisualizeAttentionMap(Callback):\n",
    "    \n",
    "    def __init__(self, model, x, weights):\n",
    "\n",
    "        super().__init__()\n",
    "        self.model = model\n",
    "        self.x = x\n",
    "        self.weights = weights\n",
    "        self.activation = tf.keras.layers.Activation('softmax')\n",
    "\n",
    "    def on_epoch_begin(self, epoch, logs=None):\n",
    "        #input_ = self.model._feed_inputs[0]\n",
    "        #output = self.activation(input)\n",
    "        #test = tf.keras.models.Model(inputs= input, outputs = output)\n",
    "        #x = test(self.x)\n",
    "        #attention_map = tf.matmul(self.weights,x).numpy()\n",
    "        #test.layers[1].set_weights(weights = self.weights)\n",
    "        #test.layers[1]  = test.layers[1].output.from_tensor(tensor =tf.nn.softmax(self.weights))\n",
    "        #attention_map = test(self.x).numpy()\n",
    "        attention_map = tf.nn.softmax(tf.math.divide(self.weights,3), axis = 1) # softmax smoothing\n",
    "        \n",
    "        #x = self.x[..., 0]\n",
    "        if epoch % 10 == 0 :\n",
    "            plt.figure(figsize= (10,5))\n",
    "            maps = [attention_map]\n",
    "            maps_names = ['attention layer']\n",
    "            plt.imshow(maps[0], cmap='jet')\n",
    "            plt.show()\n",
    "\n",
    "        return attention_map\n",
    "\n",
    "\n",
    "def softmax_with_temperature(z, T) : \n",
    "    z = np.array(z)\n",
    "    z = z / T \n",
    "    max_z = np.max(z, axi) \n",
    "    exp_z = np.exp(z-max_z) \n",
    "    sum_exp_z = np.sum(exp_z)\n",
    "    y = exp_z / sum_exp_z\n",
    "    return y\n",
    "\n",
    "\n",
    "def create_argmax_mask(x):\n",
    "    mask = np.zeros_like(x)\n",
    "    for i, m in enumerate(x.argmax(axis=1)):\n",
    "        mask[i, m] = 1\n",
    "    return mask"
   ]
  },
  {
   "cell_type": "code",
   "execution_count": 5,
   "metadata": {
    "id": "6Imt11Qyth7y"
   },
   "outputs": [],
   "source": [
    "def split_sequence(sequence, look_back_window: int, forecast_horizon: int, stride: int = 1):\n",
    "    X, y = [], []\n",
    "    for i in range(0, len(sequence), stride):\n",
    "        # find the end x and y\n",
    "        end_ix = i + look_back_window\n",
    "        end_iy = end_ix + forecast_horizon\n",
    "\n",
    "        # check if there is enough elements to fill this x, y pair\n",
    "        if end_iy > len(sequence):\n",
    "            break\n",
    "\n",
    "        X.append(sequence[i:end_ix])\n",
    "        y.append(sequence[end_iy - 1 if forecast_horizon == 1 else end_ix:end_iy])\n",
    "    return np.asarray(X), np.asarray(y)\n",
    "\n",
    "\n",
    "class StocksImputer(TransformerMixin):\n",
    "    def __init__(self, method: str = 'linear', fail_save: TransformerMixin = SimpleImputer()):\n",
    "        self.method = method\n",
    "        self.fail_save = fail_save\n",
    "\n",
    "    def fit(self, data):\n",
    "        if self.fail_save:\n",
    "            self.fail_save.fit(data)\n",
    "        return self\n",
    "\n",
    "    def transform(self, data):\n",
    "        # Interpolate missing values in columns\n",
    "        if not isinstance(data, pd.DataFrame):\n",
    "            data = pd.DataFrame(data)\n",
    "        data = data.interpolate(method=self.method, limit_direction='both')\n",
    "        # spline or time may be better?\n",
    "\n",
    "        if self.fail_save:\n",
    "            data = self.fail_save.transform(data)\n",
    "\n",
    "        return data\n",
    "\n",
    "\n",
    "def difference(dataset, interval=1, relative=False, min_price=1e-04):\n",
    "    delta = []\n",
    "    for i in range(interval, len(dataset)):\n",
    "        value = dataset[i] - dataset[i - interval]\n",
    "        if relative:\n",
    "            prev_price = dataset[i - interval]\n",
    "            prev_price[prev_price == 0] = min_price\n",
    "            value /= prev_price\n",
    "        delta.append(value)\n",
    "    return np.asarray(delta)\n",
    "\n",
    "\n",
    "class ARIMAPreprocessor(TransformerMixin):\n",
    "    def __init__(self, y_col: str, look_back_window: int, forecast_horizon: int, stride: int, diff_order: int,\n",
    "                 relative_diff: bool = True, splitXy: bool = True, scaling: str = 'minmax'):\n",
    "        super().__init__()\n",
    "        assert look_back_window > 0 and forecast_horizon > 0 and stride > 0\n",
    "\n",
    "        self.y_col = y_col\n",
    "        self.y_idx = None\n",
    "        self.look_back_window = look_back_window\n",
    "        self.forecast_horizon = forecast_horizon\n",
    "        self.stride = stride\n",
    "        self.diff_order = diff_order\n",
    "        self.relative_diff = relative_diff\n",
    "        self.splitXy = splitXy\n",
    "        self.interpolation_imputer = StocksImputer(method='linear')\n",
    "\n",
    "        if scaling == 'minmax':\n",
    "            self.scaler = MinMaxScaler()\n",
    "            self.y_scaler = MinMaxScaler()\n",
    "        elif scaling == 'standard':\n",
    "            self.scaler = StandardScaler()\n",
    "            self.y_scaler = StandardScaler()\n",
    "        elif scaling == 'robust':\n",
    "            self.scaler = RobustScaler()\n",
    "            self.y_scaler = RobustScaler()\n",
    "\n",
    "    def fit_transform(self, data, **fit_params):\n",
    "        self.y_idx = list(data.columns).index(self.y_col)\n",
    "\n",
    "        # Fill missing values via interpolation\n",
    "        data = self.interpolation_imputer.fit_transform(data)\n",
    "\n",
    "        # Differencing\n",
    "        diff = np.array(data)\n",
    "        for d in range(1, self.diff_order + 1):\n",
    "            diff = difference(diff, relative=self.relative_diff)\n",
    "            data = np.append(data, np.pad(diff, pad_width=((d, 0), (0, 0))), axis=1)\n",
    "        if self.diff_order > 0:\n",
    "            data = data[:, diff.shape[1]:]\n",
    "\n",
    "        # Scale\n",
    "        # if self.diff_order < 1:\n",
    "        self.y_scaler.fit(data[:, self.y_idx].reshape(-1, 1))  # for reversing scaling post prediction\n",
    "        data = self.scaler.fit_transform(data)\n",
    "\n",
    "        if not self.splitXy:\n",
    "            return data\n",
    "\n",
    "        # Extract X, y from time series\n",
    "        X, y = split_sequence(data, self.look_back_window, self.forecast_horizon, self.stride)\n",
    "        y = y[:, :, self.y_idx]\n",
    "\n",
    "        return X, y, self.scaler\n",
    "\n",
    "    def transform(self, data):\n",
    "        # Fill missing values via interpolation\n",
    "        data = self.interpolation_imputer.transform(data)\n",
    "\n",
    "        # Differencing\n",
    "        diff = np.array(data)\n",
    "        for d in range(1, self.diff_order + 1):\n",
    "            diff = difference(diff, relative=self.relative_diff)\n",
    "            data = np.append(data, np.pad(diff, pad_width=((d, 0), (0, 0))), axis=1)\n",
    "        if self.diff_order > 0:\n",
    "            data = data[:, diff.shape[1]:]\n",
    "\n",
    "        # Scale\n",
    "        # if self.diff_order < 1:\n",
    "        data = self.scaler.transform(data)\n",
    "\n",
    "        if not self.splitXy:\n",
    "            return data\n",
    "\n",
    "        # Extract X, y\n",
    "        X, y = split_sequence(data, self.look_back_window, self.forecast_horizon, self.stride)\n",
    "        y = y[:, :, self.y_idx]\n",
    "\n",
    "        return X, y"
   ]
  },
  {
   "cell_type": "code",
   "execution_count": 6,
   "metadata": {},
   "outputs": [],
   "source": [
    "# Make model\n",
    "def make_model(batch, time_stamps, n_features):\n",
    "    x = tf.keras.Input(shape=(time_stamps, n_features))\n",
    "    y = SciNet(forecast_horizon, level, h, kernel_size, regularizer=(0.001, 0.01), shape =(batch, time_stamps, n_features))(x)\n",
    "    model = tf.keras.Model(x, y)\n",
    "\n",
    "    model.summary()\n",
    "    tf.keras.utils.plot_model(model, to_file='modelDiagram.png', show_shapes=True)\n",
    "\n",
    "    model.compile(optimizer=tf.keras.optimizers.Adam(learning_rate=learning_rate), loss='mse',\n",
    "                  metrics=['mean_squared_error', 'mean_absolute_error'])\n",
    "    return model\n",
    "\n",
    "def make_model_2(batch, time_stamps, n_features):\n",
    "    x = tf.keras.Input(shape=(time_stamps, n_features))\n",
    "    y = SciNet(forecast_horizon, level, h, kernel_size, regularizer=(0.001, 0.01), shape =(batch, time_stamps, n_features))(x)\n",
    "    model = tf.keras.Model(x, y)\n",
    "\n",
    "    model.summary()\n",
    "    #tf.keras.utils.plot_model(model, to_file='modelDiagram.png', show_shapes=True)\n",
    "\n",
    "    #model.compile(optimizer=tf.keras.optimizers.Adam(learning_rate=learning_rate), loss='mse',\n",
    "    #             metrics=['mean_squared_error', 'mean_absolute_error'])\n",
    "    return model"
   ]
  },
  {
   "cell_type": "code",
   "execution_count": 18,
   "metadata": {},
   "outputs": [],
   "source": [
    "# Hyper Parametres\n",
    "y_col = '일별배출량합계'\n",
    "index_col = '일자'\n",
    "cluster_num = 3\n",
    "\n",
    "data = pd.read_csv(f'../data/processed_data/클러스터_{cluster_num}_최종피쳐.csv', encoding = 'cp949')\n",
    "data = data[data['읍면동'] == '알수없음']\n",
    "data = data[['회당배출량', '일배출금액합계', '회당배출금액', '일배출횟수합계', '일별배출량합계']]\n",
    "\n",
    "EPOCHS = 100\n",
    "\n",
    "degree_of_differencing = 0\n",
    "look_back_window, forecast_horizon = 60*2, 62 #전에 몇개의 데이터 참조, 후에 몇개 예측\n",
    "batch_size = 64\n",
    "learning_rate = 9e-5\n",
    "h, kernel_size, level = 4, 5, 3\n",
    "#stride = look_back_window + forecast_horizon  # unsure if any value lower than this would cause data leak\n",
    "\n",
    "#data = data.sort_values(by = ['일자','읍면동'])\n",
    "#data['일자'] = pd.to_datetime(data['일자'])\n",
    "#data = data.set_index(keys = '일자')\n",
    "\n",
    "#train_data = data[:int(0.6 * len(data))]\n",
    "#val_data = data[int(0.6 * len(data)):int(0.8 * len(data))]\n",
    "#test_data = data[int(0.8 * len(data)):]"
   ]
  },
  {
   "cell_type": "code",
   "execution_count": 19,
   "metadata": {},
   "outputs": [],
   "source": [
    "train = data[:-look_back_window]\n",
    "final_test_data = data[-look_back_window:]"
   ]
  },
  {
   "cell_type": "code",
   "execution_count": 21,
   "metadata": {},
   "outputs": [],
   "source": [
    "train_data = train[:int(0.8 * (len(train) - (look_back_window + forecast_horizon)))]\n",
    "val_data = train[int(0.8 * (len(train) - (look_back_window + forecast_horizon))):-look_back_window + forecast_horizon]\n",
    "test_data = train[-(look_back_window + forecast_horizon):]"
   ]
  },
  {
   "cell_type": "code",
   "execution_count": 22,
   "metadata": {},
   "outputs": [
    {
     "data": {
      "text/plain": [
       "((780, 5), (319, 5), (182, 5))"
      ]
     },
     "execution_count": 22,
     "metadata": {},
     "output_type": "execute_result"
    }
   ],
   "source": [
    "train_data.shape, val_data.shape, test_data.shape"
   ]
  },
  {
   "cell_type": "code",
   "execution_count": 23,
   "metadata": {},
   "outputs": [
    {
     "data": {
      "text/plain": [
       "182"
      ]
     },
     "execution_count": 23,
     "metadata": {},
     "output_type": "execute_result"
    }
   ],
   "source": [
    "look_back_window + forecast_horizon"
   ]
  },
  {
   "cell_type": "code",
   "execution_count": 24,
   "metadata": {
    "colab": {
     "base_uri": "https://localhost:8080/"
    },
    "id": "6Mg2kw8aybeH",
    "outputId": "1b961813-22fc-4289-dda9-939fc2b7b10a",
    "scrolled": false
   },
   "outputs": [
    {
     "name": "stdout",
     "output_type": "stream",
     "text": [
      "Input shape: X(599, 120, 5), y(599, 62)\n"
     ]
    }
   ],
   "source": [
    "# Load and preprocess data\n",
    "#data = data.set_index(keys = 'base_date')\n",
    "#data = data.query('emd_nm == 24')\n",
    "\n",
    "#train_data = data[:int(0.6 * len(data))]\n",
    "#val_data = data[int(0.6 * len(data)):int(0.8 * len(data))]\n",
    "#test_data = data[int(0.8 * len(data)):]\n",
    "\n",
    "# Train model\n",
    "preprocessor = ARIMAPreprocessor(y_col, look_back_window, forecast_horizon, 1, degree_of_differencing,\n",
    "                                  relative_diff=True, scaling='standard')\n",
    "X_train, y_train, scaler = preprocessor.fit_transform(train_data)\n",
    "X_val, y_val = preprocessor.transform(val_data)\n",
    "print(f'Input shape: X{X_train.shape}, y{y_train.shape}')"
   ]
  },
  {
   "cell_type": "code",
   "execution_count": 25,
   "metadata": {
    "colab": {
     "base_uri": "https://localhost:8080/"
    },
    "id": "axahqhiGL9rO",
    "outputId": "c82fb05e-b4eb-4b3b-c14d-bde4d27e15e3"
   },
   "outputs": [
    {
     "name": "stdout",
     "output_type": "stream",
     "text": [
      "Model: \"model\"\n",
      "_________________________________________________________________\n",
      "Layer (type)                 Output Shape              Param #   \n",
      "=================================================================\n",
      "input_1 (InputLayer)         [(None, 120, 5)]          0         \n",
      "_________________________________________________________________\n",
      "sci_net (SciNet)             ((None, 62), (None, 5))   33395     \n",
      "=================================================================\n",
      "Total params: 33,395\n",
      "Trainable params: 33,395\n",
      "Non-trainable params: 0\n",
      "_________________________________________________________________\n"
     ]
    }
   ],
   "source": [
    "model = make_model_2(batch_size, X_train.shape[1], X_train.shape[2])"
   ]
  },
  {
   "cell_type": "code",
   "execution_count": 26,
   "metadata": {
    "id": "euBRdcS6Ml9D"
   },
   "outputs": [],
   "source": [
    "loss_function = tf.keras.losses.MeanSquaredError()\n",
    "optimizer = tf.keras.optimizers.Adam(learning_rate=learning_rate)\n",
    "\n",
    "train_loss = tf.keras.metrics.Mean()\n",
    "\n",
    "val_loss = tf.keras.metrics.Mean()\n",
    "\n",
    "train_loss_list = []\n",
    "val_loss_list = []\n",
    "\n",
    "\n",
    "def train_function(train_X, train_y):\n",
    "    with tf.GradientTape() as tape:\n",
    "     \n",
    "        predictions, attention_weights = model(train_X)\n",
    "       \n",
    "        loss = loss_function(train_y, predictions)\n",
    "\n",
    "    gradients = tape.gradient(loss, model.trainable_variables)\n",
    "    optimizer.apply_gradients(zip(gradients, model.trainable_variables))\n",
    "    train_loss(loss)\n",
    "    mse = tf.keras.metrics.mse(train_y, predictions)\n",
    "    mae = tf.keras.metrics.mae(train_y, predictions)\n",
    "\n",
    "    return loss, mse, mae, attention_weights\n",
    "\n",
    "def test_function(val_X, val_y):\n",
    "\n",
    "    predictions, _ = model(val_X)\n",
    " \n",
    "    loss = loss_function(val_y, predictions)\n",
    "\n",
    "    val_loss(loss)\n",
    "    mse = tf.keras.metrics.mse(val_y, predictions)\n",
    "    mae = tf.keras.metrics.mae(val_y, predictions)\n",
    "\n",
    "    return loss, mse, mae\n"
   ]
  },
  {
   "cell_type": "code",
   "execution_count": 28,
   "metadata": {
    "id": "Z0TEgkxnQmd_"
   },
   "outputs": [],
   "source": [
    "train_dataset = tf.data.Dataset.from_tensor_slices((X_train, y_train))\n",
    "train_dataset = train_dataset.batch(batch_size, drop_remainder=True)"
   ]
  },
  {
   "cell_type": "code",
   "execution_count": 29,
   "metadata": {
    "id": "pnutNS-5Rf6l"
   },
   "outputs": [],
   "source": [
    "val_dataset = tf.data.Dataset.from_tensor_slices((X_val, y_val))\n",
    "val_dataset = val_dataset.batch(batch_size)"
   ]
  },
  {
   "cell_type": "code",
   "execution_count": 56,
   "metadata": {
    "colab": {
     "base_uri": "https://localhost:8080/",
     "height": 1000
    },
    "id": "tyqpLCbVP0T1",
    "outputId": "2e92377f-79e3-4b6f-f20f-cde7a62fd30a",
    "scrolled": true
   },
   "outputs": [
    {
     "name": "stdout",
     "output_type": "stream",
     "text": [
      "폴더가 이미 존재\n"
     ]
    },
    {
     "data": {
      "image/png": "[encoded data removed]",
      "text/plain": [
       "<Figure size 720x360 with 1 Axes>"
      ]
     },
     "metadata": {
      "needs_background": "light"
     },
     "output_type": "display_data"
    },
    {
     "name": "stdout",
     "output_type": "stream",
     "text": [
      "epochs: 1/100, train loss : 0.56573 train mse: 0.34749 train mae: 0.44583  validation loss: 4.60511 validation mse : 4.87381 validation mae: 1.71091\n",
      "epochs: 2/100, train loss : 0.56366 train mse: 0.34698 train mae: 0.44542  validation loss: 4.60760 validation mse : 4.86651 validation mae: 1.70673\n",
      "epochs: 3/100, train loss : 0.56158 train mse: 0.34242 train mae: 0.44236  validation loss: 4.60986 validation mse : 4.84737 validation mae: 1.70149\n",
      "epochs: 4/100, train loss : 0.55952 train mse: 0.33972 train mae: 0.44050  validation loss: 4.61217 validation mse : 4.85727 validation mae: 1.70295\n",
      "epochs: 5/100, train loss : 0.55747 train mse: 0.33679 train mae: 0.43849  validation loss: 4.61459 validation mse : 4.87280 validation mae: 1.70878\n",
      "epochs: 6/100, train loss : 0.55543 train mse: 0.33380 train mae: 0.43645  validation loss: 4.61695 validation mse : 4.87213 validation mae: 1.70861\n",
      "epochs: 7/100, train loss : 0.55341 train mse: 0.33138 train mae: 0.43461  validation loss: 4.61935 validation mse : 4.88143 validation mae: 1.71280\n",
      "epochs: 8/100, train loss : 0.55141 train mse: 0.32979 train mae: 0.43343  validation loss: 4.62180 validation mse : 4.89039 validation mae: 1.71372\n",
      "epochs: 9/100, train loss : 0.54941 train mse: 0.32622 train mae: 0.43100  validation loss: 4.62428 validation mse : 4.90003 validation mae: 1.71793\n",
      "epochs: 10/100, train loss : 0.54743 train mse: 0.32426 train mae: 0.42945  validation loss: 4.62677 validation mse : 4.90534 validation mae: 1.71826\n"
     ]
    },
    {
     "data": {
      "image/png": "[encoded data removed]",
      "text/plain": [
       "<Figure size 720x360 with 1 Axes>"
      ]
     },
     "metadata": {
      "needs_background": "light"
     },
     "output_type": "display_data"
    },
    {
     "name": "stdout",
     "output_type": "stream",
     "text": [
      "epochs: 11/100, train loss : 0.54547 train mse: 0.32341 train mae: 0.42867  validation loss: 4.62920 validation mse : 4.90389 validation mae: 1.71457\n",
      "epochs: 12/100, train loss : 0.54352 train mse: 0.31955 train mae: 0.42608  validation loss: 4.63165 validation mse : 4.91122 validation mae: 1.71737\n",
      "epochs: 13/100, train loss : 0.54158 train mse: 0.31681 train mae: 0.42428  validation loss: 4.63392 validation mse : 4.89511 validation mae: 1.71116\n",
      "epochs: 14/100, train loss : 0.53964 train mse: 0.31424 train mae: 0.42257  validation loss: 4.63619 validation mse : 4.89935 validation mae: 1.71248\n",
      "epochs: 15/100, train loss : 0.53773 train mse: 0.31223 train mae: 0.42094  validation loss: 4.63850 validation mse : 4.90842 validation mae: 1.71490\n",
      "epochs: 16/100, train loss : 0.53582 train mse: 0.30925 train mae: 0.41902  validation loss: 4.64075 validation mse : 4.90652 validation mae: 1.71862\n",
      "epochs: 17/100, train loss : 0.53392 train mse: 0.30707 train mae: 0.41746  validation loss: 4.64351 validation mse : 4.97241 validation mae: 1.73463\n",
      "epochs: 18/100, train loss : 0.53204 train mse: 0.30509 train mae: 0.41594  validation loss: 4.64624 validation mse : 4.97349 validation mae: 1.73425\n",
      "epochs: 19/100, train loss : 0.53018 train mse: 0.30358 train mae: 0.41464  validation loss: 4.64887 validation mse : 4.96684 validation mae: 1.73375\n",
      "epochs: 20/100, train loss : 0.52835 train mse: 0.30370 train mae: 0.41414  validation loss: 4.65184 validation mse : 5.01480 validation mae: 1.75400\n"
     ]
    },
    {
     "data": {
      "image/png": "[encoded data removed]",
      "text/plain": [
       "<Figure size 720x360 with 1 Axes>"
      ]
     },
     "metadata": {
      "needs_background": "light"
     },
     "output_type": "display_data"
    },
    {
     "name": "stdout",
     "output_type": "stream",
     "text": [
      "epochs: 21/100, train loss : 0.52652 train mse: 0.30047 train mae: 0.41183  validation loss: 4.65491 validation mse : 5.03267 validation mae: 1.76003\n",
      "epochs: 22/100, train loss : 0.52470 train mse: 0.29826 train mae: 0.41039  validation loss: 4.65816 validation mse : 5.06104 validation mae: 1.76609\n",
      "epochs: 23/100, train loss : 0.52290 train mse: 0.29587 train mae: 0.40897  validation loss: 4.66066 validation mse : 4.97293 validation mae: 1.73601\n",
      "epochs: 24/100, train loss : 0.52110 train mse: 0.29416 train mae: 0.40759  validation loss: 4.66308 validation mse : 4.96801 validation mae: 1.73655\n",
      "epochs: 25/100, train loss : 0.51933 train mse: 0.29259 train mae: 0.40643  validation loss: 4.66546 validation mse : 4.96695 validation mae: 1.74219\n",
      "epochs: 26/100, train loss : 0.51757 train mse: 0.29162 train mae: 0.40540  validation loss: 4.66791 validation mse : 4.98248 validation mae: 1.74791\n",
      "epochs: 27/100, train loss : 0.51583 train mse: 0.28927 train mae: 0.40384  validation loss: 4.67056 validation mse : 5.01192 validation mae: 1.75480\n",
      "epochs: 28/100, train loss : 0.51410 train mse: 0.28816 train mae: 0.40307  validation loss: 4.67333 validation mse : 5.03375 validation mae: 1.76389\n",
      "epochs: 29/100, train loss : 0.51239 train mse: 0.28756 train mae: 0.40252  validation loss: 4.67614 validation mse : 5.04361 validation mae: 1.76957\n",
      "epochs: 30/100, train loss : 0.51069 train mse: 0.28496 train mae: 0.40068  validation loss: 4.67911 validation mse : 5.07212 validation mae: 1.77633\n"
     ]
    },
    {
     "data": {
      "image/png": "[encoded data removed]",
      "text/plain": [
       "<Figure size 720x360 with 1 Axes>"
      ]
     },
     "metadata": {
      "needs_background": "light"
     },
     "output_type": "display_data"
    },
    {
     "name": "stdout",
     "output_type": "stream",
     "text": [
      "epochs: 31/100, train loss : 0.50899 train mse: 0.28274 train mae: 0.39947  validation loss: 4.68209 validation mse : 5.07787 validation mae: 1.77731\n",
      "epochs: 32/100, train loss : 0.50731 train mse: 0.28087 train mae: 0.39836  validation loss: 4.68485 validation mse : 5.05426 validation mae: 1.76890\n",
      "epochs: 33/100, train loss : 0.50565 train mse: 0.27932 train mae: 0.39717  validation loss: 4.68731 validation mse : 5.02062 validation mae: 1.75722\n",
      "epochs: 34/100, train loss : 0.50399 train mse: 0.27780 train mae: 0.39606  validation loss: 4.68996 validation mse : 5.05010 validation mae: 1.76508\n",
      "epochs: 35/100, train loss : 0.50235 train mse: 0.27654 train mae: 0.39505  validation loss: 4.69294 validation mse : 5.10086 validation mae: 1.77977\n",
      "epochs: 36/100, train loss : 0.50072 train mse: 0.27493 train mae: 0.39409  validation loss: 4.69595 validation mse : 5.11172 validation mae: 1.78208\n",
      "epochs: 37/100, train loss : 0.49911 train mse: 0.27428 train mae: 0.39332  validation loss: 4.69893 validation mse : 5.11330 validation mae: 1.79131\n",
      "epochs: 38/100, train loss : 0.49751 train mse: 0.27183 train mae: 0.39158  validation loss: 4.70180 validation mse : 5.10243 validation mae: 1.78605\n",
      "epochs: 39/100, train loss : 0.49592 train mse: 0.27101 train mae: 0.39085  validation loss: 4.70469 validation mse : 5.11330 validation mae: 1.78795\n",
      "epochs: 40/100, train loss : 0.49435 train mse: 0.27093 train mae: 0.39047  validation loss: 4.70776 validation mse : 5.14273 validation mae: 1.80019\n"
     ]
    },
    {
     "data": {
      "image/png": "[encoded data removed]",
      "text/plain": [
       "<Figure size 720x360 with 1 Axes>"
      ]
     },
     "metadata": {
      "needs_background": "light"
     },
     "output_type": "display_data"
    },
    {
     "name": "stdout",
     "output_type": "stream",
     "text": [
      "epochs: 41/100, train loss : 0.49279 train mse: 0.26841 train mae: 0.38850  validation loss: 4.71076 validation mse : 5.14032 validation mae: 1.79502\n",
      "epochs: 42/100, train loss : 0.49124 train mse: 0.26706 train mae: 0.38762  validation loss: 4.71375 validation mse : 5.14447 validation mae: 1.79675\n",
      "epochs: 43/100, train loss : 0.48970 train mse: 0.26556 train mae: 0.38676  validation loss: 4.71672 validation mse : 5.14765 validation mae: 1.79770\n",
      "epochs: 44/100, train loss : 0.48818 train mse: 0.26402 train mae: 0.38552  validation loss: 4.71972 validation mse : 5.15700 validation mae: 1.80013\n",
      "epochs: 45/100, train loss : 0.48666 train mse: 0.26283 train mae: 0.38459  validation loss: 4.72273 validation mse : 5.16566 validation mae: 1.80180\n",
      "epochs: 46/100, train loss : 0.48516 train mse: 0.26197 train mae: 0.38391  validation loss: 4.72577 validation mse : 5.17588 validation mae: 1.80335\n",
      "epochs: 47/100, train loss : 0.48368 train mse: 0.26181 train mae: 0.38334  validation loss: 4.72882 validation mse : 5.18273 validation mae: 1.80517\n",
      "epochs: 48/100, train loss : 0.48222 train mse: 0.26230 train mae: 0.38339  validation loss: 4.73181 validation mse : 5.18003 validation mae: 1.80746\n",
      "epochs: 49/100, train loss : 0.48077 train mse: 0.26128 train mae: 0.38193  validation loss: 4.73535 validation mse : 5.27060 validation mae: 1.83786\n",
      "epochs: 50/100, train loss : 0.47933 train mse: 0.25921 train mae: 0.38064  validation loss: 4.73891 validation mse : 5.27936 validation mae: 1.83938\n"
     ]
    },
    {
     "data": {
      "image/png": "[encoded data removed]",
      "text/plain": [
       "<Figure size 720x360 with 1 Axes>"
      ]
     },
     "metadata": {
      "needs_background": "light"
     },
     "output_type": "display_data"
    },
    {
     "name": "stdout",
     "output_type": "stream",
     "text": [
      "epochs: 51/100, train loss : 0.47788 train mse: 0.25615 train mae: 0.37961  validation loss: 4.74249 validation mse : 5.29119 validation mae: 1.83919\n",
      "epochs: 52/100, train loss : 0.47646 train mse: 0.25549 train mae: 0.37935  validation loss: 4.74570 validation mse : 5.23927 validation mae: 1.82321\n",
      "epochs: 53/100, train loss : 0.47504 train mse: 0.25513 train mae: 0.37845  validation loss: 4.74884 validation mse : 5.23538 validation mae: 1.82095\n",
      "epochs: 54/100, train loss : 0.47364 train mse: 0.25340 train mae: 0.37691  validation loss: 4.75176 validation mse : 5.20701 validation mae: 1.81395\n",
      "epochs: 55/100, train loss : 0.47224 train mse: 0.25171 train mae: 0.37621  validation loss: 4.75470 validation mse : 5.21715 validation mae: 1.81673\n",
      "epochs: 56/100, train loss : 0.47085 train mse: 0.25084 train mae: 0.37549  validation loss: 4.75766 validation mse : 5.22475 validation mae: 1.81838\n",
      "epochs: 57/100, train loss : 0.46948 train mse: 0.24982 train mae: 0.37441  validation loss: 4.76063 validation mse : 5.23371 validation mae: 1.82149\n",
      "epochs: 58/100, train loss : 0.46811 train mse: 0.24886 train mae: 0.37370  validation loss: 4.76367 validation mse : 5.24865 validation mae: 1.82524\n",
      "epochs: 59/100, train loss : 0.46676 train mse: 0.24809 train mae: 0.37291  validation loss: 4.76665 validation mse : 5.24745 validation mae: 1.82494\n",
      "epochs: 60/100, train loss : 0.46542 train mse: 0.24740 train mae: 0.37247  validation loss: 4.76960 validation mse : 5.24712 validation mae: 1.82327\n"
     ]
    },
    {
     "data": {
      "image/png": "[encoded data removed]",
      "text/plain": [
       "<Figure size 720x360 with 1 Axes>"
      ]
     },
     "metadata": {
      "needs_background": "light"
     },
     "output_type": "display_data"
    },
    {
     "name": "stdout",
     "output_type": "stream",
     "text": [
      "epochs: 61/100, train loss : 0.46409 train mse: 0.24708 train mae: 0.37164  validation loss: 4.77249 validation mse : 5.24336 validation mae: 1.82141\n",
      "epochs: 62/100, train loss : 0.46278 train mse: 0.24709 train mae: 0.37160  validation loss: 4.77538 validation mse : 5.24950 validation mae: 1.82354\n",
      "epochs: 63/100, train loss : 0.46148 train mse: 0.24511 train mae: 0.36980  validation loss: 4.77824 validation mse : 5.25032 validation mae: 1.82336\n",
      "epochs: 64/100, train loss : 0.46018 train mse: 0.24373 train mae: 0.36949  validation loss: 4.78110 validation mse : 5.25520 validation mae: 1.82481\n",
      "epochs: 65/100, train loss : 0.45889 train mse: 0.24292 train mae: 0.36888  validation loss: 4.78394 validation mse : 5.25908 validation mae: 1.82574\n",
      "epochs: 66/100, train loss : 0.45761 train mse: 0.24211 train mae: 0.36795  validation loss: 4.78676 validation mse : 5.25966 validation mae: 1.82592\n",
      "epochs: 67/100, train loss : 0.45635 train mse: 0.24136 train mae: 0.36738  validation loss: 4.78955 validation mse : 5.26266 validation mae: 1.82686\n",
      "epochs: 68/100, train loss : 0.45509 train mse: 0.24117 train mae: 0.36699  validation loss: 4.79237 validation mse : 5.27124 validation mae: 1.82968\n",
      "epochs: 69/100, train loss : 0.45386 train mse: 0.24250 train mae: 0.36735  validation loss: 4.79516 validation mse : 5.27152 validation mae: 1.82973\n",
      "epochs: 70/100, train loss : 0.45263 train mse: 0.23997 train mae: 0.36522  validation loss: 4.79794 validation mse : 5.27716 validation mae: 1.83180\n"
     ]
    },
    {
     "data": {
      "image/png": "[encoded data removed]",
      "text/plain": [
       "<Figure size 720x360 with 1 Axes>"
      ]
     },
     "metadata": {
      "needs_background": "light"
     },
     "output_type": "display_data"
    },
    {
     "name": "stdout",
     "output_type": "stream",
     "text": [
      "epochs: 71/100, train loss : 0.45140 train mse: 0.23879 train mae: 0.36493  validation loss: 4.80073 validation mse : 5.28318 validation mae: 1.83357\n",
      "epochs: 72/100, train loss : 0.45019 train mse: 0.23831 train mae: 0.36491  validation loss: 4.80349 validation mse : 5.28386 validation mae: 1.83329\n",
      "epochs: 73/100, train loss : 0.44899 train mse: 0.23787 train mae: 0.36406  validation loss: 4.80621 validation mse : 5.28171 validation mae: 1.83348\n",
      "epochs: 74/100, train loss : 0.44780 train mse: 0.23769 train mae: 0.36393  validation loss: 4.80899 validation mse : 5.29732 validation mae: 1.84109\n",
      "epochs: 75/100, train loss : 0.44662 train mse: 0.23701 train mae: 0.36279  validation loss: 4.81177 validation mse : 5.30499 validation mae: 1.84350\n",
      "epochs: 76/100, train loss : 0.44545 train mse: 0.23654 train mae: 0.36267  validation loss: 4.81455 validation mse : 5.30891 validation mae: 1.84575\n",
      "epochs: 77/100, train loss : 0.44429 train mse: 0.23541 train mae: 0.36156  validation loss: 4.81733 validation mse : 5.31544 validation mae: 1.84895\n",
      "epochs: 78/100, train loss : 0.44313 train mse: 0.23439 train mae: 0.36141  validation loss: 4.82017 validation mse : 5.33142 validation mae: 1.85577\n",
      "epochs: 79/100, train loss : 0.44199 train mse: 0.23370 train mae: 0.36076  validation loss: 4.82327 validation mse : 5.38457 validation mae: 1.87244\n",
      "epochs: 80/100, train loss : 0.44085 train mse: 0.23301 train mae: 0.35994  validation loss: 4.82639 validation mse : 5.39314 validation mae: 1.87810\n"
     ]
    },
    {
     "data": {
      "image/png": "[encoded data removed]",
      "text/plain": [
       "<Figure size 720x360 with 1 Axes>"
      ]
     },
     "metadata": {
      "needs_background": "light"
     },
     "output_type": "display_data"
    },
    {
     "name": "stdout",
     "output_type": "stream",
     "text": [
      "epochs: 81/100, train loss : 0.43972 train mse: 0.23243 train mae: 0.35954  validation loss: 4.82948 validation mse : 5.39472 validation mae: 1.88043\n",
      "epochs: 82/100, train loss : 0.43860 train mse: 0.23235 train mae: 0.35921  validation loss: 4.83258 validation mse : 5.40366 validation mae: 1.88439\n",
      "epochs: 83/100, train loss : 0.43750 train mse: 0.23343 train mae: 0.35950  validation loss: 4.83566 validation mse : 5.40574 validation mae: 1.88101\n",
      "epochs: 84/100, train loss : 0.43641 train mse: 0.23152 train mae: 0.35790  validation loss: 4.83869 validation mse : 5.40211 validation mae: 1.87998\n",
      "epochs: 85/100, train loss : 0.43531 train mse: 0.23023 train mae: 0.35782  validation loss: 4.84168 validation mse : 5.39999 validation mae: 1.87706\n",
      "epochs: 86/100, train loss : 0.43423 train mse: 0.22965 train mae: 0.35726  validation loss: 4.84465 validation mse : 5.40300 validation mae: 1.87916\n",
      "epochs: 87/100, train loss : 0.43316 train mse: 0.22952 train mae: 0.35670  validation loss: 4.84760 validation mse : 5.40595 validation mae: 1.88242\n",
      "epochs: 88/100, train loss : 0.43210 train mse: 0.23004 train mae: 0.35666  validation loss: 4.85058 validation mse : 5.41730 validation mae: 1.88734\n",
      "epochs: 89/100, train loss : 0.43106 train mse: 0.23248 train mae: 0.35798  validation loss: 4.85352 validation mse : 5.41394 validation mae: 1.88380\n",
      "epochs: 90/100, train loss : 0.43002 train mse: 0.22946 train mae: 0.35568  validation loss: 4.85650 validation mse : 5.42888 validation mae: 1.88651\n"
     ]
    },
    {
     "data": {
      "image/png": "[encoded data removed]",
      "text/plain": [
       "<Figure size 720x360 with 1 Axes>"
      ]
     },
     "metadata": {
      "needs_background": "light"
     },
     "output_type": "display_data"
    },
    {
     "name": "stdout",
     "output_type": "stream",
     "text": [
      "epochs: 91/100, train loss : 0.42898 train mse: 0.22817 train mae: 0.35491  validation loss: 4.85951 validation mse : 5.44071 validation mae: 1.89097\n",
      "epochs: 92/100, train loss : 0.42795 train mse: 0.22714 train mae: 0.35502  validation loss: 4.86247 validation mse : 5.43771 validation mae: 1.89053\n",
      "epochs: 93/100, train loss : 0.42693 train mse: 0.22640 train mae: 0.35436  validation loss: 4.86533 validation mse : 5.42258 validation mae: 1.89003\n",
      "epochs: 94/100, train loss : 0.42591 train mse: 0.22569 train mae: 0.35352  validation loss: 4.86814 validation mse : 5.41950 validation mae: 1.89022\n",
      "epochs: 95/100, train loss : 0.42490 train mse: 0.22519 train mae: 0.35299  validation loss: 4.87107 validation mse : 5.44649 validation mae: 1.89843\n",
      "epochs: 96/100, train loss : 0.42390 train mse: 0.22501 train mae: 0.35284  validation loss: 4.87397 validation mse : 5.44931 validation mae: 1.90111\n",
      "epochs: 97/100, train loss : 0.42291 train mse: 0.22592 train mae: 0.35309  validation loss: 4.87674 validation mse : 5.42826 validation mae: 1.89633\n",
      "epochs: 98/100, train loss : 0.42194 train mse: 0.22678 train mae: 0.35342  validation loss: 4.87958 validation mse : 5.44760 validation mae: 1.90062\n",
      "epochs: 99/100, train loss : 0.42096 train mse: 0.22392 train mae: 0.35142  validation loss: 4.88261 validation mse : 5.49170 validation mae: 1.91769\n",
      "epochs: 100/100, train loss : 0.41999 train mse: 0.22322 train mae: 0.35124  validation loss: 4.88536 validation mse : 5.44009 validation mae: 1.90181\n"
     ]
    },
    {
     "data": {
      "image/png": "[encoded data removed]",
      "text/plain": [
       "<Figure size 432x288 with 1 Axes>"
      ]
     },
     "metadata": {
      "needs_background": "light"
     },
     "output_type": "display_data"
    }
   ],
   "source": [
    "try :\n",
    "    os.mkdir(f'../data/model_weights/model_{EPOCHS}_{look_back_window}_{forecast_horizon}_cluster_{cluster_num}_unknown')\n",
    "except:\n",
    "    print(\"폴더가 이미 존재\")\n",
    "\n",
    "visual_list = []\n",
    "for epoch in range(EPOCHS):\n",
    "    epoch_train_mse = 0\n",
    "    epoch_train_mae = 0\n",
    "    \n",
    "    epoch_val_mse = 0\n",
    "    epoch_val_mae = 0\n",
    "\n",
    "    train_data_len = 0\n",
    "    val_data_len = 0\n",
    "\n",
    "    for train_X, train_y in train_dataset:\n",
    "        _, train_mse, train_mae, attention_weights = train_function(train_X, train_y)\n",
    "        train_data_len += 1\n",
    "        epoch_train_mse += tf.reduce_mean(train_mse).numpy()\n",
    "        epoch_train_mae += tf.reduce_mean(train_mae).numpy()\n",
    "    for test_images, test_labels in val_dataset:\n",
    "        _, val_mse, val_mae = test_function(test_images, test_labels)\n",
    "        val_data_len += 1\n",
    "        epoch_val_mse += tf.reduce_mean(val_mse).numpy()\n",
    "        epoch_val_mae += tf.reduce_mean(val_mae).numpy()\n",
    "\n",
    "    train_loss_list.append(train_loss.result().numpy())\n",
    "    val_loss_list.append(val_loss.result().numpy())\n",
    "    visual_result = VisualizeAttentionMap(model, train_X, attention_weights).on_epoch_begin(epoch)\n",
    "    visual_list.append(visual_result.numpy())\n",
    "    template = 'epochs: {}/{}, train loss : {:.5f} train mse: {:.5f} train mae: {:.5f}  validation loss: {:.5f} validation mse : {:.5f} validation mae: {:.5f}'\n",
    "    print(template.format(epoch+1,\n",
    "                         EPOCHS,\n",
    "                         train_loss.result().numpy(),\n",
    "                         epoch_train_mse / train_data_len,\n",
    "                         epoch_train_mae / train_data_len,\n",
    "                         val_loss.result().numpy(),\n",
    "                         epoch_val_mse / val_data_len,\n",
    "                         epoch_val_mae / val_data_len))\n",
    "  \n",
    "    if (epoch+1) % 10 == 0 :\n",
    "        model.save_weights(f'../data/model_weights/model_{EPOCHS}_{look_back_window}_{forecast_horizon}_cluster_{cluster_num}_unknown/model_{epoch+1}.pth') \n",
    "\n",
    "\n",
    "\n",
    "try :\n",
    "    os.mkdir(f'../data/attention_weights/attention_png_{EPOCHS}_{look_back_window}_{forecast_horizon}_cluster_{cluster_num}_unknown')\n",
    "except:\n",
    "    print(\"폴더가 이미 존재\")\n",
    "\n",
    "for idx, img in enumerate(visual_list) :\n",
    "    tmp = sns.heatmap(img, cmap ='jet', cbar = False)\n",
    "    tmp.figure.savefig(f\"../data/attention_weights/attention_png_{EPOCHS}_{look_back_window}_{forecast_horizon}_cluster_{cluster_num}_unknown/{idx}.png\")\n",
    "    \n",
    "    \n",
    "    \n",
    "path = [f\"../data/attention_weights/attention_png_{EPOCHS}_{look_back_window}_{forecast_horizon}_cluster_{cluster_num}_unknown/{i}\" for i in os.listdir(f\"../data/attention_weights/attention_png_{EPOCHS}_{look_back_window}_{forecast_horizon}_cluster_{cluster_num}_unknown\") if i.endswith(\".png\")]\n",
    "paths = [np.array(Image.open(i)) for i in path]\n",
    "\n",
    "try :\n",
    "    os.mkdir(f'../data/attention_weights/attention_result_{EPOCHS}_{look_back_window}_{forecast_horizon}_cluster_{cluster_num}_unknown')\n",
    "except :\n",
    "    print(\"폴더가 이미 존재\")\n",
    "    \n",
    "imageio.mimsave(f'../data/attention_weights/attention_result_{EPOCHS}_{look_back_window}_{forecast_horizon}_cluster_{cluster_num}_unknown/result_{EPOCHS}_{look_back_window}_{forecast_horizon}_cluster_{cluster_num}_unknown.gif', paths, fps=5)"
   ]
  },
  {
   "cell_type": "code",
   "execution_count": 57,
   "metadata": {
    "colab": {
     "base_uri": "https://localhost:8080/",
     "height": 313
    },
    "id": "xoN7WZo7eVYm",
    "outputId": "b65e1102-f5e1-4a2d-a958-fcd1595b61af"
   },
   "outputs": [
    {
     "data": {
      "text/plain": [
       "<matplotlib.legend.Legend at 0x25e59988160>"
      ]
     },
     "execution_count": 57,
     "metadata": {},
     "output_type": "execute_result"
    },
    {
     "data": {
      "image/png": "[encoded data removed]",
      "text/plain": [
       "<Figure size 432x288 with 1 Axes>"
      ]
     },
     "metadata": {
      "needs_background": "light"
     },
     "output_type": "display_data"
    }
   ],
   "source": [
    "plt.plot(train_loss_list)\n",
    "plt.plot(val_loss_list)\n",
    "plt.title('model loss')\n",
    "plt.ylabel('loss')\n",
    "plt.xlabel('epoch')\n",
    "plt.legend(['train', 'validation'], loc='upper right')"
   ]
  },
  {
   "cell_type": "code",
   "execution_count": 74,
   "metadata": {
    "scrolled": false
   },
   "outputs": [
    {
     "name": "stdout",
     "output_type": "stream",
     "text": [
      "Model MAE : 1.1779487133026123\n",
      "844.7949336882563\n",
      "Model MAE : 1.1779487133026123\n",
      "746.372042748236\n",
      "Model MAE : 1.1779487133026123\n",
      "714.9621276855469\n",
      "Model MAE : 1.1779487133026123\n",
      "711.4947913385208\n",
      "Model MAE : 1.1779487133026123\n",
      "860.5696101034841\n",
      "Model MAE : 1.1779487133026123\n",
      "2476.382078601468\n",
      "Model MAE : 1.1779487133026123\n",
      "4909.515237623646\n",
      "Model MAE : 1.1779487133026123\n",
      "5629.313587803995\n",
      "Model MAE : 1.1779487133026123\n",
      "5776.9442502913935\n",
      "Model MAE : 1.1779487133026123\n",
      "5886.788387175529\n"
     ]
    }
   ],
   "source": [
    "for i in range(10, 101 ,10) :\n",
    "    model.load_weights(f\"../data/model_weights/model_100_120_62_cluster_3_unknown/model_{i}.pth\")\n",
    "    X_test, y_test = preprocessor.transform(test_data.values)\n",
    "    scores = np.mean(np.abs(y_test , model.predict(X_test)[0]))\n",
    "\n",
    "    print(f\"Model MAE : {scores}\")\n",
    "\n",
    "    # Predict\n",
    "    y_pred,_ = model.predict(X_test)\n",
    "    y_pred = preprocessor.y_scaler.inverse_transform(y_pred.reshape(-1, 1))\n",
    "    y_test = preprocessor.y_scaler.inverse_transform(y_test.reshape(-1, 1))\n",
    "    comparison = np.hstack([y_pred, y_test]) #0.93 #0.74 batch = 16 epoch = 100\n",
    "    print(np.mean(np.abs(y_test - y_pred)))"
   ]
  },
  {
   "cell_type": "code",
   "execution_count": 75,
   "metadata": {},
   "outputs": [
    {
     "name": "stdout",
     "output_type": "stream",
     "text": [
      "Model MAE : 1.1779487133026123\n",
      "711.4947913385208\n"
     ]
    }
   ],
   "source": [
    "model.load_weights(\"../data/model_weights/model_100_120_62_cluster_3_unknown/model_40.pth\")\n",
    "X_test, y_test = preprocessor.transform(test_data.values)\n",
    "scores = np.mean(np.abs(y_test , model.predict(X_test)[0]))\n",
    "\n",
    "print(f\"Model MAE : {scores}\")\n",
    "\n",
    "# Predict\n",
    "y_pred,_ = model.predict(X_test)\n",
    "y_pred = preprocessor.y_scaler.inverse_transform(y_pred.reshape(-1, 1))\n",
    "y_test = preprocessor.y_scaler.inverse_transform(y_test.reshape(-1, 1))\n",
    "comparison = np.hstack([y_pred, y_test])\n",
    "print(np.mean(np.abs(y_test - y_pred)))  # epcoh : 100, batch : 65 , before mae : 0.6359, after mae : 30468"
   ]
  },
  {
   "cell_type": "code",
   "execution_count": 96,
   "metadata": {
    "scrolled": true
   },
   "outputs": [
    {
     "data": {
      "image/png": "[encoded data removed]",
      "text/plain": [
       "<Figure size 1080x504 with 1 Axes>"
      ]
     },
     "metadata": {
      "needs_background": "light"
     },
     "output_type": "display_data"
    }
   ],
   "source": [
    "plt.figure(figsize=(15,7))\n",
    "plt.plot(comparison)\n",
    "plt.legend(['pred','real'])\n",
    "plt.show()"
   ]
  },
  {
   "cell_type": "code",
   "execution_count": 70,
   "metadata": {},
   "outputs": [],
   "source": [
    "data = pd.read_csv(f'../data/processed_data/클러스터_{cluster_num}_최종피쳐.csv', encoding = 'cp949')\n",
    "final_test_data = data[-look_back_window:]"
   ]
  },
  {
   "cell_type": "code",
   "execution_count": 76,
   "metadata": {
    "scrolled": true
   },
   "outputs": [
    {
     "data": {
      "text/html": [
       "<div>\n",
       "<style scoped>\n",
       "    .dataframe tbody tr th:only-of-type {\n",
       "        vertical-align: middle;\n",
       "    }\n",
       "\n",
       "    .dataframe tbody tr th {\n",
       "        vertical-align: top;\n",
       "    }\n",
       "\n",
       "    .dataframe thead th {\n",
       "        text-align: right;\n",
       "    }\n",
       "</style>\n",
       "<table border=\"1\" class=\"dataframe\">\n",
       "  <thead>\n",
       "    <tr style=\"text-align: right;\">\n",
       "      <th></th>\n",
       "      <th>일자</th>\n",
       "      <th>월</th>\n",
       "      <th>요일</th>\n",
       "      <th>코로나발생여부</th>\n",
       "      <th>주말및공휴일여부</th>\n",
       "      <th>성수기여부</th>\n",
       "      <th>회당배출량</th>\n",
       "      <th>일배출금액합계</th>\n",
       "      <th>회당배출금액</th>\n",
       "      <th>일배출횟수합계</th>\n",
       "      <th>...</th>\n",
       "      <th>장외_근무평균</th>\n",
       "      <th>남_총거주</th>\n",
       "      <th>남_내거주</th>\n",
       "      <th>저녁_근무인구</th>\n",
       "      <th>여성_방문평균</th>\n",
       "      <th>저녁_장외_근무인구</th>\n",
       "      <th>남성_방문평균</th>\n",
       "      <th>점심_장외_근무인구</th>\n",
       "      <th>점심_근무인구</th>\n",
       "      <th>일별배출량합계</th>\n",
       "    </tr>\n",
       "  </thead>\n",
       "  <tbody>\n",
       "    <tr>\n",
       "      <th>7542</th>\n",
       "      <td>2021-06-11</td>\n",
       "      <td>6</td>\n",
       "      <td>4</td>\n",
       "      <td>1</td>\n",
       "      <td>0</td>\n",
       "      <td>0</td>\n",
       "      <td>301193.131999</td>\n",
       "      <td>6910600.0</td>\n",
       "      <td>9003.268189</td>\n",
       "      <td>3824.0</td>\n",
       "      <td>...</td>\n",
       "      <td>3239.07480</td>\n",
       "      <td>28329</td>\n",
       "      <td>27178</td>\n",
       "      <td>23431.035500</td>\n",
       "      <td>225145.91480</td>\n",
       "      <td>654.935900</td>\n",
       "      <td>242869.28600</td>\n",
       "      <td>567.552200</td>\n",
       "      <td>24863.835600</td>\n",
       "      <td>206393.0</td>\n",
       "    </tr>\n",
       "    <tr>\n",
       "      <th>7543</th>\n",
       "      <td>2021-06-11</td>\n",
       "      <td>6</td>\n",
       "      <td>4</td>\n",
       "      <td>1</td>\n",
       "      <td>0</td>\n",
       "      <td>0</td>\n",
       "      <td>58066.481909</td>\n",
       "      <td>551600.0</td>\n",
       "      <td>1736.259557</td>\n",
       "      <td>250.0</td>\n",
       "      <td>...</td>\n",
       "      <td>521.99480</td>\n",
       "      <td>1770</td>\n",
       "      <td>1728</td>\n",
       "      <td>789.718300</td>\n",
       "      <td>30890.80140</td>\n",
       "      <td>81.030000</td>\n",
       "      <td>35537.87960</td>\n",
       "      <td>63.204200</td>\n",
       "      <td>921.844300</td>\n",
       "      <td>16490.0</td>\n",
       "    </tr>\n",
       "    <tr>\n",
       "      <th>7544</th>\n",
       "      <td>2021-06-11</td>\n",
       "      <td>6</td>\n",
       "      <td>4</td>\n",
       "      <td>1</td>\n",
       "      <td>0</td>\n",
       "      <td>0</td>\n",
       "      <td>8000.000000</td>\n",
       "      <td>96000.0</td>\n",
       "      <td>239.833333</td>\n",
       "      <td>12.0</td>\n",
       "      <td>...</td>\n",
       "      <td>1523.20655</td>\n",
       "      <td>8499</td>\n",
       "      <td>8210</td>\n",
       "      <td>5768.770846</td>\n",
       "      <td>138427.59365</td>\n",
       "      <td>128.397324</td>\n",
       "      <td>148601.99620</td>\n",
       "      <td>137.440178</td>\n",
       "      <td>7195.508063</td>\n",
       "      <td>2878.0</td>\n",
       "    </tr>\n",
       "    <tr>\n",
       "      <th>7545</th>\n",
       "      <td>2021-06-11</td>\n",
       "      <td>6</td>\n",
       "      <td>4</td>\n",
       "      <td>1</td>\n",
       "      <td>0</td>\n",
       "      <td>0</td>\n",
       "      <td>359162.575110</td>\n",
       "      <td>3033000.0</td>\n",
       "      <td>10743.934505</td>\n",
       "      <td>1248.0</td>\n",
       "      <td>...</td>\n",
       "      <td>2524.41830</td>\n",
       "      <td>19528</td>\n",
       "      <td>19062</td>\n",
       "      <td>12684.840100</td>\n",
       "      <td>245964.38590</td>\n",
       "      <td>385.082900</td>\n",
       "      <td>261666.11280</td>\n",
       "      <td>402.600000</td>\n",
       "      <td>17569.873100</td>\n",
       "      <td>90702.0</td>\n",
       "    </tr>\n",
       "    <tr>\n",
       "      <th>7546</th>\n",
       "      <td>2021-06-11</td>\n",
       "      <td>6</td>\n",
       "      <td>4</td>\n",
       "      <td>1</td>\n",
       "      <td>0</td>\n",
       "      <td>0</td>\n",
       "      <td>276179.452815</td>\n",
       "      <td>1980350.0</td>\n",
       "      <td>8259.197318</td>\n",
       "      <td>814.0</td>\n",
       "      <td>...</td>\n",
       "      <td>685.13470</td>\n",
       "      <td>13289</td>\n",
       "      <td>13010</td>\n",
       "      <td>8116.889900</td>\n",
       "      <td>121765.36590</td>\n",
       "      <td>140.883600</td>\n",
       "      <td>126398.97810</td>\n",
       "      <td>161.712200</td>\n",
       "      <td>11461.570700</td>\n",
       "      <td>59216.0</td>\n",
       "    </tr>\n",
       "    <tr>\n",
       "      <th>...</th>\n",
       "      <td>...</td>\n",
       "      <td>...</td>\n",
       "      <td>...</td>\n",
       "      <td>...</td>\n",
       "      <td>...</td>\n",
       "      <td>...</td>\n",
       "      <td>...</td>\n",
       "      <td>...</td>\n",
       "      <td>...</td>\n",
       "      <td>...</td>\n",
       "      <td>...</td>\n",
       "      <td>...</td>\n",
       "      <td>...</td>\n",
       "      <td>...</td>\n",
       "      <td>...</td>\n",
       "      <td>...</td>\n",
       "      <td>...</td>\n",
       "      <td>...</td>\n",
       "      <td>...</td>\n",
       "      <td>...</td>\n",
       "      <td>...</td>\n",
       "    </tr>\n",
       "    <tr>\n",
       "      <th>7657</th>\n",
       "      <td>2021-06-30</td>\n",
       "      <td>6</td>\n",
       "      <td>2</td>\n",
       "      <td>1</td>\n",
       "      <td>0</td>\n",
       "      <td>0</td>\n",
       "      <td>51950.921215</td>\n",
       "      <td>597050.0</td>\n",
       "      <td>1554.027748</td>\n",
       "      <td>292.0</td>\n",
       "      <td>...</td>\n",
       "      <td>529.26770</td>\n",
       "      <td>1728</td>\n",
       "      <td>1687</td>\n",
       "      <td>661.321100</td>\n",
       "      <td>38523.04120</td>\n",
       "      <td>46.870900</td>\n",
       "      <td>40695.89140</td>\n",
       "      <td>122.573600</td>\n",
       "      <td>843.805400</td>\n",
       "      <td>17849.0</td>\n",
       "    </tr>\n",
       "    <tr>\n",
       "      <th>7658</th>\n",
       "      <td>2021-06-30</td>\n",
       "      <td>6</td>\n",
       "      <td>2</td>\n",
       "      <td>1</td>\n",
       "      <td>0</td>\n",
       "      <td>0</td>\n",
       "      <td>5603.333333</td>\n",
       "      <td>84050.0</td>\n",
       "      <td>167.800000</td>\n",
       "      <td>15.0</td>\n",
       "      <td>...</td>\n",
       "      <td>1188.81465</td>\n",
       "      <td>8525</td>\n",
       "      <td>8236</td>\n",
       "      <td>5952.102910</td>\n",
       "      <td>167482.92120</td>\n",
       "      <td>116.298459</td>\n",
       "      <td>181531.77955</td>\n",
       "      <td>122.421432</td>\n",
       "      <td>7295.254629</td>\n",
       "      <td>2517.0</td>\n",
       "    </tr>\n",
       "    <tr>\n",
       "      <th>7659</th>\n",
       "      <td>2021-06-30</td>\n",
       "      <td>6</td>\n",
       "      <td>2</td>\n",
       "      <td>1</td>\n",
       "      <td>0</td>\n",
       "      <td>0</td>\n",
       "      <td>330611.583180</td>\n",
       "      <td>3367800.0</td>\n",
       "      <td>9887.247688</td>\n",
       "      <td>1449.0</td>\n",
       "      <td>...</td>\n",
       "      <td>1848.36160</td>\n",
       "      <td>19639</td>\n",
       "      <td>19173</td>\n",
       "      <td>13497.829900</td>\n",
       "      <td>296442.80120</td>\n",
       "      <td>232.873900</td>\n",
       "      <td>322367.66770</td>\n",
       "      <td>287.497000</td>\n",
       "      <td>17820.560000</td>\n",
       "      <td>100714.0</td>\n",
       "    </tr>\n",
       "    <tr>\n",
       "      <th>7660</th>\n",
       "      <td>2021-06-30</td>\n",
       "      <td>6</td>\n",
       "      <td>2</td>\n",
       "      <td>1</td>\n",
       "      <td>0</td>\n",
       "      <td>0</td>\n",
       "      <td>270625.539646</td>\n",
       "      <td>2175450.0</td>\n",
       "      <td>8094.886784</td>\n",
       "      <td>981.0</td>\n",
       "      <td>...</td>\n",
       "      <td>760.44690</td>\n",
       "      <td>13306</td>\n",
       "      <td>13028</td>\n",
       "      <td>8691.385300</td>\n",
       "      <td>153869.57600</td>\n",
       "      <td>140.981300</td>\n",
       "      <td>166143.04570</td>\n",
       "      <td>152.460800</td>\n",
       "      <td>11667.667000</td>\n",
       "      <td>65043.0</td>\n",
       "    </tr>\n",
       "    <tr>\n",
       "      <th>7661</th>\n",
       "      <td>2021-06-30</td>\n",
       "      <td>6</td>\n",
       "      <td>2</td>\n",
       "      <td>1</td>\n",
       "      <td>0</td>\n",
       "      <td>0</td>\n",
       "      <td>126786.198510</td>\n",
       "      <td>1377450.0</td>\n",
       "      <td>3795.708919</td>\n",
       "      <td>370.0</td>\n",
       "      <td>...</td>\n",
       "      <td>537.67390</td>\n",
       "      <td>6613</td>\n",
       "      <td>6404</td>\n",
       "      <td>3415.120500</td>\n",
       "      <td>75581.93360</td>\n",
       "      <td>79.156000</td>\n",
       "      <td>82469.66900</td>\n",
       "      <td>98.795600</td>\n",
       "      <td>5148.340800</td>\n",
       "      <td>41235.0</td>\n",
       "    </tr>\n",
       "  </tbody>\n",
       "</table>\n",
       "<p>120 rows × 43 columns</p>\n",
       "</div>"
      ],
      "text/plain": [
       "              일자  월  요일  코로나발생여부  주말및공휴일여부  성수기여부          회당배출량    일배출금액합계  \\\n",
       "7542  2021-06-11  6   4        1         0      0  301193.131999  6910600.0   \n",
       "7543  2021-06-11  6   4        1         0      0   58066.481909   551600.0   \n",
       "7544  2021-06-11  6   4        1         0      0    8000.000000    96000.0   \n",
       "7545  2021-06-11  6   4        1         0      0  359162.575110  3033000.0   \n",
       "7546  2021-06-11  6   4        1         0      0  276179.452815  1980350.0   \n",
       "...          ... ..  ..      ...       ...    ...            ...        ...   \n",
       "7657  2021-06-30  6   2        1         0      0   51950.921215   597050.0   \n",
       "7658  2021-06-30  6   2        1         0      0    5603.333333    84050.0   \n",
       "7659  2021-06-30  6   2        1         0      0  330611.583180  3367800.0   \n",
       "7660  2021-06-30  6   2        1         0      0  270625.539646  2175450.0   \n",
       "7661  2021-06-30  6   2        1         0      0  126786.198510  1377450.0   \n",
       "\n",
       "            회당배출금액  일배출횟수합계  ...     장외_근무평균  남_총거주  남_내거주       저녁_근무인구  \\\n",
       "7542   9003.268189   3824.0  ...  3239.07480  28329  27178  23431.035500   \n",
       "7543   1736.259557    250.0  ...   521.99480   1770   1728    789.718300   \n",
       "7544    239.833333     12.0  ...  1523.20655   8499   8210   5768.770846   \n",
       "7545  10743.934505   1248.0  ...  2524.41830  19528  19062  12684.840100   \n",
       "7546   8259.197318    814.0  ...   685.13470  13289  13010   8116.889900   \n",
       "...            ...      ...  ...         ...    ...    ...           ...   \n",
       "7657   1554.027748    292.0  ...   529.26770   1728   1687    661.321100   \n",
       "7658    167.800000     15.0  ...  1188.81465   8525   8236   5952.102910   \n",
       "7659   9887.247688   1449.0  ...  1848.36160  19639  19173  13497.829900   \n",
       "7660   8094.886784    981.0  ...   760.44690  13306  13028   8691.385300   \n",
       "7661   3795.708919    370.0  ...   537.67390   6613   6404   3415.120500   \n",
       "\n",
       "           여성_방문평균  저녁_장외_근무인구       남성_방문평균  점심_장외_근무인구       점심_근무인구  \\\n",
       "7542  225145.91480  654.935900  242869.28600  567.552200  24863.835600   \n",
       "7543   30890.80140   81.030000   35537.87960   63.204200    921.844300   \n",
       "7544  138427.59365  128.397324  148601.99620  137.440178   7195.508063   \n",
       "7545  245964.38590  385.082900  261666.11280  402.600000  17569.873100   \n",
       "7546  121765.36590  140.883600  126398.97810  161.712200  11461.570700   \n",
       "...            ...         ...           ...         ...           ...   \n",
       "7657   38523.04120   46.870900   40695.89140  122.573600    843.805400   \n",
       "7658  167482.92120  116.298459  181531.77955  122.421432   7295.254629   \n",
       "7659  296442.80120  232.873900  322367.66770  287.497000  17820.560000   \n",
       "7660  153869.57600  140.981300  166143.04570  152.460800  11667.667000   \n",
       "7661   75581.93360   79.156000   82469.66900   98.795600   5148.340800   \n",
       "\n",
       "       일별배출량합계  \n",
       "7542  206393.0  \n",
       "7543   16490.0  \n",
       "7544    2878.0  \n",
       "7545   90702.0  \n",
       "7546   59216.0  \n",
       "...        ...  \n",
       "7657   17849.0  \n",
       "7658    2517.0  \n",
       "7659  100714.0  \n",
       "7660   65043.0  \n",
       "7661   41235.0  \n",
       "\n",
       "[120 rows x 43 columns]"
      ]
     },
     "execution_count": 76,
     "metadata": {},
     "output_type": "execute_result"
    }
   ],
   "source": [
    "final_test_data"
   ]
  },
  {
   "cell_type": "code",
   "execution_count": 84,
   "metadata": {},
   "outputs": [],
   "source": [
    "final_test_data = final_test_data.set_index(['일자'])"
   ]
  },
  {
   "cell_type": "code",
   "execution_count": 87,
   "metadata": {
    "scrolled": true
   },
   "outputs": [],
   "source": [
    "final_test_data = final_test_data[['회당배출량', '일배출금액합계', '회당배출금액', '일배출횟수합계', '일별배출량합계']]"
   ]
  },
  {
   "cell_type": "code",
   "execution_count": 88,
   "metadata": {
    "colab": {
     "base_uri": "https://localhost:8080/",
     "height": 428
    },
    "id": "znrmn2qA3UNA",
    "outputId": "e12b383b-21f1-41d7-a765-970c20e2ba9f",
    "scrolled": true
   },
   "outputs": [],
   "source": [
    "a = scaler.transform(final_test_data)"
   ]
  },
  {
   "cell_type": "code",
   "execution_count": 89,
   "metadata": {},
   "outputs": [
    {
     "data": {
      "text/plain": [
       "(1, 120, 5)"
      ]
     },
     "execution_count": 89,
     "metadata": {},
     "output_type": "execute_result"
    }
   ],
   "source": [
    "np.asarray([a]).shape"
   ]
  },
  {
   "cell_type": "code",
   "execution_count": 90,
   "metadata": {},
   "outputs": [],
   "source": [
    "y_pred,_ = model.predict(np.asarray([a]))"
   ]
  },
  {
   "cell_type": "code",
   "execution_count": 91,
   "metadata": {},
   "outputs": [],
   "source": [
    "y_pred = preprocessor.y_scaler.inverse_transform(y_pred.reshape(-1, 1))"
   ]
  },
  {
   "cell_type": "code",
   "execution_count": 97,
   "metadata": {},
   "outputs": [],
   "source": [
    "final_test_data = data[-look_back_window:]"
   ]
  },
  {
   "cell_type": "code",
   "execution_count": 101,
   "metadata": {},
   "outputs": [],
   "source": [
    "final_dong_list = []\n",
    "final_dong_list.append('알수없음')"
   ]
  },
  {
   "cell_type": "code",
   "execution_count": 103,
   "metadata": {},
   "outputs": [],
   "source": [
    "final_dong_cluster_3_unknown = list(final_dong_list) * int(y_pred.shape[0] / len(final_dong_list))"
   ]
  },
  {
   "cell_type": "code",
   "execution_count": 106,
   "metadata": {},
   "outputs": [],
   "source": [
    "final_result = pd.DataFrame(np.vstack([final_dong_cluster_3_unknown, np.reshape(y_pred, (y_pred.shape[0]))]).T, columns=['읍면동','7_8월예측값'])"
   ]
  },
  {
   "cell_type": "code",
   "execution_count": 107,
   "metadata": {},
   "outputs": [
    {
     "data": {
      "text/html": [
       "<div>\n",
       "<style scoped>\n",
       "    .dataframe tbody tr th:only-of-type {\n",
       "        vertical-align: middle;\n",
       "    }\n",
       "\n",
       "    .dataframe tbody tr th {\n",
       "        vertical-align: top;\n",
       "    }\n",
       "\n",
       "    .dataframe thead th {\n",
       "        text-align: right;\n",
       "    }\n",
       "</style>\n",
       "<table border=\"1\" class=\"dataframe\">\n",
       "  <thead>\n",
       "    <tr style=\"text-align: right;\">\n",
       "      <th></th>\n",
       "      <th>읍면동</th>\n",
       "      <th>7_8월예측값</th>\n",
       "    </tr>\n",
       "  </thead>\n",
       "  <tbody>\n",
       "    <tr>\n",
       "      <th>0</th>\n",
       "      <td>알수없음</td>\n",
       "      <td>-200.17227</td>\n",
       "    </tr>\n",
       "    <tr>\n",
       "      <th>1</th>\n",
       "      <td>알수없음</td>\n",
       "      <td>8990.851</td>\n",
       "    </tr>\n",
       "    <tr>\n",
       "      <th>2</th>\n",
       "      <td>알수없음</td>\n",
       "      <td>15443.472</td>\n",
       "    </tr>\n",
       "    <tr>\n",
       "      <th>3</th>\n",
       "      <td>알수없음</td>\n",
       "      <td>4827.9077</td>\n",
       "    </tr>\n",
       "    <tr>\n",
       "      <th>4</th>\n",
       "      <td>알수없음</td>\n",
       "      <td>16114.959</td>\n",
       "    </tr>\n",
       "    <tr>\n",
       "      <th>...</th>\n",
       "      <td>...</td>\n",
       "      <td>...</td>\n",
       "    </tr>\n",
       "    <tr>\n",
       "      <th>57</th>\n",
       "      <td>알수없음</td>\n",
       "      <td>11926.103</td>\n",
       "    </tr>\n",
       "    <tr>\n",
       "      <th>58</th>\n",
       "      <td>알수없음</td>\n",
       "      <td>8472.558</td>\n",
       "    </tr>\n",
       "    <tr>\n",
       "      <th>59</th>\n",
       "      <td>알수없음</td>\n",
       "      <td>13775.71</td>\n",
       "    </tr>\n",
       "    <tr>\n",
       "      <th>60</th>\n",
       "      <td>알수없음</td>\n",
       "      <td>9318.301</td>\n",
       "    </tr>\n",
       "    <tr>\n",
       "      <th>61</th>\n",
       "      <td>알수없음</td>\n",
       "      <td>9781.31</td>\n",
       "    </tr>\n",
       "  </tbody>\n",
       "</table>\n",
       "<p>62 rows × 2 columns</p>\n",
       "</div>"
      ],
      "text/plain": [
       "     읍면동     7_8월예측값\n",
       "0   알수없음  -200.17227\n",
       "1   알수없음    8990.851\n",
       "2   알수없음   15443.472\n",
       "3   알수없음   4827.9077\n",
       "4   알수없음   16114.959\n",
       "..   ...         ...\n",
       "57  알수없음   11926.103\n",
       "58  알수없음    8472.558\n",
       "59  알수없음    13775.71\n",
       "60  알수없음    9318.301\n",
       "61  알수없음     9781.31\n",
       "\n",
       "[62 rows x 2 columns]"
      ]
     },
     "execution_count": 107,
     "metadata": {},
     "output_type": "execute_result"
    }
   ],
   "source": [
    "final_result"
   ]
  },
  {
   "cell_type": "code",
   "execution_count": 108,
   "metadata": {},
   "outputs": [],
   "source": [
    "final_result.to_csv(f'../data/processed_data/cluster_{cluster_num}_unknown_final_result.csv', encoding = 'cp949', index = False)"
   ]
  }
 ],
 "metadata": {
  "accelerator": "GPU",
  "colab": {
   "collapsed_sections": [],
   "name": "빅콘_모델링-2021-09-12.ipynb",
   "provenance": []
  },
  "kernelspec": {
   "display_name": "Python 3",
   "language": "python",
   "name": "python3"
  },
  "language_info": {
   "codemirror_mode": {
    "name": "ipython",
    "version": 3
   },
   "file_extension": ".py",
   "mimetype": "text/x-python",
   "name": "python",
   "nbconvert_exporter": "python",
   "pygments_lexer": "ipython3",
   "version": "3.7.9"
  }
 },
 "nbformat": 4,
 "nbformat_minor": 1
}
