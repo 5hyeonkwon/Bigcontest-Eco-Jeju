{
 "cells": [
  {
   "cell_type": "markdown",
   "metadata": {},
   "source": [
    "# 0-1. 남성 월별 거주인구 -> 일별 거주인구"
   ]
  },
  {
   "cell_type": "markdown",
   "metadata": {},
   "source": [
    "- 거주인구데이터가 월별로 되어있기 때문에 에측에 사용하기 위해 일별 변환\n",
    "- 정규분포를 따르는 난수추출 방식을 사용"
   ]
  },
  {
   "cell_type": "code",
   "execution_count": 1,
   "metadata": {},
   "outputs": [],
   "source": [
    "import pandas as pd\n",
    "import numpy as np\n",
    "import matplotlib.pylab as plt\n",
    "import seaborn as sns\n",
    "import time"
   ]
  },
  {
   "cell_type": "code",
   "execution_count": 2,
   "metadata": {},
   "outputs": [],
   "source": [
    "Data_5 = pd.read_csv('../data/train_data/03_거주인구_RESIDENT_POP.CSV',encoding='cp949')"
   ]
  },
  {
   "cell_type": "code",
   "execution_count": 3,
   "metadata": {},
   "outputs": [
    {
     "data": {
      "text/html": [
       "<div>\n",
       "<style scoped>\n",
       "    .dataframe tbody tr th:only-of-type {\n",
       "        vertical-align: middle;\n",
       "    }\n",
       "\n",
       "    .dataframe tbody tr th {\n",
       "        vertical-align: top;\n",
       "    }\n",
       "\n",
       "    .dataframe thead th {\n",
       "        text-align: right;\n",
       "    }\n",
       "</style>\n",
       "<table border=\"1\" class=\"dataframe\">\n",
       "  <thead>\n",
       "    <tr style=\"text-align: right;\">\n",
       "      <th></th>\n",
       "      <th>base_year</th>\n",
       "      <th>base_month</th>\n",
       "      <th>city</th>\n",
       "      <th>emd_cd</th>\n",
       "      <th>emd_nm</th>\n",
       "      <th>sex</th>\n",
       "      <th>resid_reg_pop</th>\n",
       "      <th>foreign_pop</th>\n",
       "      <th>total_pop</th>\n",
       "    </tr>\n",
       "  </thead>\n",
       "  <tbody>\n",
       "    <tr>\n",
       "      <th>0</th>\n",
       "      <td>2018</td>\n",
       "      <td>1</td>\n",
       "      <td>제주시</td>\n",
       "      <td>50110590</td>\n",
       "      <td>건입동</td>\n",
       "      <td>남성</td>\n",
       "      <td>5085</td>\n",
       "      <td>146</td>\n",
       "      <td>5231</td>\n",
       "    </tr>\n",
       "    <tr>\n",
       "      <th>1</th>\n",
       "      <td>2018</td>\n",
       "      <td>1</td>\n",
       "      <td>제주시</td>\n",
       "      <td>50110590</td>\n",
       "      <td>건입동</td>\n",
       "      <td>여성</td>\n",
       "      <td>4715</td>\n",
       "      <td>82</td>\n",
       "      <td>4797</td>\n",
       "    </tr>\n",
       "    <tr>\n",
       "      <th>2</th>\n",
       "      <td>2018</td>\n",
       "      <td>1</td>\n",
       "      <td>제주시</td>\n",
       "      <td>50110256</td>\n",
       "      <td>구좌읍</td>\n",
       "      <td>남성</td>\n",
       "      <td>7965</td>\n",
       "      <td>368</td>\n",
       "      <td>8333</td>\n",
       "    </tr>\n",
       "    <tr>\n",
       "      <th>3</th>\n",
       "      <td>2018</td>\n",
       "      <td>1</td>\n",
       "      <td>제주시</td>\n",
       "      <td>50110256</td>\n",
       "      <td>구좌읍</td>\n",
       "      <td>여성</td>\n",
       "      <td>7609</td>\n",
       "      <td>184</td>\n",
       "      <td>7793</td>\n",
       "    </tr>\n",
       "    <tr>\n",
       "      <th>4</th>\n",
       "      <td>2018</td>\n",
       "      <td>1</td>\n",
       "      <td>서귀포시</td>\n",
       "      <td>50130253</td>\n",
       "      <td>남원읍</td>\n",
       "      <td>남성</td>\n",
       "      <td>9806</td>\n",
       "      <td>428</td>\n",
       "      <td>10234</td>\n",
       "    </tr>\n",
       "    <tr>\n",
       "      <th>...</th>\n",
       "      <td>...</td>\n",
       "      <td>...</td>\n",
       "      <td>...</td>\n",
       "      <td>...</td>\n",
       "      <td>...</td>\n",
       "      <td>...</td>\n",
       "      <td>...</td>\n",
       "      <td>...</td>\n",
       "      <td>...</td>\n",
       "    </tr>\n",
       "    <tr>\n",
       "      <th>3607</th>\n",
       "      <td>2021</td>\n",
       "      <td>6</td>\n",
       "      <td>제주시</td>\n",
       "      <td>50110250</td>\n",
       "      <td>한림읍</td>\n",
       "      <td>여성</td>\n",
       "      <td>10341</td>\n",
       "      <td>1140</td>\n",
       "      <td>11481</td>\n",
       "    </tr>\n",
       "    <tr>\n",
       "      <th>3608</th>\n",
       "      <td>2021</td>\n",
       "      <td>6</td>\n",
       "      <td>제주시</td>\n",
       "      <td>50110600</td>\n",
       "      <td>화북동</td>\n",
       "      <td>남성</td>\n",
       "      <td>12062</td>\n",
       "      <td>169</td>\n",
       "      <td>12231</td>\n",
       "    </tr>\n",
       "    <tr>\n",
       "      <th>3609</th>\n",
       "      <td>2021</td>\n",
       "      <td>6</td>\n",
       "      <td>제주시</td>\n",
       "      <td>50110600</td>\n",
       "      <td>화북동</td>\n",
       "      <td>여성</td>\n",
       "      <td>12238</td>\n",
       "      <td>161</td>\n",
       "      <td>12399</td>\n",
       "    </tr>\n",
       "    <tr>\n",
       "      <th>3610</th>\n",
       "      <td>2021</td>\n",
       "      <td>6</td>\n",
       "      <td>서귀포시</td>\n",
       "      <td>50130550</td>\n",
       "      <td>효돈동</td>\n",
       "      <td>남성</td>\n",
       "      <td>2660</td>\n",
       "      <td>39</td>\n",
       "      <td>2699</td>\n",
       "    </tr>\n",
       "    <tr>\n",
       "      <th>3611</th>\n",
       "      <td>2021</td>\n",
       "      <td>6</td>\n",
       "      <td>서귀포시</td>\n",
       "      <td>50130550</td>\n",
       "      <td>효돈동</td>\n",
       "      <td>여성</td>\n",
       "      <td>2597</td>\n",
       "      <td>18</td>\n",
       "      <td>2615</td>\n",
       "    </tr>\n",
       "  </tbody>\n",
       "</table>\n",
       "<p>3612 rows × 9 columns</p>\n",
       "</div>"
      ],
      "text/plain": [
       "      base_year  base_month  city    emd_cd emd_nm sex  resid_reg_pop  \\\n",
       "0          2018           1   제주시  50110590    건입동  남성           5085   \n",
       "1          2018           1   제주시  50110590    건입동  여성           4715   \n",
       "2          2018           1   제주시  50110256    구좌읍  남성           7965   \n",
       "3          2018           1   제주시  50110256    구좌읍  여성           7609   \n",
       "4          2018           1  서귀포시  50130253    남원읍  남성           9806   \n",
       "...         ...         ...   ...       ...    ...  ..            ...   \n",
       "3607       2021           6   제주시  50110250    한림읍  여성          10341   \n",
       "3608       2021           6   제주시  50110600    화북동  남성          12062   \n",
       "3609       2021           6   제주시  50110600    화북동  여성          12238   \n",
       "3610       2021           6  서귀포시  50130550    효돈동  남성           2660   \n",
       "3611       2021           6  서귀포시  50130550    효돈동  여성           2597   \n",
       "\n",
       "      foreign_pop  total_pop  \n",
       "0             146       5231  \n",
       "1              82       4797  \n",
       "2             368       8333  \n",
       "3             184       7793  \n",
       "4             428      10234  \n",
       "...           ...        ...  \n",
       "3607         1140      11481  \n",
       "3608          169      12231  \n",
       "3609          161      12399  \n",
       "3610           39       2699  \n",
       "3611           18       2615  \n",
       "\n",
       "[3612 rows x 9 columns]"
      ]
     },
     "execution_count": 3,
     "metadata": {},
     "output_type": "execute_result"
    }
   ],
   "source": [
    "Data_5"
   ]
  },
  {
   "cell_type": "code",
   "execution_count": 4,
   "metadata": {},
   "outputs": [],
   "source": [
    "Data_5 = Data_5.astype({'base_year': 'str', 'base_month' : 'str'})\n",
    "Data_5['base_date'] = Data_5['base_year'] + '-' + Data_5['base_month']"
   ]
  },
  {
   "cell_type": "code",
   "execution_count": 5,
   "metadata": {},
   "outputs": [],
   "source": [
    "Data_5['base_date'] = Data_5['base_date'].apply(lambda x: x.replace('-','-0') if len(x)==6 else x)"
   ]
  },
  {
   "cell_type": "code",
   "execution_count": 6,
   "metadata": {},
   "outputs": [],
   "source": [
    "Data_5 = Data_5.drop(['city','emd_cd','base_year','base_month'],axis=1)"
   ]
  },
  {
   "cell_type": "code",
   "execution_count": 7,
   "metadata": {},
   "outputs": [],
   "source": [
    "Data_5 = Data_5.groupby(['base_date','emd_nm','sex']).sum().reset_index()"
   ]
  },
  {
   "cell_type": "code",
   "execution_count": 8,
   "metadata": {},
   "outputs": [],
   "source": [
    "Data_5 = Data_5[Data_5['sex']=='남성']\n",
    "Data_5.drop('sex',axis=1,inplace=True)"
   ]
  },
  {
   "cell_type": "code",
   "execution_count": 9,
   "metadata": {},
   "outputs": [],
   "source": [
    "Data_5 = Data_5.drop(Data_5[Data_5.emd_nm == '우도면'].index)"
   ]
  },
  {
   "cell_type": "code",
   "execution_count": 10,
   "metadata": {},
   "outputs": [],
   "source": [
    "Data_5 = Data_5.drop(Data_5[Data_5.emd_nm == '추자면'].index)"
   ]
  },
  {
   "cell_type": "code",
   "execution_count": 11,
   "metadata": {},
   "outputs": [],
   "source": [
    "Date = pd.date_range('2018-01-01','2021-06-30',freq=\"D\")"
   ]
  },
  {
   "cell_type": "code",
   "execution_count": 12,
   "metadata": {},
   "outputs": [],
   "source": [
    "emd = Data_5.emd_nm.unique()"
   ]
  },
  {
   "cell_type": "code",
   "execution_count": 13,
   "metadata": {
    "scrolled": true
   },
   "outputs": [],
   "source": [
    "Date_df = pd.DataFrame(Date)\n",
    "Date_df.columns = ['Date']"
   ]
  },
  {
   "cell_type": "code",
   "execution_count": 14,
   "metadata": {
    "scrolled": true
   },
   "outputs": [],
   "source": [
    "emd_df = pd.DataFrame(emd)\n",
    "emd_df.columns = ['emd_nm']"
   ]
  },
  {
   "cell_type": "code",
   "execution_count": 15,
   "metadata": {},
   "outputs": [],
   "source": [
    "Date_new = []\n",
    "for i in range(len(Date)):\n",
    "    Date_new.append(str(Date[i]))"
   ]
  },
  {
   "cell_type": "code",
   "execution_count": 16,
   "metadata": {},
   "outputs": [],
   "source": [
    "Data_renew = []\n",
    "for i in range(len(Date_new)):\n",
    "    Data_renew.append(Date_new[i][:10])"
   ]
  },
  {
   "cell_type": "code",
   "execution_count": 17,
   "metadata": {},
   "outputs": [],
   "source": [
    "import itertools\n",
    "result = itertools.product(Data_renew, emd)\n",
    "result = list(result)"
   ]
  },
  {
   "cell_type": "code",
   "execution_count": 18,
   "metadata": {},
   "outputs": [
    {
     "data": {
      "text/plain": [
       "52357"
      ]
     },
     "execution_count": 18,
     "metadata": {},
     "output_type": "execute_result"
    }
   ],
   "source": [
    "len(result)"
   ]
  },
  {
   "cell_type": "code",
   "execution_count": 19,
   "metadata": {},
   "outputs": [
    {
     "data": {
      "text/plain": [
       "41"
      ]
     },
     "execution_count": 19,
     "metadata": {},
     "output_type": "execute_result"
    }
   ],
   "source": [
    "len(emd)"
   ]
  },
  {
   "cell_type": "code",
   "execution_count": 20,
   "metadata": {},
   "outputs": [
    {
     "data": {
      "text/plain": [
       "1277"
      ]
     },
     "execution_count": 20,
     "metadata": {},
     "output_type": "execute_result"
    }
   ],
   "source": [
    "len(Data_renew)"
   ]
  },
  {
   "cell_type": "code",
   "execution_count": 21,
   "metadata": {
    "scrolled": true
   },
   "outputs": [],
   "source": [
    "df = pd.DataFrame(list(result))\n",
    "df.columns = ['base_date','emd_nm']"
   ]
  },
  {
   "cell_type": "code",
   "execution_count": 22,
   "metadata": {},
   "outputs": [],
   "source": [
    "df = df.sort_values(by=['emd_nm','base_date'])\n",
    "df = df.reset_index()\n",
    "df = df.drop('index',axis=1)"
   ]
  },
  {
   "cell_type": "code",
   "execution_count": 23,
   "metadata": {},
   "outputs": [],
   "source": [
    "Data_5 = Data_5.sort_values(by=['emd_nm','base_date'])\n",
    "Data_5 = Data_5.reset_index()\n",
    "Data_5 = Data_5.drop('index',axis=1)"
   ]
  },
  {
   "cell_type": "code",
   "execution_count": 24,
   "metadata": {},
   "outputs": [],
   "source": [
    "size = [31,28,31,30,31,30,31,31,30,31,30,31,31,28,31,30,31,30,31,31,30,31,30,31,31,29,31,30,31,30,31,31,30,31,30,31,31,28,31,30,31,30]"
   ]
  },
  {
   "cell_type": "code",
   "execution_count": 25,
   "metadata": {},
   "outputs": [],
   "source": [
    "size = size*41"
   ]
  },
  {
   "cell_type": "code",
   "execution_count": 26,
   "metadata": {},
   "outputs": [],
   "source": [
    "resid_pop = []\n",
    "for i in range(len(Data_5)):\n",
    "    a=list(np.random.normal(Data_5['resid_reg_pop'][i], 50,size=size[i]).astype('int'))\n",
    "    resid_pop.extend(a)"
   ]
  },
  {
   "cell_type": "code",
   "execution_count": 27,
   "metadata": {},
   "outputs": [],
   "source": [
    "df['resid_pop'] = resid_pop"
   ]
  },
  {
   "cell_type": "code",
   "execution_count": 28,
   "metadata": {},
   "outputs": [],
   "source": [
    "foreign_pop = []\n",
    "for i in range(len(Data_5)):\n",
    "    a=list(np.random.normal(Data_5['foreign_pop'][i], size=size[i]).astype('int'))\n",
    "    foreign_pop.extend(a)"
   ]
  },
  {
   "cell_type": "code",
   "execution_count": 29,
   "metadata": {},
   "outputs": [],
   "source": [
    "df['foreign_pop'] = foreign_pop"
   ]
  },
  {
   "cell_type": "code",
   "execution_count": 30,
   "metadata": {},
   "outputs": [],
   "source": [
    "df['total_pop'] = df['resid_pop'] + df['foreign_pop']"
   ]
  },
  {
   "cell_type": "code",
   "execution_count": 31,
   "metadata": {},
   "outputs": [
    {
     "data": {
      "text/html": [
       "<div>\n",
       "<style scoped>\n",
       "    .dataframe tbody tr th:only-of-type {\n",
       "        vertical-align: middle;\n",
       "    }\n",
       "\n",
       "    .dataframe tbody tr th {\n",
       "        vertical-align: top;\n",
       "    }\n",
       "\n",
       "    .dataframe thead th {\n",
       "        text-align: right;\n",
       "    }\n",
       "</style>\n",
       "<table border=\"1\" class=\"dataframe\">\n",
       "  <thead>\n",
       "    <tr style=\"text-align: right;\">\n",
       "      <th></th>\n",
       "      <th>base_date</th>\n",
       "      <th>emd_nm</th>\n",
       "      <th>resid_pop</th>\n",
       "      <th>foreign_pop</th>\n",
       "      <th>total_pop</th>\n",
       "    </tr>\n",
       "  </thead>\n",
       "  <tbody>\n",
       "    <tr>\n",
       "      <th>0</th>\n",
       "      <td>2018-01-01</td>\n",
       "      <td>건입동</td>\n",
       "      <td>5161</td>\n",
       "      <td>146</td>\n",
       "      <td>5307</td>\n",
       "    </tr>\n",
       "    <tr>\n",
       "      <th>1</th>\n",
       "      <td>2018-01-02</td>\n",
       "      <td>건입동</td>\n",
       "      <td>5013</td>\n",
       "      <td>145</td>\n",
       "      <td>5158</td>\n",
       "    </tr>\n",
       "    <tr>\n",
       "      <th>2</th>\n",
       "      <td>2018-01-03</td>\n",
       "      <td>건입동</td>\n",
       "      <td>5220</td>\n",
       "      <td>146</td>\n",
       "      <td>5366</td>\n",
       "    </tr>\n",
       "    <tr>\n",
       "      <th>3</th>\n",
       "      <td>2018-01-04</td>\n",
       "      <td>건입동</td>\n",
       "      <td>5082</td>\n",
       "      <td>146</td>\n",
       "      <td>5228</td>\n",
       "    </tr>\n",
       "    <tr>\n",
       "      <th>4</th>\n",
       "      <td>2018-01-05</td>\n",
       "      <td>건입동</td>\n",
       "      <td>5108</td>\n",
       "      <td>146</td>\n",
       "      <td>5254</td>\n",
       "    </tr>\n",
       "    <tr>\n",
       "      <th>...</th>\n",
       "      <td>...</td>\n",
       "      <td>...</td>\n",
       "      <td>...</td>\n",
       "      <td>...</td>\n",
       "      <td>...</td>\n",
       "    </tr>\n",
       "    <tr>\n",
       "      <th>52352</th>\n",
       "      <td>2021-06-26</td>\n",
       "      <td>효돈동</td>\n",
       "      <td>2685</td>\n",
       "      <td>39</td>\n",
       "      <td>2724</td>\n",
       "    </tr>\n",
       "    <tr>\n",
       "      <th>52353</th>\n",
       "      <td>2021-06-27</td>\n",
       "      <td>효돈동</td>\n",
       "      <td>2677</td>\n",
       "      <td>38</td>\n",
       "      <td>2715</td>\n",
       "    </tr>\n",
       "    <tr>\n",
       "      <th>52354</th>\n",
       "      <td>2021-06-28</td>\n",
       "      <td>효돈동</td>\n",
       "      <td>2790</td>\n",
       "      <td>40</td>\n",
       "      <td>2830</td>\n",
       "    </tr>\n",
       "    <tr>\n",
       "      <th>52355</th>\n",
       "      <td>2021-06-29</td>\n",
       "      <td>효돈동</td>\n",
       "      <td>2621</td>\n",
       "      <td>38</td>\n",
       "      <td>2659</td>\n",
       "    </tr>\n",
       "    <tr>\n",
       "      <th>52356</th>\n",
       "      <td>2021-06-30</td>\n",
       "      <td>효돈동</td>\n",
       "      <td>2627</td>\n",
       "      <td>37</td>\n",
       "      <td>2664</td>\n",
       "    </tr>\n",
       "  </tbody>\n",
       "</table>\n",
       "<p>52357 rows × 5 columns</p>\n",
       "</div>"
      ],
      "text/plain": [
       "        base_date emd_nm  resid_pop  foreign_pop  total_pop\n",
       "0      2018-01-01    건입동       5161          146       5307\n",
       "1      2018-01-02    건입동       5013          145       5158\n",
       "2      2018-01-03    건입동       5220          146       5366\n",
       "3      2018-01-04    건입동       5082          146       5228\n",
       "4      2018-01-05    건입동       5108          146       5254\n",
       "...           ...    ...        ...          ...        ...\n",
       "52352  2021-06-26    효돈동       2685           39       2724\n",
       "52353  2021-06-27    효돈동       2677           38       2715\n",
       "52354  2021-06-28    효돈동       2790           40       2830\n",
       "52355  2021-06-29    효돈동       2621           38       2659\n",
       "52356  2021-06-30    효돈동       2627           37       2664\n",
       "\n",
       "[52357 rows x 5 columns]"
      ]
     },
     "execution_count": 31,
     "metadata": {},
     "output_type": "execute_result"
    }
   ],
   "source": [
    "df"
   ]
  },
  {
   "cell_type": "markdown",
   "metadata": {},
   "source": [
    "## 0-1-1. emd_nm 의 '알수없음'은 해당일 전체 읍면동 거주인구를 평균을 냄"
   ]
  },
  {
   "cell_type": "code",
   "execution_count": 32,
   "metadata": {},
   "outputs": [],
   "source": [
    "unknown = df.groupby('base_date').mean().reset_index()"
   ]
  },
  {
   "cell_type": "code",
   "execution_count": 33,
   "metadata": {},
   "outputs": [],
   "source": [
    "unknown['emd_nm'] = '알수없음'"
   ]
  },
  {
   "cell_type": "code",
   "execution_count": 34,
   "metadata": {},
   "outputs": [],
   "source": [
    "unknown['resid_pop'] = unknown['resid_pop'].astype('int')"
   ]
  },
  {
   "cell_type": "code",
   "execution_count": 35,
   "metadata": {},
   "outputs": [],
   "source": [
    "unknown['foreign_pop'] = unknown['foreign_pop'].astype('int')"
   ]
  },
  {
   "cell_type": "code",
   "execution_count": 36,
   "metadata": {},
   "outputs": [],
   "source": [
    "unknown['total_pop'] = unknown['total_pop'].astype('int')"
   ]
  },
  {
   "cell_type": "code",
   "execution_count": 37,
   "metadata": {},
   "outputs": [
    {
     "data": {
      "text/html": [
       "<div>\n",
       "<style scoped>\n",
       "    .dataframe tbody tr th:only-of-type {\n",
       "        vertical-align: middle;\n",
       "    }\n",
       "\n",
       "    .dataframe tbody tr th {\n",
       "        vertical-align: top;\n",
       "    }\n",
       "\n",
       "    .dataframe thead th {\n",
       "        text-align: right;\n",
       "    }\n",
       "</style>\n",
       "<table border=\"1\" class=\"dataframe\">\n",
       "  <thead>\n",
       "    <tr style=\"text-align: right;\">\n",
       "      <th></th>\n",
       "      <th>base_date</th>\n",
       "      <th>resid_pop</th>\n",
       "      <th>foreign_pop</th>\n",
       "      <th>total_pop</th>\n",
       "      <th>emd_nm</th>\n",
       "    </tr>\n",
       "  </thead>\n",
       "  <tbody>\n",
       "    <tr>\n",
       "      <th>0</th>\n",
       "      <td>2018-01-01</td>\n",
       "      <td>8016</td>\n",
       "      <td>282</td>\n",
       "      <td>8299</td>\n",
       "      <td>알수없음</td>\n",
       "    </tr>\n",
       "    <tr>\n",
       "      <th>1</th>\n",
       "      <td>2018-01-02</td>\n",
       "      <td>8031</td>\n",
       "      <td>282</td>\n",
       "      <td>8314</td>\n",
       "      <td>알수없음</td>\n",
       "    </tr>\n",
       "    <tr>\n",
       "      <th>2</th>\n",
       "      <td>2018-01-03</td>\n",
       "      <td>8036</td>\n",
       "      <td>282</td>\n",
       "      <td>8319</td>\n",
       "      <td>알수없음</td>\n",
       "    </tr>\n",
       "    <tr>\n",
       "      <th>3</th>\n",
       "      <td>2018-01-04</td>\n",
       "      <td>8040</td>\n",
       "      <td>282</td>\n",
       "      <td>8323</td>\n",
       "      <td>알수없음</td>\n",
       "    </tr>\n",
       "    <tr>\n",
       "      <th>4</th>\n",
       "      <td>2018-01-05</td>\n",
       "      <td>8016</td>\n",
       "      <td>282</td>\n",
       "      <td>8299</td>\n",
       "      <td>알수없음</td>\n",
       "    </tr>\n",
       "    <tr>\n",
       "      <th>...</th>\n",
       "      <td>...</td>\n",
       "      <td>...</td>\n",
       "      <td>...</td>\n",
       "      <td>...</td>\n",
       "      <td>...</td>\n",
       "    </tr>\n",
       "    <tr>\n",
       "      <th>1272</th>\n",
       "      <td>2021-06-26</td>\n",
       "      <td>8217</td>\n",
       "      <td>288</td>\n",
       "      <td>8506</td>\n",
       "      <td>알수없음</td>\n",
       "    </tr>\n",
       "    <tr>\n",
       "      <th>1273</th>\n",
       "      <td>2021-06-27</td>\n",
       "      <td>8229</td>\n",
       "      <td>288</td>\n",
       "      <td>8517</td>\n",
       "      <td>알수없음</td>\n",
       "    </tr>\n",
       "    <tr>\n",
       "      <th>1274</th>\n",
       "      <td>2021-06-28</td>\n",
       "      <td>8221</td>\n",
       "      <td>288</td>\n",
       "      <td>8510</td>\n",
       "      <td>알수없음</td>\n",
       "    </tr>\n",
       "    <tr>\n",
       "      <th>1275</th>\n",
       "      <td>2021-06-29</td>\n",
       "      <td>8217</td>\n",
       "      <td>288</td>\n",
       "      <td>8506</td>\n",
       "      <td>알수없음</td>\n",
       "    </tr>\n",
       "    <tr>\n",
       "      <th>1276</th>\n",
       "      <td>2021-06-30</td>\n",
       "      <td>8217</td>\n",
       "      <td>288</td>\n",
       "      <td>8505</td>\n",
       "      <td>알수없음</td>\n",
       "    </tr>\n",
       "  </tbody>\n",
       "</table>\n",
       "<p>1277 rows × 5 columns</p>\n",
       "</div>"
      ],
      "text/plain": [
       "       base_date  resid_pop  foreign_pop  total_pop emd_nm\n",
       "0     2018-01-01       8016          282       8299   알수없음\n",
       "1     2018-01-02       8031          282       8314   알수없음\n",
       "2     2018-01-03       8036          282       8319   알수없음\n",
       "3     2018-01-04       8040          282       8323   알수없음\n",
       "4     2018-01-05       8016          282       8299   알수없음\n",
       "...          ...        ...          ...        ...    ...\n",
       "1272  2021-06-26       8217          288       8506   알수없음\n",
       "1273  2021-06-27       8229          288       8517   알수없음\n",
       "1274  2021-06-28       8221          288       8510   알수없음\n",
       "1275  2021-06-29       8217          288       8506   알수없음\n",
       "1276  2021-06-30       8217          288       8505   알수없음\n",
       "\n",
       "[1277 rows x 5 columns]"
      ]
     },
     "execution_count": 37,
     "metadata": {},
     "output_type": "execute_result"
    }
   ],
   "source": [
    "unknown"
   ]
  },
  {
   "cell_type": "code",
   "execution_count": 38,
   "metadata": {},
   "outputs": [],
   "source": [
    "df_final = pd.concat([df,unknown])"
   ]
  },
  {
   "cell_type": "code",
   "execution_count": 39,
   "metadata": {},
   "outputs": [
    {
     "data": {
      "text/html": [
       "<div>\n",
       "<style scoped>\n",
       "    .dataframe tbody tr th:only-of-type {\n",
       "        vertical-align: middle;\n",
       "    }\n",
       "\n",
       "    .dataframe tbody tr th {\n",
       "        vertical-align: top;\n",
       "    }\n",
       "\n",
       "    .dataframe thead th {\n",
       "        text-align: right;\n",
       "    }\n",
       "</style>\n",
       "<table border=\"1\" class=\"dataframe\">\n",
       "  <thead>\n",
       "    <tr style=\"text-align: right;\">\n",
       "      <th></th>\n",
       "      <th>base_date</th>\n",
       "      <th>emd_nm</th>\n",
       "      <th>resid_pop</th>\n",
       "      <th>foreign_pop</th>\n",
       "      <th>total_pop</th>\n",
       "    </tr>\n",
       "  </thead>\n",
       "  <tbody>\n",
       "    <tr>\n",
       "      <th>0</th>\n",
       "      <td>2018-01-01</td>\n",
       "      <td>건입동</td>\n",
       "      <td>5161</td>\n",
       "      <td>146</td>\n",
       "      <td>5307</td>\n",
       "    </tr>\n",
       "    <tr>\n",
       "      <th>1</th>\n",
       "      <td>2018-01-02</td>\n",
       "      <td>건입동</td>\n",
       "      <td>5013</td>\n",
       "      <td>145</td>\n",
       "      <td>5158</td>\n",
       "    </tr>\n",
       "    <tr>\n",
       "      <th>2</th>\n",
       "      <td>2018-01-03</td>\n",
       "      <td>건입동</td>\n",
       "      <td>5220</td>\n",
       "      <td>146</td>\n",
       "      <td>5366</td>\n",
       "    </tr>\n",
       "    <tr>\n",
       "      <th>3</th>\n",
       "      <td>2018-01-04</td>\n",
       "      <td>건입동</td>\n",
       "      <td>5082</td>\n",
       "      <td>146</td>\n",
       "      <td>5228</td>\n",
       "    </tr>\n",
       "    <tr>\n",
       "      <th>4</th>\n",
       "      <td>2018-01-05</td>\n",
       "      <td>건입동</td>\n",
       "      <td>5108</td>\n",
       "      <td>146</td>\n",
       "      <td>5254</td>\n",
       "    </tr>\n",
       "    <tr>\n",
       "      <th>...</th>\n",
       "      <td>...</td>\n",
       "      <td>...</td>\n",
       "      <td>...</td>\n",
       "      <td>...</td>\n",
       "      <td>...</td>\n",
       "    </tr>\n",
       "    <tr>\n",
       "      <th>1272</th>\n",
       "      <td>2021-06-26</td>\n",
       "      <td>알수없음</td>\n",
       "      <td>8217</td>\n",
       "      <td>288</td>\n",
       "      <td>8506</td>\n",
       "    </tr>\n",
       "    <tr>\n",
       "      <th>1273</th>\n",
       "      <td>2021-06-27</td>\n",
       "      <td>알수없음</td>\n",
       "      <td>8229</td>\n",
       "      <td>288</td>\n",
       "      <td>8517</td>\n",
       "    </tr>\n",
       "    <tr>\n",
       "      <th>1274</th>\n",
       "      <td>2021-06-28</td>\n",
       "      <td>알수없음</td>\n",
       "      <td>8221</td>\n",
       "      <td>288</td>\n",
       "      <td>8510</td>\n",
       "    </tr>\n",
       "    <tr>\n",
       "      <th>1275</th>\n",
       "      <td>2021-06-29</td>\n",
       "      <td>알수없음</td>\n",
       "      <td>8217</td>\n",
       "      <td>288</td>\n",
       "      <td>8506</td>\n",
       "    </tr>\n",
       "    <tr>\n",
       "      <th>1276</th>\n",
       "      <td>2021-06-30</td>\n",
       "      <td>알수없음</td>\n",
       "      <td>8217</td>\n",
       "      <td>288</td>\n",
       "      <td>8505</td>\n",
       "    </tr>\n",
       "  </tbody>\n",
       "</table>\n",
       "<p>53634 rows × 5 columns</p>\n",
       "</div>"
      ],
      "text/plain": [
       "       base_date emd_nm  resid_pop  foreign_pop  total_pop\n",
       "0     2018-01-01    건입동       5161          146       5307\n",
       "1     2018-01-02    건입동       5013          145       5158\n",
       "2     2018-01-03    건입동       5220          146       5366\n",
       "3     2018-01-04    건입동       5082          146       5228\n",
       "4     2018-01-05    건입동       5108          146       5254\n",
       "...          ...    ...        ...          ...        ...\n",
       "1272  2021-06-26   알수없음       8217          288       8506\n",
       "1273  2021-06-27   알수없음       8229          288       8517\n",
       "1274  2021-06-28   알수없음       8221          288       8510\n",
       "1275  2021-06-29   알수없음       8217          288       8506\n",
       "1276  2021-06-30   알수없음       8217          288       8505\n",
       "\n",
       "[53634 rows x 5 columns]"
      ]
     },
     "execution_count": 39,
     "metadata": {},
     "output_type": "execute_result"
    }
   ],
   "source": [
    "df_final"
   ]
  },
  {
   "cell_type": "code",
   "execution_count": 40,
   "metadata": {},
   "outputs": [],
   "source": [
    "df_final.columns = ['일자', '읍면동', '남_내거주', '남_외거주', '남_총거주']"
   ]
  },
  {
   "cell_type": "code",
   "execution_count": 42,
   "metadata": {},
   "outputs": [
    {
     "data": {
      "text/html": [
       "<div>\n",
       "<style scoped>\n",
       "    .dataframe tbody tr th:only-of-type {\n",
       "        vertical-align: middle;\n",
       "    }\n",
       "\n",
       "    .dataframe tbody tr th {\n",
       "        vertical-align: top;\n",
       "    }\n",
       "\n",
       "    .dataframe thead th {\n",
       "        text-align: right;\n",
       "    }\n",
       "</style>\n",
       "<table border=\"1\" class=\"dataframe\">\n",
       "  <thead>\n",
       "    <tr style=\"text-align: right;\">\n",
       "      <th></th>\n",
       "      <th>일자</th>\n",
       "      <th>읍면동</th>\n",
       "      <th>남_내거주</th>\n",
       "      <th>남_외거주</th>\n",
       "      <th>남_총거주</th>\n",
       "    </tr>\n",
       "  </thead>\n",
       "  <tbody>\n",
       "    <tr>\n",
       "      <th>0</th>\n",
       "      <td>2018-01-01</td>\n",
       "      <td>건입동</td>\n",
       "      <td>5161</td>\n",
       "      <td>146</td>\n",
       "      <td>5307</td>\n",
       "    </tr>\n",
       "    <tr>\n",
       "      <th>1</th>\n",
       "      <td>2018-01-02</td>\n",
       "      <td>건입동</td>\n",
       "      <td>5013</td>\n",
       "      <td>145</td>\n",
       "      <td>5158</td>\n",
       "    </tr>\n",
       "    <tr>\n",
       "      <th>2</th>\n",
       "      <td>2018-01-03</td>\n",
       "      <td>건입동</td>\n",
       "      <td>5220</td>\n",
       "      <td>146</td>\n",
       "      <td>5366</td>\n",
       "    </tr>\n",
       "    <tr>\n",
       "      <th>3</th>\n",
       "      <td>2018-01-04</td>\n",
       "      <td>건입동</td>\n",
       "      <td>5082</td>\n",
       "      <td>146</td>\n",
       "      <td>5228</td>\n",
       "    </tr>\n",
       "    <tr>\n",
       "      <th>4</th>\n",
       "      <td>2018-01-05</td>\n",
       "      <td>건입동</td>\n",
       "      <td>5108</td>\n",
       "      <td>146</td>\n",
       "      <td>5254</td>\n",
       "    </tr>\n",
       "    <tr>\n",
       "      <th>...</th>\n",
       "      <td>...</td>\n",
       "      <td>...</td>\n",
       "      <td>...</td>\n",
       "      <td>...</td>\n",
       "      <td>...</td>\n",
       "    </tr>\n",
       "    <tr>\n",
       "      <th>1272</th>\n",
       "      <td>2021-06-26</td>\n",
       "      <td>알수없음</td>\n",
       "      <td>8217</td>\n",
       "      <td>288</td>\n",
       "      <td>8506</td>\n",
       "    </tr>\n",
       "    <tr>\n",
       "      <th>1273</th>\n",
       "      <td>2021-06-27</td>\n",
       "      <td>알수없음</td>\n",
       "      <td>8229</td>\n",
       "      <td>288</td>\n",
       "      <td>8517</td>\n",
       "    </tr>\n",
       "    <tr>\n",
       "      <th>1274</th>\n",
       "      <td>2021-06-28</td>\n",
       "      <td>알수없음</td>\n",
       "      <td>8221</td>\n",
       "      <td>288</td>\n",
       "      <td>8510</td>\n",
       "    </tr>\n",
       "    <tr>\n",
       "      <th>1275</th>\n",
       "      <td>2021-06-29</td>\n",
       "      <td>알수없음</td>\n",
       "      <td>8217</td>\n",
       "      <td>288</td>\n",
       "      <td>8506</td>\n",
       "    </tr>\n",
       "    <tr>\n",
       "      <th>1276</th>\n",
       "      <td>2021-06-30</td>\n",
       "      <td>알수없음</td>\n",
       "      <td>8217</td>\n",
       "      <td>288</td>\n",
       "      <td>8505</td>\n",
       "    </tr>\n",
       "  </tbody>\n",
       "</table>\n",
       "<p>53634 rows × 5 columns</p>\n",
       "</div>"
      ],
      "text/plain": [
       "              일자   읍면동  남_내거주  남_외거주  남_총거주\n",
       "0     2018-01-01   건입동   5161    146   5307\n",
       "1     2018-01-02   건입동   5013    145   5158\n",
       "2     2018-01-03   건입동   5220    146   5366\n",
       "3     2018-01-04   건입동   5082    146   5228\n",
       "4     2018-01-05   건입동   5108    146   5254\n",
       "...          ...   ...    ...    ...    ...\n",
       "1272  2021-06-26  알수없음   8217    288   8506\n",
       "1273  2021-06-27  알수없음   8229    288   8517\n",
       "1274  2021-06-28  알수없음   8221    288   8510\n",
       "1275  2021-06-29  알수없음   8217    288   8506\n",
       "1276  2021-06-30  알수없음   8217    288   8505\n",
       "\n",
       "[53634 rows x 5 columns]"
      ]
     },
     "execution_count": 42,
     "metadata": {},
     "output_type": "execute_result"
    }
   ],
   "source": [
    "df_final"
   ]
  },
  {
   "cell_type": "code",
   "execution_count": 41,
   "metadata": {},
   "outputs": [],
   "source": [
    "df_final.to_csv('../data/processed_data/남성_거주인구.csv',encoding='cp949',index=False)"
   ]
  }
 ],
 "metadata": {
  "kernelspec": {
   "display_name": "Python 3",
   "language": "python",
   "name": "python3"
  },
  "language_info": {
   "codemirror_mode": {
    "name": "ipython",
    "version": 3
   },
   "file_extension": ".py",
   "mimetype": "text/x-python",
   "name": "python",
   "nbconvert_exporter": "python",
   "pygments_lexer": "ipython3",
   "version": "3.7.9"
  }
 },
 "nbformat": 4,
 "nbformat_minor": 4
}
